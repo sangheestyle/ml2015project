{
 "cells": [
  {
   "cell_type": "markdown",
   "metadata": {},
   "source": [
    "# model 02\n",
    "\n",
    "\n",
    "## Load train, test, questions data from pklz\n",
    "\n",
    "First of all, we need to read those three data set."
   ]
  },
  {
   "cell_type": "code",
   "execution_count": 1,
   "metadata": {
    "collapsed": true
   },
   "outputs": [],
   "source": [
    "import gzip\n",
    "import cPickle as pickle"
   ]
  },
  {
   "cell_type": "code",
   "execution_count": 2,
   "metadata": {
    "collapsed": false
   },
   "outputs": [],
   "source": [
    "with gzip.open(\"../data/train.pklz\", \"rb\") as train_file:\n",
    "    train_set = pickle.load(train_file)\n",
    "\n",
    "with gzip.open(\"../data/test.pklz\", \"rb\") as test_file:\n",
    "    test_set = pickle.load(test_file)\n",
    "\n",
    "with gzip.open(\"../data/questions.pklz\", \"rb\") as questions_file:\n",
    "    questions = pickle.load(questions_file)"
   ]
  },
  {
   "cell_type": "markdown",
   "metadata": {},
   "source": [
    "## Make training set\n",
    "\n",
    "For training model, we might need to make feature and lable pair. In this case, we will use only uid, qid, and position for feature."
   ]
  },
  {
   "cell_type": "code",
   "execution_count": 3,
   "metadata": {
    "collapsed": false
   },
   "outputs": [],
   "source": [
    "X = []\n",
    "Y = []\n",
    "\n",
    "for key in train_set:\n",
    "    # We only care about positive case at this time\n",
    "    if train_set[key]['position'] < 0:\n",
    "        continue\n",
    "    uid = train_set[key]['uid']\n",
    "    qid = train_set[key]['qid']\n",
    "    pos = train_set[key]['position']\n",
    "    q_length = max(questions[qid]['pos_token'].keys())\n",
    "    feat = [uid, qid, q_length]\n",
    "    X.append(feat)\n",
    "    Y.append([pos])"
   ]
  },
  {
   "cell_type": "code",
   "execution_count": 4,
   "metadata": {
    "collapsed": false
   },
   "outputs": [
    {
     "name": "stdout",
     "output_type": "stream",
     "text": [
      "20819\n",
      "20819\n",
      "[0, 1, 77] [61.0]\n"
     ]
    }
   ],
   "source": [
    "print len(X)\n",
    "print len(Y)\n",
    "print X[0], Y[0]"
   ]
  },
  {
   "cell_type": "markdown",
   "metadata": {},
   "source": [
    "It means that user 0 tried to solve question number 1 which has 77 tokens for question and he or she answered at 61st token.\n",
    "\n",
    "## Train model and make predictions\n",
    "\n",
    "Let's train model and make predictions. We will use simple Linear Regression at this moment."
   ]
  },
  {
   "cell_type": "code",
   "execution_count": 5,
   "metadata": {
    "collapsed": false
   },
   "outputs": [
    {
     "name": "stdout",
     "output_type": "stream",
     "text": [
      "Cross validation r-squared scores: 0.270443792668\n",
      "[ 0.27141933  0.31467769  0.2553982   0.20843913  0.27169493  0.20757046\n",
      "  0.22137434  0.34932668  0.25841249  0.34612469]\n",
      "Cross validation r-squared scores: 0.270443792439\n",
      "[ 0.27141933  0.31467769  0.2553982   0.20843913  0.27169493  0.20757046\n",
      "  0.22137435  0.34932668  0.25841248  0.34612468]\n",
      "Cross validation r-squared scores: 0.27043903016\n",
      "[ 0.27139779  0.31474643  0.25536653  0.20835685  0.27168556  0.20768149\n",
      "  0.22161699  0.34940817  0.25826054  0.34586995]\n",
      "Cross validation r-squared scores: 0.270438825246\n",
      "[ 0.27142147  0.31472377  0.25538215  0.20838956  0.27167852  0.2076529\n",
      "  0.22154786  0.349398    0.25828273  0.3459113 ]\n"
     ]
    }
   ],
   "source": [
    "from sklearn.linear_model import LinearRegression, Ridge, Lasso, ElasticNet\n",
    "from sklearn.cross_validation import train_test_split, cross_val_score\n",
    "\n",
    "\n",
    "X_train, X_test, Y_train, Y_test = train_test_split (X, Y)\n",
    "\n",
    "regressor = LinearRegression()\n",
    "scores = cross_val_score(regressor, X, Y, cv=10)\n",
    "print 'Cross validation r-squared scores:', scores.mean()\n",
    "print scores\n",
    "\n",
    "regressor = Ridge()\n",
    "scores = cross_val_score(regressor, X, Y, cv=10)\n",
    "print 'Cross validation r-squared scores:', scores.mean()\n",
    "print scores\n",
    "\n",
    "regressor = Lasso()\n",
    "scores = cross_val_score(regressor, X, Y, cv=10)\n",
    "print 'Cross validation r-squared scores:', scores.mean()\n",
    "print scores\n",
    "\n",
    "regressor = ElasticNet()\n",
    "scores = cross_val_score(regressor, X, Y, cv=10)\n",
    "print 'Cross validation r-squared scores:', scores.mean()\n",
    "print scores"
   ]
  },
  {
   "cell_type": "code",
   "execution_count": 182,
   "metadata": {
    "collapsed": false
   },
   "outputs": [],
   "source": [
    "from sklearn.linear_model import SGDRegressor\n",
    "from sklearn.cross_validation import cross_val_score\n",
    "from sklearn.preprocessing import StandardScaler\n",
    "from sklearn.cross_validation import train_test_split\n",
    "\n",
    "\n",
    "X_scaler = StandardScaler()\n",
    "Y_scaler = StandardScaler()\n",
    "X_train, X_test, Y_train, Y_test = train_test_split (X, Y)\n",
    "X_train = X_scaler.fit_transform(X_train)\n",
    "Y_train = Y_scaler.fit_transform(Y_train)\n",
    "X_test = X_scaler.fit_transform(X_test)\n",
    "Y_test = Y_scaler.fit_transform(Y_test)"
   ]
  },
  {
   "cell_type": "markdown",
   "metadata": {},
   "source": [
    "http://scikit-learn.org/stable/modules/generated/sklearn.linear_model.SGDRegressor.html\n",
    "\n",
    "There has four loss-function. ‘squared_loss’, ‘huber’, ‘epsilon_insensitive’, or ‘squared_epsilon_insensitive’. Among those, squared_loss is the best in this case."
   ]
  },
  {
   "cell_type": "code",
   "execution_count": 153,
   "metadata": {
    "collapsed": false
   },
   "outputs": [
    {
     "name": "stderr",
     "output_type": "stream",
     "text": [
      "/home/sanghee/.pyenv/versions/ml/lib/python2.7/site-packages/sklearn/utils/validation.py:444: DataConversionWarning: A column-vector y was passed when a 1d array was expected. Please change the shape of y to (n_samples, ), for example using ravel().\n",
      "  y = column_or_1d(y, warn=True)\n",
      "/home/sanghee/.pyenv/versions/ml/lib/python2.7/site-packages/sklearn/utils/validation.py:444: DataConversionWarning: A column-vector y was passed when a 1d array was expected. Please change the shape of y to (n_samples, ), for example using ravel().\n",
      "  y = column_or_1d(y, warn=True)\n",
      "/home/sanghee/.pyenv/versions/ml/lib/python2.7/site-packages/sklearn/utils/validation.py:444: DataConversionWarning: A column-vector y was passed when a 1d array was expected. Please change the shape of y to (n_samples, ), for example using ravel().\n",
      "  y = column_or_1d(y, warn=True)\n",
      "/home/sanghee/.pyenv/versions/ml/lib/python2.7/site-packages/sklearn/utils/validation.py:444: DataConversionWarning: A column-vector y was passed when a 1d array was expected. Please change the shape of y to (n_samples, ), for example using ravel().\n",
      "  y = column_or_1d(y, warn=True)\n"
     ]
    },
    {
     "name": "stdout",
     "output_type": "stream",
     "text": [
      "Cross validation r-squared scores: 0.314327371132\n",
      "[ 0.31767204  0.26263766  0.29267964  0.34132513  0.33904661  0.29226138\n",
      "  0.29671757  0.29541327  0.37105898  0.33446145]\n"
     ]
    },
    {
     "name": "stderr",
     "output_type": "stream",
     "text": [
      "/home/sanghee/.pyenv/versions/ml/lib/python2.7/site-packages/sklearn/utils/validation.py:444: DataConversionWarning: A column-vector y was passed when a 1d array was expected. Please change the shape of y to (n_samples, ), for example using ravel().\n",
      "  y = column_or_1d(y, warn=True)\n",
      "/home/sanghee/.pyenv/versions/ml/lib/python2.7/site-packages/sklearn/utils/validation.py:444: DataConversionWarning: A column-vector y was passed when a 1d array was expected. Please change the shape of y to (n_samples, ), for example using ravel().\n",
      "  y = column_or_1d(y, warn=True)\n",
      "/home/sanghee/.pyenv/versions/ml/lib/python2.7/site-packages/sklearn/utils/validation.py:444: DataConversionWarning: A column-vector y was passed when a 1d array was expected. Please change the shape of y to (n_samples, ), for example using ravel().\n",
      "  y = column_or_1d(y, warn=True)\n",
      "/home/sanghee/.pyenv/versions/ml/lib/python2.7/site-packages/sklearn/utils/validation.py:444: DataConversionWarning: A column-vector y was passed when a 1d array was expected. Please change the shape of y to (n_samples, ), for example using ravel().\n",
      "  y = column_or_1d(y, warn=True)\n",
      "/home/sanghee/.pyenv/versions/ml/lib/python2.7/site-packages/sklearn/utils/validation.py:444: DataConversionWarning: A column-vector y was passed when a 1d array was expected. Please change the shape of y to (n_samples, ), for example using ravel().\n",
      "  y = column_or_1d(y, warn=True)\n",
      "/home/sanghee/.pyenv/versions/ml/lib/python2.7/site-packages/sklearn/utils/validation.py:444: DataConversionWarning: A column-vector y was passed when a 1d array was expected. Please change the shape of y to (n_samples, ), for example using ravel().\n",
      "  y = column_or_1d(y, warn=True)\n"
     ]
    }
   ],
   "source": [
    "regressor = SGDRegressor(loss='squared_loss', penalty='l1')\n",
    "scores = cross_val_score(regressor, X_train, Y_train, cv=10)\n",
    "print 'Cross validation r-squared scores:', scores.mean()\n",
    "print scores"
   ]
  },
  {
   "cell_type": "code",
   "execution_count": 154,
   "metadata": {
    "collapsed": false
   },
   "outputs": [],
   "source": [
    "X_test = []\n",
    "test_id = []\n",
    "\n",
    "for key in test_set:\n",
    "    test_id.append(key)\n",
    "    uid = test_set[key]['uid']\n",
    "    qid = test_set[key]['qid']\n",
    "    q_length = max(questions[qid]['pos_token'].keys())\n",
    "    feat = [uid, qid, q_length]\n",
    "    X_test.append(feat)\n",
    "\n",
    "    \n",
    "X_scaler = StandardScaler()\n",
    "Y_scaler = StandardScaler()\n",
    "X_train = X_scaler.fit_transform(X)\n",
    "Y_train = Y_scaler.fit_transform(Y)\n",
    "X_test = X_scaler.fit_transform(X_test)"
   ]
  },
  {
   "cell_type": "code",
   "execution_count": 155,
   "metadata": {
    "collapsed": false,
    "scrolled": true
   },
   "outputs": [
    {
     "name": "stdout",
     "output_type": "stream",
     "text": [
      "4749\n"
     ]
    },
    {
     "name": "stderr",
     "output_type": "stream",
     "text": [
      "/home/sanghee/.pyenv/versions/ml/lib/python2.7/site-packages/sklearn/utils/validation.py:444: DataConversionWarning: A column-vector y was passed when a 1d array was expected. Please change the shape of y to (n_samples, ), for example using ravel().\n",
      "  y = column_or_1d(y, warn=True)\n"
     ]
    },
    {
     "data": {
      "text/plain": [
       "[[7, 54.823288886368189],\n",
       " [14, 52.562402581610151],\n",
       " [21, 53.435212507132782],\n",
       " [28, 44.051237652777864],\n",
       " [35, 69.858409893632682]]"
      ]
     },
     "execution_count": 155,
     "metadata": {},
     "output_type": "execute_result"
    }
   ],
   "source": [
    "regressor.fit(X_train, Y_train)\n",
    "predictions = regressor.predict(X_test)\n",
    "predictions = Y_scaler.inverse_transform(predictions)\n",
    "predictions = sorted([[id, predictions[index]] for index, id in enumerate(test_id)])\n",
    "print len(predictions)\n",
    "predictions[:5]"
   ]
  },
  {
   "cell_type": "markdown",
   "metadata": {},
   "source": [
    "Here is 4749 predictions.\n",
    "\n",
    "## Writing submission.\n",
    "\n",
    "OK, let's writing submission into guess.csv file. In the given submission form, we realized that we need to put header. So, we will insert header at the first of predictions, and then make it as a file."
   ]
  },
  {
   "cell_type": "code",
   "execution_count": 156,
   "metadata": {
    "collapsed": true
   },
   "outputs": [],
   "source": [
    "import csv\n",
    "\n",
    "\n",
    "predictions.insert(0,[\"id\", \"position\"])\n",
    "with open('guess.csv', 'wb') as fp:\n",
    "    writer = csv.writer(fp, delimiter=',')\n",
    "    writer.writerows(predictions)"
   ]
  },
  {
   "cell_type": "markdown",
   "metadata": {},
   "source": [
    "All right. Let's submit!\n",
    "\n",
    "And... we got... 5th ranked. It's worse than the first submission. Let's think about why.\n",
    "\n",
    "**5 \tnew \tCU_K-ml_Stars \t96.50206\t2 \tMon, 06 Apr 2015 21:13:50 **"
   ]
  },
  {
   "cell_type": "code",
   "execution_count": null,
   "metadata": {
    "collapsed": true
   },
   "outputs": [],
   "source": []
  }
 ],
 "metadata": {
  "kernelspec": {
   "display_name": "Python 2",
   "language": "python",
   "name": "python2"
  },
  "language_info": {
   "codemirror_mode": {
    "name": "ipython",
    "version": 2
   },
   "file_extension": ".py",
   "mimetype": "text/x-python",
   "name": "python",
   "nbconvert_exporter": "python",
   "pygments_lexer": "ipython2",
   "version": "2.7.8"
  }
 },
 "nbformat": 4,
 "nbformat_minor": 0
}
