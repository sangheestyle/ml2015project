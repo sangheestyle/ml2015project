{
 "cells": [
  {
   "cell_type": "markdown",
   "metadata": {},
   "source": [
    "# model06: refactoring model05\n",
    "This model is just for code clean up. So, it means there has no difference between model05 and model06 in terms of result. However, this version is might be better for your code base for next step than model 01 to model 05.\n",
    "\n",
    "## Explain this model\n",
    "\n",
    "### Model\n",
    "* Linear models: LinearRegression, Ridge, Lasso, ElasticNet\n",
    "\n",
    "### Features\n",
    "* uid\n",
    "* qid\n",
    "* q_length\n",
    "* category\n",
    "* answer\n",
    "* avg_per_uid: average response time per user\n",
    "* avg_per_qid: average response time per question"
   ]
  },
  {
   "cell_type": "markdown",
   "metadata": {
    "collapsed": true
   },
   "source": [
    "# Let's start our experimemt"
   ]
  },
  {
   "cell_type": "markdown",
   "metadata": {},
   "source": [
    "## Step1: Read train and test data"
   ]
  },
  {
   "cell_type": "markdown",
   "metadata": {},
   "source": [
    "### Read files for train and test set\n",
    "We alread made given csv files as a pickled data for our convenience."
   ]
  },
  {
   "cell_type": "code",
   "execution_count": 138,
   "metadata": {
    "collapsed": true
   },
   "outputs": [],
   "source": [
    "import gzip\n",
    "import cPickle as pickle\n",
    "\n",
    "\n",
    "with gzip.open(\"../data/train.pklz\", \"rb\") as train_file:\n",
    "    train_set = pickle.load(train_file)\n",
    "\n",
    "with gzip.open(\"../data/test.pklz\", \"rb\") as test_file:\n",
    "    test_set = pickle.load(test_file)\n",
    "\n",
    "with gzip.open(\"../data/questions.pklz\", \"rb\") as questions_file:\n",
    "    questions = pickle.load(questions_file)"
   ]
  },
  {
   "cell_type": "markdown",
   "metadata": {},
   "source": [
    "### What they have?\n",
    "Just look at what each set have."
   ]
  },
  {
   "cell_type": "code",
   "execution_count": 139,
   "metadata": {
    "collapsed": false
   },
   "outputs": [
    {
     "name": "stdout",
     "output_type": "stream",
     "text": [
      "* train_set: {'answer': 'cole', 'qid': 1, 'uid': 0, 'position': 61.0}\n",
      "* test_set: {'qid': 1, 'uid': 6}\n",
      "* question keys: ['answer', 'category', 'group', 'pos_token', 'question']\n"
     ]
    },
    {
     "data": {
      "text/plain": [
       "('* question contents:',\n",
       " {'answer': 'thomas cole',\n",
       "  'category': 'Fine Arts',\n",
       "  'group': 'test',\n",
       "  'pos_token': {0: '',\n",
       "   1: 'painters',\n",
       "   2: 'indulgence',\n",
       "   4: 'visual',\n",
       "   5: 'fantasy',\n",
       "   7: 'appreciation',\n",
       "   9: 'different',\n",
       "   10: 'historic',\n",
       "   11: 'architectural',\n",
       "   12: 'styles',\n",
       "   15: 'seen',\n",
       "   18: '1840',\n",
       "   19: 'architects',\n",
       "   20: 'dream',\n",
       "   23: 'series',\n",
       "   25: 'paintings',\n",
       "   28: 'last',\n",
       "   31: 'mohicans',\n",
       "   33: 'made',\n",
       "   35: 'three',\n",
       "   36: 'year',\n",
       "   37: 'trip',\n",
       "   39: 'europe',\n",
       "   41: '1829',\n",
       "   45: 'better',\n",
       "   46: 'known',\n",
       "   49: 'trip',\n",
       "   50: 'four',\n",
       "   51: 'years',\n",
       "   52: 'earlier',\n",
       "   56: 'journeyed',\n",
       "   59: 'hudson',\n",
       "   60: 'river',\n",
       "   63: 'catskill',\n",
       "   64: 'mountains',\n",
       "   65: 'ftp',\n",
       "   66: 'name',\n",
       "   68: 'this_painter',\n",
       "   71: 'oxbow',\n",
       "   74: 'voyage',\n",
       "   76: 'life',\n",
       "   77: 'series'},\n",
       "  'question': \"This painter's indulgence of visual fantasy, and appreciation of different historic architectural styles can be seen in his 1840 Architect's Dream. After a series of paintings on The Last of the Mohicans, he made a three year trip to Europe in 1829, but he is better known for a trip four years earlier in which he journeyed up the Hudson River to the Catskill Mountains. FTP, name this painter of The Oxbow and The Voyage of Life series.\"})"
      ]
     },
     "execution_count": 139,
     "metadata": {},
     "output_type": "execute_result"
    }
   ],
   "source": [
    "print \"* train_set:\", train_set[1]\n",
    "print \"* test_set:\", test_set[7]\n",
    "print \"* question keys:\", questions[1].keys()\n",
    "\"* question contents:\", questions[1]"
   ]
  },
  {
   "cell_type": "markdown",
   "metadata": {},
   "source": [
    "## Step2: Feature Engineering\n",
    "We might want to use some set of feature based on given data."
   ]
  },
  {
   "cell_type": "code",
   "execution_count": 140,
   "metadata": {
    "collapsed": false
   },
   "outputs": [],
   "source": [
    "from collections import defaultdict\n",
    "\n",
    "\"\"\"\n",
    "Calculate average position(response time) per user(uid) and question(qid).\n",
    "\"\"\"\n",
    "def get_avg_pos(data):\n",
    "    pos_uid = defaultdict(list)\n",
    "    pos_qid = defaultdict(list)\n",
    "\n",
    "    for key in data:\n",
    "        uid = data[key]['uid']\n",
    "        qid = data[key]['qid']\n",
    "        pos = data[key]['position']\n",
    "        pos_uid[uid].append(pos)\n",
    "        pos_qid[qid].append(pos)\n",
    "\n",
    "    avg_pos_uid = {}\n",
    "    avg_pos_qid = {}\n",
    "\n",
    "    for key in pos_uid:\n",
    "        avg_pos_uid[key] = sum(pos_uid[key]) / len(pos_uid[key])\n",
    "\n",
    "    for key in pos_qid:\n",
    "        avg_pos_qid[key] = sum(pos_qid[key]) / len(pos_qid[key])\n",
    "    \n",
    "    return [avg_pos_uid, avg_pos_qid]\n",
    "\n",
    "\n",
    "\"\"\"\n",
    "Make feature vectors for given data set\n",
    "\"\"\"\n",
    "def featurize(data, avg_pos):\n",
    "    X = []\n",
    "    avg_pos_uid = avg_pos[0]\n",
    "    avg_pos_qid = avg_pos[1]\n",
    "    for key in data:\n",
    "        uid = data[key]['uid']\n",
    "        qid = data[key]['qid']\n",
    "        q_length = max(questions[qid]['pos_token'].keys())\n",
    "        category = questions[qid]['category'].lower()\n",
    "        answer = questions[qid]['answer'].lower()\n",
    "        if uid in avg_pos_uid:\n",
    "            pos_uid = avg_pos_uid[uid]\n",
    "        else:\n",
    "            pos_uid = sum(avg_pos_uid.values()) / float(len(avg_pos_uid.values()))\n",
    "            \n",
    "        if qid in avg_pos_qid:\n",
    "            pos_qid = avg_pos_qid[qid]\n",
    "        else:\n",
    "            pos_qid = sum(avg_pos_qid.values()) / float(len(avg_pos_qid.values()))\n",
    "            \n",
    "        feat = {\"uid\": str(uid),\n",
    "                \"qid\": str(qid),\n",
    "                \"q_length\": q_length,\n",
    "                \"category\": category,\n",
    "                \"answer\": answer,\n",
    "                \"avg_pos_uid\": pos_uid,\n",
    "                \"avg_pos_qid\": pos_qid\n",
    "               }\n",
    "        X.append(feat)\n",
    "    \n",
    "    return X\n",
    "\n",
    "\n",
    "\"\"\"\n",
    "Get positions\n",
    "\"\"\"\n",
    "def get_positions(data):\n",
    "    Y = []\n",
    "    for key in data:\n",
    "        position = data[key]['position']\n",
    "        Y.append([position])\n",
    "    \n",
    "    return Y"
   ]
  },
  {
   "cell_type": "markdown",
   "metadata": {},
   "source": [
    "Look at the feature vector."
   ]
  },
  {
   "cell_type": "code",
   "execution_count": 141,
   "metadata": {
    "collapsed": false
   },
   "outputs": [
    {
     "name": "stdout",
     "output_type": "stream",
     "text": [
      "28494\n",
      "28494\n",
      "{'category': 'fine arts', 'uid': '0', 'qid': '1', 'avg_pos_uid': 55.708333333333336, 'q_length': 77, 'answer': 'thomas cole', 'avg_pos_qid': 51.0} [61.0]\n"
     ]
    }
   ],
   "source": [
    "X_train = featurize(train_set, get_avg_pos(train_set))\n",
    "Y_train = get_positions(train_set)\n",
    "print len(X_train)\n",
    "print len(Y_train)\n",
    "print X_train[0], Y_train[0]"
   ]
  },
  {
   "cell_type": "markdown",
   "metadata": {},
   "source": [
    "## Step3: Cross varidation"
   ]
  },
  {
   "cell_type": "code",
   "execution_count": 142,
   "metadata": {
    "collapsed": false
   },
   "outputs": [
    {
     "name": "stdout",
     "output_type": "stream",
     "text": [
      "  (0, 920)\t1.0\n",
      "  (0, 1020)\t51.0\n",
      "  (0, 1021)\t55.7083333333\n",
      "  (0, 1026)\t1.0\n",
      "  (0, 1033)\t77.0\n",
      "  (0, 1034)\t1.0\n",
      "  (0, 6958)\t1.0\n"
     ]
    }
   ],
   "source": [
    "from sklearn.feature_extraction import DictVectorizer\n",
    "\n",
    "\n",
    "vec = DictVectorizer()\n",
    "X_train = vec.fit_transform(X_train)\n",
    "print X_train[0]"
   ]
  },
  {
   "cell_type": "code",
   "execution_count": 143,
   "metadata": {
    "collapsed": false
   },
   "outputs": [
    {
     "name": "stdout",
     "output_type": "stream",
     "text": [
      "=== Linear Cross validation RMSE scores:\n",
      "LinearRegression 70.2538305442\n",
      "Ridge 70.2511715134\n",
      "Lasso 68.8414140964\n",
      "ElasticNet 68.8415869663\n"
     ]
    }
   ],
   "source": [
    "from sklearn import linear_model\n",
    "from sklearn.cross_validation import train_test_split, cross_val_score\n",
    "import math\n",
    "from numpy import abs, sqrt\n",
    "\n",
    "\n",
    "regressor_names = \"\"\"\n",
    "LinearRegression\n",
    "Ridge\n",
    "Lasso\n",
    "ElasticNet\n",
    "\"\"\"\n",
    "print \"=== Linear Cross validation RMSE scores:\"\n",
    "for regressor in regressor_names.split():\n",
    "    scores = cross_val_score(getattr(linear_model, regressor)(), X_train, Y_train, cv=10,\\\n",
    "                             scoring='mean_squared_error')\n",
    "    print regressor, sqrt(abs(scores)).mean()"
   ]
  },
  {
   "cell_type": "markdown",
   "metadata": {},
   "source": [
    "## Step4: Prediction"
   ]
  },
  {
   "cell_type": "markdown",
   "metadata": {},
   "source": [
    "### Training model"
   ]
  },
  {
   "cell_type": "code",
   "execution_count": 149,
   "metadata": {
    "collapsed": false
   },
   "outputs": [
    {
     "name": "stdout",
     "output_type": "stream",
     "text": [
      "{'category': 'physics', 'uid': '62', 'qid': '113722', 'avg_pos_uid': 31.233590733590734, 'q_length': 112, 'answer': 'ferromagnetism', 'avg_pos_qid': 113.0}\n",
      "{'category': 'mathematics', 'uid': '131', 'qid': '9967', 'avg_pos_uid': 36.31506849315068, 'q_length': 104, 'answer': 'david hilbert', 'avg_pos_qid': 15.571428571428571}\n",
      "{'category': 'literature', 'uid': '20', 'qid': '103709', 'avg_pos_uid': 55.74681753889675, 'q_length': 121, 'answer': 'duino elegies', 'avg_pos_qid': 41.74693710638917}\n",
      "{'category': 'literature', 'uid': '115', 'qid': '4841', 'avg_pos_uid': 63.7429718875502, 'q_length': 101, 'answer': 'light in august', 'avg_pos_qid': 35.23076923076923}\n",
      "{'category': 'fine arts', 'uid': '6', 'qid': '1', 'avg_pos_uid': 36.80373831775701, 'q_length': 77, 'answer': 'thomas cole', 'avg_pos_qid': 51.0}\n",
      "{'category': 'social studies', 'uid': '64', 'qid': '113725', 'avg_pos_uid': 62.46045694200352, 'q_length': 147, 'answer': 'karl marx', 'avg_pos_qid': 101.33333333333333}\n",
      "{'category': 'mathematics', 'uid': '45', 'qid': '9972', 'avg_pos_uid': 55.51875, 'q_length': 108, 'answer': 'quicksort', 'avg_pos_qid': -87.0}\n",
      "{'category': 'literature', 'uid': '43', 'qid': '5408', 'avg_pos_uid': 33.85839160839161, 'q_length': 92, 'answer': 'midnights children', 'avg_pos_qid': 55.4}\n",
      "{'category': 'social studies', 'uid': '119', 'qid': '108613', 'avg_pos_uid': 58.797814207650276, 'q_length': 108, 'answer': 'beowulf', 'avg_pos_qid': 77.77777777777777}\n",
      "{'category': 'literature', 'uid': '12', 'qid': '5', 'avg_pos_uid': 31.45751633986928, 'q_length': 74, 'answer': 'swing', 'avg_pos_qid': 75.0}\n"
     ]
    }
   ],
   "source": [
    "X_train = featurize(train_set, get_avg_pos(train_set))\n",
    "X_test = featurize(test_set, get_avg_pos(train_set))\n",
    "for x in X_test[:10]:\n",
    "    print x\n",
    "\n",
    "X_train_length = len(X_train)\n",
    "X = vec.fit_transform(X_train + X_test)\n",
    "X_train = X[:X_train_length]\n",
    "X_test = X[X_train_length:]"
   ]
  },
  {
   "cell_type": "markdown",
   "metadata": {},
   "source": [
    "### Testing model(Prediction)"
   ]
  },
  {
   "cell_type": "code",
   "execution_count": 150,
   "metadata": {
    "collapsed": false
   },
   "outputs": [
    {
     "data": {
      "text/plain": [
       "Lasso(alpha=1.0, copy_X=True, fit_intercept=True, max_iter=1000,\n",
       "   normalize=False, positive=False, precompute=False, random_state=None,\n",
       "   selection='cyclic', tol=0.0001, warm_start=False)"
      ]
     },
     "execution_count": 150,
     "metadata": {},
     "output_type": "execute_result"
    }
   ],
   "source": [
    "regressor = Lasso()\n",
    "regressor.fit(X_train, Y_train)"
   ]
  },
  {
   "cell_type": "code",
   "execution_count": 133,
   "metadata": {
    "collapsed": false
   },
   "outputs": [
    {
     "name": "stdout",
     "output_type": "stream",
     "text": [
      "4749\n"
     ]
    },
    {
     "data": {
      "text/plain": [
       "[[7, 48.586204647017659],\n",
       " [14, 67.451992463706517],\n",
       " [21, 37.980573324627933],\n",
       " [28, 61.857326253311747],\n",
       " [35, 74.678727574716788]]"
      ]
     },
     "execution_count": 133,
     "metadata": {},
     "output_type": "execute_result"
    }
   ],
   "source": [
    "predictions = regressor.predict(X_test)\n",
    "predictions = sorted([[id, predictions[index]] for index, id in enumerate(test_set.keys())])\n",
    "print len(predictions)\n",
    "predictions[:5]"
   ]
  },
  {
   "cell_type": "markdown",
   "metadata": {},
   "source": [
    "## Step5: Writing submission."
   ]
  },
  {
   "cell_type": "code",
   "execution_count": 134,
   "metadata": {
    "collapsed": true
   },
   "outputs": [],
   "source": [
    "import csv\n",
    "\n",
    "\n",
    "predictions.insert(0,[\"id\", \"position\"])\n",
    "with open('guess.csv', 'wb') as fp:\n",
    "    writer = csv.writer(fp, delimiter=',')\n",
    "    writer.writerows(predictions)"
   ]
  },
  {
   "cell_type": "markdown",
   "metadata": {},
   "source": [
    "It scores 85.85977"
   ]
  }
 ],
 "metadata": {
  "kernelspec": {
   "display_name": "Python 2",
   "language": "python",
   "name": "python2"
  },
  "language_info": {
   "codemirror_mode": {
    "name": "ipython",
    "version": 2
   },
   "file_extension": ".py",
   "mimetype": "text/x-python",
   "name": "python",
   "nbconvert_exporter": "python",
   "pygments_lexer": "ipython2",
   "version": "2.7.8"
  }
 },
 "nbformat": 4,
 "nbformat_minor": 0
}
