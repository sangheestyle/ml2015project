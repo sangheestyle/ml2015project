{
 "cells": [
  {
   "cell_type": "markdown",
   "metadata": {},
   "source": [
    "# Model13: DPGMM"
   ]
  },
  {
   "cell_type": "markdown",
   "metadata": {},
   "source": [
    "## A. Functions\n",
    "\n",
    "There have four different functions.\n",
    "\n",
    "* Data reader: Read data from file.\n",
    "* Feature functions(private): Functions which extract features are placed in here. It means that if you make a specific feature function, you can add the one into here.\n",
    "* Feature function(public): We can use only this function for feature extraction.\n",
    "* Utility functions: All the funtions except functions which are mentioned in above should be placed in here."
   ]
  },
  {
   "cell_type": "markdown",
   "metadata": {},
   "source": [
    "### Data reader"
   ]
  },
  {
   "cell_type": "code",
   "execution_count": 1,
   "metadata": {
    "collapsed": true
   },
   "outputs": [],
   "source": [
    "import gzip\n",
    "import pickle\n",
    "from os import path\n",
    "from collections import defaultdict\n",
    "from numpy import sign\n",
    "\n",
    "\n",
    "\"\"\"\n",
    "Load buzz data as a dictionary.\n",
    "You can give parameter for data so that you will get what you need only.\n",
    "\"\"\"\n",
    "def load_buzz(root='../data', data=['train', 'test', 'questions'], format='pklz'):\n",
    "    buzz_data = {}\n",
    "    for ii in data:\n",
    "        file_path = path.join(root, ii + \".\" + format)\n",
    "        with gzip.open(file_path, \"rb\") as fp:\n",
    "          buzz_data[ii] = pickle.load(fp)\n",
    "        \n",
    "    return buzz_data"
   ]
  },
  {
   "cell_type": "markdown",
   "metadata": {},
   "source": [
    "### Feature functions(private)"
   ]
  },
  {
   "cell_type": "code",
   "execution_count": 2,
   "metadata": {
    "collapsed": false
   },
   "outputs": [],
   "source": [
    "from numpy import sign, abs\n",
    "\n",
    "\n",
    "def _feat_basic(bd, group):\n",
    "    X = []\n",
    "    for item in bd[group].items():\n",
    "        qid = item[1]['qid']\n",
    "        q = bd['questions'][qid]\n",
    "        #item[1]['q_length'] = max(q['pos_token'].keys())\n",
    "        item[1]['q_length'] = len(q['question'].split())\n",
    "        item[1]['category'] = q['category'].lower()\n",
    "        item[1]['answer'] = q['answer'].lower()\n",
    "        X.append(item[1])\n",
    "        \n",
    "    return X\n",
    "        \n",
    "        \n",
    "def _feat_sign_val(data):\n",
    "    for item in data:\n",
    "        item['sign_val'] = sign(item['position'])\n",
    "\n",
    "def _get_pos(bd, sign_val=None):\n",
    "    # bd is not bd, bd is bd['train']\n",
    "    unwanted_index = []\n",
    "    pos_uid = defaultdict(list)\n",
    "    pos_qid = defaultdict(list)\n",
    "    \n",
    "    for index, key in enumerate(bd):\n",
    "        if sign_val and sign(bd[key]['position']) != sign_val:\n",
    "            unwanted_index.append(index)\n",
    "        else:\n",
    "            pos_uid[bd[key]['uid']].append(bd[key]['position'])\n",
    "            pos_qid[bd[key]['qid']].append(bd[key]['position'])\n",
    "    \n",
    "    return pos_uid, pos_qid, unwanted_index\n",
    "\n",
    "\n",
    "def _get_avg_pos(bd, sign_val=None):\n",
    "    pos_uid, pos_qid, unwanted_index = _get_pos(bd, sign_val)\n",
    "\n",
    "    avg_pos_uid = {}\n",
    "    avg_pos_qid = {}\n",
    "    \n",
    "    if not sign_val:\n",
    "        sign_val = 1\n",
    "\n",
    "    for key in pos_uid:\n",
    "        pos = pos_uid[key]\n",
    "        avg_pos_uid[key] = sign_val * (sum(pos) / len(pos))\n",
    "\n",
    "    for key in pos_qid:\n",
    "        pos = pos_qid[key]\n",
    "        avg_pos_qid[key] = sign_val * (sum(pos) / len(pos))\n",
    "    \n",
    "    return avg_pos_uid, avg_pos_qid, unwanted_index\n",
    "\n",
    "        \n",
    "def _feat_avg_pos(data, bd, group, sign_val):\n",
    "    avg_pos_uid, avg_pos_qid, unwanted_index = _get_avg_pos(bd['train'], sign_val=sign_val)\n",
    "    \n",
    "    if group == 'train':\n",
    "        for index in sorted(unwanted_index, reverse=True):\n",
    "            del data[index]\n",
    "    \n",
    "    for item in data:\n",
    "        if item['uid'] in avg_pos_uid:\n",
    "            item['avg_pos_uid'] = avg_pos_uid[item['uid']]\n",
    "        else:\n",
    "            vals = avg_pos_uid.values()\n",
    "            item['avg_pos_uid'] = sum(vals) / float(len(vals))\n",
    "              \n",
    "        if item['qid'] in avg_pos_qid:\n",
    "            item['avg_pos_qid'] = avg_pos_qid[item['qid']]\n",
    "        else:\n",
    "            vals = avg_pos_qid.values()\n",
    "            item['avg_pos_qid'] = sum(vals) / float(len(vals))\n",
    "        \n",
    "        # Response position can be longer than length of question\n",
    "        if item['avg_pos_uid'] > item['q_length']:\n",
    "            item['avg_pos_uid'] = item['q_length']\n",
    "        \n",
    "        if item['avg_pos_qid'] > item['q_length']:\n",
    "            item['avg_pos_qid'] = item['q_length']"
   ]
  },
  {
   "cell_type": "markdown",
   "metadata": {},
   "source": [
    "### Feature function(public)"
   ]
  },
  {
   "cell_type": "code",
   "execution_count": 3,
   "metadata": {
    "collapsed": true
   },
   "outputs": [],
   "source": [
    "def featurize(bd, group, sign_val=None, extra=None):\n",
    "    # Basic features\n",
    "    # qid(string), uid(string), position(float)\n",
    "    # answer'(string), 'potistion'(float), 'qid'(string), 'uid'(string)\n",
    "    X = _feat_basic(bd, group=group)\n",
    "    \n",
    "    # Some extra features\n",
    "    if extra:\n",
    "        for func_name in extra:\n",
    "            func_name = '_feat_' + func_name\n",
    "            if func_name in ['_feat_avg_pos']:\n",
    "                globals()[func_name](X, bd, group=group, sign_val=sign_val)\n",
    "            else:\n",
    "                globals()[func_name](X)\n",
    "    \n",
    "    if group == 'train':\n",
    "        y = []\n",
    "        for item in X:\n",
    "            y.append(item['position'])\n",
    "            del item['position']\n",
    "\n",
    "        return X, y\n",
    "    elif group == 'test':\n",
    "        return X\n",
    "    else:\n",
    "        raise ValueError(group, 'is not the proper type')"
   ]
  },
  {
   "cell_type": "markdown",
   "metadata": {},
   "source": [
    "### Utility functions"
   ]
  },
  {
   "cell_type": "code",
   "execution_count": 4,
   "metadata": {
    "collapsed": false
   },
   "outputs": [],
   "source": [
    "import csv\n",
    "\n",
    "\n",
    "def select(data, keys):\n",
    "    unwanted = data[0].keys() - keys\n",
    "    for item in data:\n",
    "        for unwanted_key in unwanted:\n",
    "            del item[unwanted_key]\n",
    "    return data\n",
    "\n",
    "\n",
    "def write_result(test_set, predictions, file_name='guess.csv'):\n",
    "    predictions = sorted([[id, predictions[index]] for index, id in enumerate(test_set.keys())])\n",
    "    predictions.insert(0,[\"id\", \"position\"])\n",
    "    with open(file_name, \"w\") as fp:\n",
    "        writer = csv.writer(fp, delimiter=',')\n",
    "        writer.writerows(predictions)"
   ]
  },
  {
   "cell_type": "markdown",
   "metadata": {},
   "source": [
    "## GMM"
   ]
  },
  {
   "cell_type": "markdown",
   "metadata": {},
   "source": [
    "### Classifying questions\n",
    "features: avg_pos, accuracy rate"
   ]
  },
  {
   "cell_type": "code",
   "execution_count": 5,
   "metadata": {
    "collapsed": false
   },
   "outputs": [],
   "source": [
    "%matplotlib inline\n",
    "import numpy as np\n",
    "from scipy import linalg\n",
    "import matplotlib.pyplot as plt\n",
    "import matplotlib as mpl\n",
    "\n",
    "from sklearn import mixture\n",
    "\n",
    "\n",
    "def plot_gmm(X, models, n_components, covariance_type='diag',\n",
    "            figsize=(10, 20), suptitle=None, xlabel=None, ylabel=None):\n",
    "    color_iter = ['r', 'g', 'b', 'c', 'm', 'y', 'k', 'gray', 'pink', 'lime']\n",
    "    plt.figure(figsize=figsize)\n",
    "    plt.suptitle(suptitle, fontsize=20)\n",
    "\n",
    "    for i, model in enumerate(models):\n",
    "        mm = getattr(mixture, model)(n_components=n_components,\n",
    "                                     covariance_type=covariance_type)\n",
    "        mm.fit(X_pos_qid)\n",
    "        Y = mm.predict(X_pos_qid)\n",
    "\n",
    "        plt.subplot(len(models), 1, 1 + i)\n",
    "        for i, color in enumerate(color_iter):\n",
    "            plt.scatter(X_pos_qid[Y == i, 0], X_pos_qid[Y == i, 1], .7, color=color)\n",
    "        plt.title(model, fontsize=15)\n",
    "        plt.xlabel(xlabel, fontsize=12)\n",
    "        plt.ylabel(ylabel, fontsize=12)\n",
    "        plt.grid()\n",
    "\n",
    "    plt.show()"
   ]
  },
  {
   "cell_type": "code",
   "execution_count": 6,
   "metadata": {
    "collapsed": false
   },
   "outputs": [],
   "source": [
    "from collections import UserDict\n",
    "import numpy as np\n",
    "\n",
    "\n",
    "class DictDict(UserDict):\n",
    "    def __init__(self, bd):\n",
    "        UserDict.__init__(self)\n",
    "        self._set_bd(bd)\n",
    "        \n",
    "    def sub_keys(self):\n",
    "        return self[list(self.keys())[0]].keys()\n",
    "            \n",
    "    def select(self, sub_keys):\n",
    "        vals = []\n",
    "        for key in self:\n",
    "            vals.append([self[key][sub_key] for sub_key in sub_keys])\n",
    "        return np.array(vals)\n",
    "    \n",
    "    def sub_append(self, sub_key, values):\n",
    "        for index, key in enumerate(self):\n",
    "            self[key][sub_key] = values[index]\n",
    "\n",
    "    \n",
    "class Users(DictDict):\n",
    "    def _set_bd(self, bd):\n",
    "        pos_uid, _, _ = _get_pos(bd['train'], sign_val=None)\n",
    "        for key in pos_uid:\n",
    "            u = np.array(pos_uid[key])\n",
    "            ave_pos_uid = sum(abs(u)) / float(len(u))\n",
    "            acc_ratio_uid = len(u[u > 0]) / float(len(u))\n",
    "            self[key] = {'ave_pos_uid': ave_pos_uid,\n",
    "                         'acc_ratio_uid': acc_ratio_uid}\n",
    "\n",
    "            \n",
    "class Questions(DictDict):\n",
    "    def _set_bd(self, bd):\n",
    "        _, pos_qid, _ = _get_pos(bd['train'], sign_val=None)\n",
    "        \n",
    "        for key in pos_qid:\n",
    "            u = np.array(pos_qid[key])\n",
    "            ave_pos_qid = sum(abs(u)) / float(len(u))\n",
    "            acc_ratio_qid = len(u[u > 0]) / float(len(u))\n",
    "            self[key] = bd['questions'][key]\n",
    "            self[key]['ave_pos_qid'] = ave_pos_qid\n",
    "            self[key]['acc_ratio_qid'] = acc_ratio_qid"
   ]
  },
  {
   "cell_type": "code",
   "execution_count": 7,
   "metadata": {
    "collapsed": false
   },
   "outputs": [],
   "source": [
    "users = Users(load_buzz())\n",
    "questions = Questions(load_buzz())\n",
    "X_pos_uid = users.select(['ave_pos_uid', 'acc_ratio_uid'])\n",
    "X_pos_qid = questions.select(['ave_pos_qid', 'acc_ratio_qid'])"
   ]
  },
  {
   "cell_type": "code",
   "execution_count": 8,
   "metadata": {
    "collapsed": false
   },
   "outputs": [
    {
     "data": {
      "image/png": "[encoded data removed]",
      "text/plain": [
       "<matplotlib.figure.Figure at 0x7f81918f1eb8>"
      ]
     },
     "metadata": {},
     "output_type": "display_data"
    }
   ],
   "source": [
    "plot_gmm(X_pos_uid,\n",
    "         models=['GMM', 'VBGMM', 'DPGMM'],\n",
    "         n_components=8,\n",
    "         covariance_type='diag',\n",
    "         figsize=(10, 20),\n",
    "         suptitle='Classifying users',\n",
    "         xlabel='abs(position)',\n",
    "         ylabel='accuracy ratio')"
   ]
  },
  {
   "cell_type": "code",
   "execution_count": 9,
   "metadata": {
    "collapsed": false
   },
   "outputs": [
    {
     "data": {
      "image/png": "[encoded data removed]",
      "text/plain": [
       "<matplotlib.figure.Figure at 0x7f819145eb00>"
      ]
     },
     "metadata": {},
     "output_type": "display_data"
    }
   ],
   "source": [
    "plot_gmm(X_pos_qid,\n",
    "         models=['GMM', 'VBGMM', 'DPGMM'],\n",
    "         n_components=8,\n",
    "         covariance_type='diag',\n",
    "         figsize=(10, 20),\n",
    "         suptitle='Classifying questions',\n",
    "         xlabel='abs(position)',\n",
    "         ylabel='accuracy ratio')"
   ]
  },
  {
   "cell_type": "code",
   "execution_count": 10,
   "metadata": {
    "collapsed": false
   },
   "outputs": [
    {
     "data": {
      "image/png": "[encoded data removed]",
      "text/plain": [
       "<matplotlib.figure.Figure at 0x7f819151e438>"
      ]
     },
     "metadata": {},
     "output_type": "display_data"
    }
   ],
   "source": [
    "# Question category\n",
    "n_components = 8\n",
    "gmm = mixture.DPGMM(n_components=n_components, covariance_type='diag')\n",
    "gmm.fit(X_pos_qid)\n",
    "pred_cat_qid = gmm.predict(X_pos_qid)\n",
    "\n",
    "plt.hist(pred_cat_qid, bins=50, facecolor='g', alpha=0.75)\n",
    "plt.xlabel(\"Category number\")\n",
    "plt.ylabel(\"Count\")\n",
    "plt.title(\"Question Category: \" + str(n_components) + \" categories\")\n",
    "plt.grid(True)\n",
    "plt.show()"
   ]
  },
  {
   "cell_type": "code",
   "execution_count": 20,
   "metadata": {
    "collapsed": false
   },
   "outputs": [
    {
     "data": {
      "image/png": "[encoded data removed]",
      "text/plain": [
       "<matplotlib.figure.Figure at 0x7f81927fdcf8>"
      ]
     },
     "metadata": {},
     "output_type": "display_data"
    }
   ],
   "source": [
    "# User category\n",
    "n_components = 8\n",
    "gmm = mixture.DPGMM(n_components=n_components, covariance_type='diag')\n",
    "gmm.fit(X_pos_uid)\n",
    "pred_cat_uid = gmm.predict(X_pos_uid)\n",
    "\n",
    "plt.hist(pred_cat_uid, bins=50, facecolor='g', alpha=0.75)\n",
    "plt.xlabel(\"Category number\")\n",
    "plt.ylabel(\"Count\")\n",
    "plt.title(\"User Category: \" + str(n_components) + \" categories\")\n",
    "plt.grid(True)\n",
    "plt.show()"
   ]
  },
  {
   "cell_type": "code",
   "execution_count": 21,
   "metadata": {
    "collapsed": false
   },
   "outputs": [
    {
     "name": "stdout",
     "output_type": "stream",
     "text": [
      "3\n",
      "4\n"
     ]
    }
   ],
   "source": [
    "from collections import Counter\n",
    "\n",
    "\n",
    "users.sub_append('cat_uid', [str(x) for x in pred_cat_uid])\n",
    "questions.sub_append('cat_qid', [str(x) for x in pred_cat_qid])\n",
    "\n",
    "# to get most frequent cat for some test data which do not have ids in train set\n",
    "most_pred_cat_uid = Counter(pred_cat_uid).most_common(1)[0][0]\n",
    "most_pred_cat_qid = Counter(pred_cat_qid).most_common(1)[0][0]\n",
    "\n",
    "print(most_pred_cat_uid)\n",
    "print(most_pred_cat_qid)"
   ]
  },
  {
   "cell_type": "code",
   "execution_count": 22,
   "metadata": {
    "collapsed": false
   },
   "outputs": [
    {
     "name": "stdout",
     "output_type": "stream",
     "text": [
      "{'ave_pos_uid': 96.724899598393577, 'acc_ratio_uid': 0.6465863453815262, 'cat_uid': '3'}\n",
      "{'category': 'Fine Arts', 'pos_token': {0: '', 1: 'painters', 2: 'indulgence', 4: 'visual', 5: 'fantasy', 68: 'this_painter', 7: 'appreciation', 64: 'mountains', 9: 'different', 10: 'historic', 11: 'architectural', 12: 'styles', 66: 'name', 77: 'series', 15: 'seen', 18: '1840', 19: 'architects', 20: 'dream', 23: 'series', 25: 'paintings', 28: 'last', 31: 'mohicans', 33: 'made', 35: 'three', 36: 'year', 37: 'trip', 65: 'ftp', 39: 'europe', 41: '1829', 71: 'oxbow', 45: 'better', 46: 'known', 76: 'life', 49: 'trip', 50: 'four', 51: 'years', 52: 'earlier', 56: 'journeyed', 59: 'hudson', 60: 'river', 74: 'voyage', 63: 'catskill'}, 'cat_qid': '4', 'ave_pos_qid': 70.5, 'answer': 'thomas cole', 'question': \"This painter's indulgence of visual fantasy, and appreciation of different historic architectural styles can be seen in his 1840 Architect's Dream. After a series of paintings on The Last of the Mohicans, he made a three year trip to Europe in 1829, but he is better known for a trip four years earlier in which he journeyed up the Hudson River to the Catskill Mountains. FTP, name this painter of The Oxbow and The Voyage of Life series.\", 'group': 'test', 'acc_ratio_qid': 0.875}\n"
     ]
    }
   ],
   "source": [
    "print(users[1])\n",
    "print(questions[1])"
   ]
  },
  {
   "cell_type": "markdown",
   "metadata": {},
   "source": [
    "## B. Modeling"
   ]
  },
  {
   "cell_type": "markdown",
   "metadata": {},
   "source": [
    "### Select model"
   ]
  },
  {
   "cell_type": "code",
   "execution_count": 23,
   "metadata": {
    "collapsed": false
   },
   "outputs": [],
   "source": [
    "regression_keys = ['category', 'q_length', 'qid', 'uid', 'answer', 'avg_pos_uid', 'avg_pos_qid']\n",
    "X_train, y_train = featurize(load_buzz(), group='train', sign_val=None, extra=['sign_val', 'avg_pos'])\n",
    "X_train = select(X_train, regression_keys)"
   ]
  },
  {
   "cell_type": "code",
   "execution_count": 24,
   "metadata": {
    "collapsed": false
   },
   "outputs": [],
   "source": [
    "def transform(X):\n",
    "    for index, item in enumerate(X):\n",
    "        uid = int(item['uid'])\n",
    "        qid = int(item['qid'])\n",
    "        \n",
    "        # uid\n",
    "        if int(uid) in users:\n",
    "            item['acc_ratio_uid'] = users[uid]['acc_ratio_uid']\n",
    "            item['cat_uid'] = users[uid]['cat_uid']\n",
    "        else:\n",
    "            print('Not found uid:', uid)\n",
    "            acc = users.select(['acc_ratio_uid'])\n",
    "            item['acc_ratio_uid'] = sum(acc) / float(len(acc))\n",
    "            item['cat_uid'] = most_pred_cat_uid\n",
    "\n",
    "        # qid\n",
    "        if int(qid) in questions:\n",
    "            item['acc_ratio_qid'] = questions[qid]['acc_ratio_qid']\n",
    "            item['cat_qid'] = questions[qid]['cat_qid']\n",
    "        else:\n",
    "            print('Not found qid:', qid)\n",
    "            acc = questions.select(['acc_ratio_qid'])\n",
    "            item['acc_ratio_qid'] = sum(acc) / float(len(acc))\n",
    "            item['cat_qid'] = most_pred_cat_qid\n",
    "        \n",
    "        item['uid'] = str(uid)\n",
    "        item['qid'] = str(qid)"
   ]
  },
  {
   "cell_type": "code",
   "execution_count": 25,
   "metadata": {
    "collapsed": false
   },
   "outputs": [
    {
     "data": {
      "text/plain": [
       "{'acc_ratio_qid': 0.875,\n",
       " 'acc_ratio_uid': 0.6465863453815262,\n",
       " 'answer': 'thomas cole',\n",
       " 'avg_pos_qid': 51.0,\n",
       " 'avg_pos_uid': 30.973895582329316,\n",
       " 'cat_qid': '4',\n",
       " 'cat_uid': '3',\n",
       " 'category': 'fine arts',\n",
       " 'q_length': 78,\n",
       " 'qid': '1',\n",
       " 'uid': '1'}"
      ]
     },
     "execution_count": 25,
     "metadata": {},
     "output_type": "execute_result"
    }
   ],
   "source": [
    "transform(X_train)\n",
    "X_train[1]"
   ]
  },
  {
   "cell_type": "code",
   "execution_count": 26,
   "metadata": {
    "collapsed": false
   },
   "outputs": [],
   "source": [
    "from sklearn.feature_extraction import DictVectorizer\n",
    "\n",
    "\n",
    "vec = DictVectorizer()\n",
    "X_train_dict_vec = vec.fit_transform(X_train)"
   ]
  },
  {
   "cell_type": "code",
   "execution_count": 27,
   "metadata": {
    "collapsed": false
   },
   "outputs": [
    {
     "name": "stdout",
     "output_type": "stream",
     "text": [
      "=== Linear Cross validation RMSE scores:\n",
      "LinearRegression 71.1476763952\n",
      "LassoCV 69.0737931748\n",
      "ElasticNetCV 78.966448415\n"
     ]
    }
   ],
   "source": [
    "import multiprocessing\n",
    "from sklearn import linear_model\n",
    "from sklearn.cross_validation import train_test_split, cross_val_score\n",
    "import math\n",
    "from numpy import abs, sqrt\n",
    "\n",
    "\n",
    "regressor_names = \"\"\"\n",
    "LinearRegression\n",
    "LassoCV\n",
    "ElasticNetCV\n",
    "\"\"\"\n",
    "print (\"=== Linear Cross validation RMSE scores:\")\n",
    "for regressor in regressor_names.split():\n",
    "    scores = cross_val_score(getattr(linear_model, regressor)(normalize=True, n_jobs=multiprocessing.cpu_count()-1),\n",
    "                             X_train_dict_vec, y_train,\n",
    "                             cv=2,\n",
    "                             scoring='mean_squared_error'\n",
    "                            )\n",
    "    print (regressor, sqrt(abs(scores)).mean())"
   ]
  },
  {
   "cell_type": "markdown",
   "metadata": {},
   "source": [
    "### Training and testing model"
   ]
  },
  {
   "cell_type": "code",
   "execution_count": 28,
   "metadata": {
    "collapsed": false
   },
   "outputs": [
    {
     "name": "stdout",
     "output_type": "stream",
     "text": [
      "Not found qid: 103709\n",
      "Not found qid: 9987\n",
      "Not found qid: 113762\n",
      "Not found qid: 113768\n",
      "Not found qid: 108381\n",
      "Not found qid: 108438\n",
      "Not found qid: 113864\n",
      "Not found qid: 113871\n",
      "Not found qid: 113895\n",
      "Not found qid: 10225\n",
      "Not found qid: 108579\n",
      "Not found qid: 109267\n",
      "Not found qid: 108620\n",
      "Not found qid: 5644\n",
      "Not found uid: 381\n",
      "Not found qid: 108668\n",
      "Not found qid: 359\n",
      "Not found qid: 114135\n",
      "Not found qid: 6416\n",
      "Not found qid: 5753\n",
      "Not found qid: 5779\n",
      "Not found qid: 10420\n",
      "Not found qid: 114834\n",
      "Not found qid: 114952\n",
      "Not found qid: 120233\n",
      "Not found qid: 115234\n",
      "Not found uid: 369\n",
      "Not found uid: 373\n",
      "Not found uid: 381\n",
      "Not found qid: 106613\n",
      "Not found qid: 104241\n",
      "Not found uid: 415\n",
      "Not found uid: 422\n",
      "Not found qid: 5999\n",
      "Not found qid: 115684\n",
      "Not found qid: 10645\n",
      "Not found qid: 108976\n",
      "Not found qid: 115775\n",
      "Not found qid: 10769\n",
      "Not found qid: 116015\n",
      "Not found qid: 10795\n",
      "Not found qid: 109128\n",
      "Not found qid: 116504\n",
      "Not found qid: 116539\n",
      "Not found qid: 109177\n",
      "Not found qid: 116608\n",
      "Not found qid: 116634\n",
      "Not found qid: 10930\n",
      "Not found qid: 117050\n",
      "Not found qid: 117168\n",
      "Not found qid: 109401\n",
      "Not found qid: 109425\n",
      "Not found qid: 109432\n",
      "Not found qid: 104702\n",
      "Not found qid: 6417\n",
      "Not found qid: 109569\n",
      "Not found qid: 109615\n",
      "Not found qid: 6511\n",
      "Not found qid: 1620\n",
      "Not found qid: 104844\n",
      "Not found qid: 109706\n",
      "Not found qid: 2073\n",
      "Not found qid: 117973\n",
      "Not found qid: 118039\n",
      "Not found qid: 109894\n",
      "Not found qid: 100711\n",
      "Not found qid: 7227\n",
      "Not found qid: 118830\n",
      "Not found qid: 105067\n",
      "Not found uid: 267\n",
      "Not found uid: 268\n",
      "Not found uid: 269\n",
      "Not found qid: 11774\n",
      "Not found qid: 119000\n",
      "Not found qid: 11839\n",
      "Not found qid: 105175\n",
      "Not found qid: 11917\n",
      "Not found qid: 119415\n",
      "Not found qid: 101077\n",
      "Not found qid: 12078\n",
      "Not found qid: 119928\n",
      "Not found qid: 119937\n",
      "Not found qid: 3123\n",
      "Not found qid: 120002\n",
      "Not found qid: 105544\n",
      "Not found qid: 3313\n",
      "Not found qid: 3318\n",
      "Not found qid: 12197\n",
      "Not found qid: 7302\n",
      "Not found qid: 110448\n",
      "Not found qid: 105678\n",
      "Not found qid: 120194\n",
      "Not found qid: 120216\n",
      "Not found qid: 101808\n",
      "Not found qid: 105948\n",
      "Not found qid: 106003\n",
      "Not found qid: 3681\n",
      "Not found uid: 397\n",
      "Not found qid: 7963\n",
      "Not found uid: 452\n",
      "Not found uid: 309\n",
      "Not found uid: 318\n",
      "Not found qid: 102056\n",
      "Not found qid: 106360\n",
      "Not found qid: 121391\n",
      "Not found qid: 3852\n",
      "Not found qid: 121418\n",
      "Not found qid: 8105\n",
      "Not found qid: 3858\n",
      "Not found qid: 110893\n",
      "Not found qid: 12596\n",
      "Not found uid: 397\n",
      "Not found qid: 4087\n",
      "Not found qid: 121630\n",
      "Not found uid: 324\n",
      "Not found uid: 326\n",
      "Not found qid: 106548\n",
      "Not found qid: 121652\n",
      "Not found qid: 121688\n",
      "Not found qid: 4168\n",
      "Not found uid: 343\n",
      "Not found qid: 12720\n",
      "Not found qid: 111055\n",
      "Not found qid: 8420\n",
      "Not found qid: 106806\n",
      "Not found qid: 121923\n",
      "Not found qid: 8548\n",
      "Not found qid: 121996\n",
      "Not found qid: 4383\n",
      "Not found qid: 122101\n",
      "Not found qid: 106982\n",
      "Not found qid: 102857\n",
      "Not found qid: 13056\n",
      "Not found qid: 13072\n",
      "Not found qid: 13083\n",
      "Not found qid: 102941\n",
      "Not found qid: 13110\n",
      "Not found qid: 8961\n",
      "Not found qid: 122867\n",
      "Not found qid: 122925\n",
      "Not found qid: 4731\n",
      "Not found qid: 9069\n",
      "Not found qid: 9084\n",
      "Not found qid: 13258\n",
      "Not found qid: 13291\n",
      "Not found qid: 123265\n",
      "Not found qid: 111651\n",
      "Not found qid: 123315\n",
      "Not found qid: 9638\n",
      "Not found qid: 4932\n",
      "Not found uid: 381\n",
      "Not found qid: 4968\n",
      "Not found qid: 103277\n",
      "Not found qid: 4223\n",
      "Not found qid: 112066\n",
      "Not found qid: 107687\n",
      "Not found qid: 112091\n",
      "Not found qid: 123734\n",
      "Not found qid: 103354\n",
      "Not found qid: 103397\n",
      "Not found qid: 9488\n",
      "Not found qid: 112475\n",
      "Not found qid: 9546\n",
      "Not found qid: 112621\n",
      "Not found qid: 108050\n",
      "Not found qid: 111097\n",
      "Not found qid: 7931\n",
      "Not found qid: 113182\n",
      "Not found qid: 113578\n",
      "Not found qid: 108246\n"
     ]
    }
   ],
   "source": [
    "regression_keys = ['category', 'q_length', 'qid', 'uid', 'answer', 'avg_pos_uid', 'avg_pos_qid']\n",
    "X_train, y_train = featurize(load_buzz(), group='train', sign_val=None, extra=['avg_pos'])\n",
    "X_train = select(X_train, regression_keys)\n",
    "X_test = featurize(load_buzz(), group='test', sign_val=None, extra=['avg_pos'])\n",
    "X_test = select(X_test, regression_keys)\n",
    "\n",
    "transform(X_train)\n",
    "transform(X_test)"
   ]
  },
  {
   "cell_type": "code",
   "execution_count": 29,
   "metadata": {
    "collapsed": false
   },
   "outputs": [
    {
     "data": {
      "text/plain": [
       "{'acc_ratio_qid': 0.875,\n",
       " 'acc_ratio_uid': 0.6465863453815262,\n",
       " 'answer': 'thomas cole',\n",
       " 'avg_pos_qid': 51.0,\n",
       " 'avg_pos_uid': 30.973895582329316,\n",
       " 'cat_qid': '4',\n",
       " 'cat_uid': '3',\n",
       " 'category': 'fine arts',\n",
       " 'q_length': 78,\n",
       " 'qid': '1',\n",
       " 'uid': '1'}"
      ]
     },
     "execution_count": 29,
     "metadata": {},
     "output_type": "execute_result"
    }
   ],
   "source": [
    "X_train[1]"
   ]
  },
  {
   "cell_type": "code",
   "execution_count": 30,
   "metadata": {
    "collapsed": false
   },
   "outputs": [
    {
     "data": {
      "text/plain": [
       "{'acc_ratio_qid': 0.6428571428571429,\n",
       " 'acc_ratio_uid': 0.6712328767123288,\n",
       " 'answer': 'david hilbert',\n",
       " 'avg_pos_qid': 15.571428571428571,\n",
       " 'avg_pos_uid': 36.31506849315068,\n",
       " 'cat_qid': '4',\n",
       " 'cat_uid': '3',\n",
       " 'category': 'mathematics',\n",
       " 'q_length': 105,\n",
       " 'qid': '9967',\n",
       " 'uid': '131'}"
      ]
     },
     "execution_count": 30,
     "metadata": {},
     "output_type": "execute_result"
    }
   ],
   "source": [
    "X_test[1]"
   ]
  },
  {
   "cell_type": "code",
   "execution_count": 31,
   "metadata": {
    "collapsed": true
   },
   "outputs": [],
   "source": [
    "vec = DictVectorizer()\n",
    "vec.fit(X_train + X_test)\n",
    "X_train = vec.transform(X_train)\n",
    "X_test = vec.transform(X_test)"
   ]
  },
  {
   "cell_type": "code",
   "execution_count": 32,
   "metadata": {
    "collapsed": false
   },
   "outputs": [
    {
     "data": {
      "text/plain": [
       "ElasticNetCV(alphas=None, copy_X=True, cv=None, eps=0.001, fit_intercept=True,\n",
       "       l1_ratio=0.5, max_iter=1000, n_alphas=100, n_jobs=3, normalize=True,\n",
       "       positive=False, precompute='auto', random_state=None,\n",
       "       selection='cyclic', tol=0.0001, verbose=0)"
      ]
     },
     "execution_count": 32,
     "metadata": {},
     "output_type": "execute_result"
    }
   ],
   "source": [
    "regressor = linear_model.ElasticNetCV(n_jobs=3, normalize=True)\n",
    "regressor.fit(X_train, y_train)"
   ]
  },
  {
   "cell_type": "code",
   "execution_count": 33,
   "metadata": {
    "collapsed": false
   },
   "outputs": [
    {
     "name": "stdout",
     "output_type": "stream",
     "text": [
      "[ 15.02416198  13.53002789   6.57619903 ...,   3.9547439    0.844097\n",
      "   2.89308815]\n",
      "0.000565901396911\n"
     ]
    }
   ],
   "source": [
    "print(regressor.coef_)\n",
    "print(regressor.alpha_)"
   ]
  },
  {
   "cell_type": "code",
   "execution_count": 34,
   "metadata": {
    "collapsed": false
   },
   "outputs": [],
   "source": [
    "predictions = regressor.predict(X_test)"
   ]
  },
  {
   "cell_type": "markdown",
   "metadata": {},
   "source": [
    "## Writing result"
   ]
  },
  {
   "cell_type": "code",
   "execution_count": 35,
   "metadata": {
    "collapsed": false
   },
   "outputs": [],
   "source": [
    "write_result(load_buzz()['test'], predictions)"
   ]
  },
  {
   "cell_type": "markdown",
   "metadata": {},
   "source": [
    "This submissions scores \n",
    "\n",
    "* 85.33520: normalize=True\n",
    "* 85.82289: normalize=False"
   ]
  }
 ],
 "metadata": {
  "kernelspec": {
   "display_name": "Python 3",
   "language": "python",
   "name": "python3"
  },
  "language_info": {
   "codemirror_mode": {
    "name": "ipython",
    "version": 3
   },
   "file_extension": ".py",
   "mimetype": "text/x-python",
   "name": "python",
   "nbconvert_exporter": "python",
   "pygments_lexer": "ipython3",
   "version": "3.4.3"
  }
 },
 "nbformat": 4,
 "nbformat_minor": 0
}
