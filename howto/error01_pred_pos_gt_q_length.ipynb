{
 "cells": [
  {
   "cell_type": "markdown",
   "metadata": {},
   "source": [
    "# error01_pred_pos_gt_q_length"
   ]
  },
  {
   "cell_type": "markdown",
   "metadata": {},
   "source": [
    "We might need to check results to figure errors out.\n",
    "\n",
    "a. What if predicted response position is greater than length of question\n",
    "b. What if predicted response position is less than 1"
   ]
  },
  {
   "cell_type": "code",
   "execution_count": 80,
   "metadata": {
    "collapsed": false
   },
   "outputs": [
    {
     "name": "stdout",
     "output_type": "stream",
     "text": [
      "** tid qid uid: pred_pos, q_length, diff\n",
      "32193 123840 15 : 34.0123999179 , 33 , 1.012399917899998\n",
      "32186 123840 28 : 35.059582766 , 33 , 2.0595827659999983\n",
      "32081 123757 1 : 32.5539257933 , 29 , 3.553925793300003\n",
      "32067 123750 43 : 25.8708545617 , 19 , 6.8708545617\n",
      "32025 123718 39 : 19.4536636271 , 13 , 6.453663627099999\n",
      "32018 123718 13 : 20.8354790007 , 13 , 7.835479000700001\n",
      "31997 123709 52 : 29.2554188639 , 17 , 12.255418863900001\n",
      "13083 106213 9 : 34.3700554191 , 21 , 13.370055419099998\n",
      "12908 106060 124 : 38.9119671024 , 37 , 1.9119671023999985\n",
      "1232 674 161 : 48.2526331817 , 48 , 0.2526331816999985\n",
      "24990 106373 62 : 29.1956598195 , 23 , 6.195659819500001\n",
      "** diff_tot 61.7716400533\n"
     ]
    }
   ],
   "source": [
    "import csv\n",
    "\n",
    "from utils import load_buzz, select, write_result\n",
    "from features import featurize, get_pos\n",
    "from containers import Questions, Users, Categories\n",
    "from nlp import extract_entities\n",
    "\n",
    "\n",
    "with open('0.72guess.csv') as csvfile:\n",
    "    scores = csv.reader(csvfile)\n",
    "    scores = list(scores)\n",
    "\n",
    "# remove header\n",
    "scores.pop(0)\n",
    "\n",
    "questions = Questions(load_buzz())\n",
    "tests = load_buzz()['test']\n",
    "diff_sum = 0\n",
    "print(\"** tid qid uid: pred_pos, q_length, diff\")\n",
    "for pred_score in scores:\n",
    "    pred_tid = int(pred_score[0])\n",
    "    pred_pos = float(pred_score[1])\n",
    "    qid = tests[pred_tid]['qid']\n",
    "    uid = tests[pred_tid]['uid']\n",
    "    if qid in questions:\n",
    "        q_length = len(questions[qid]['question'].split())\n",
    "        #q_length = max(questions[qid]['pos_token'].keys())\n",
    "        if abs(pred_pos) > q_length:\n",
    "            diff = abs(pred_pos) - q_length\n",
    "            print(pred_tid, qid, uid, \":\", pred_pos, \",\", q_length, \",\", diff)\n",
    "            diff_sum += + diff\n",
    "            \n",
    "print(\"** diff_tot\", diff_sum)"
   ]
  },
  {
   "cell_type": "code",
   "execution_count": 83,
   "metadata": {
    "collapsed": false
   },
   "outputs": [
    {
     "name": "stdout",
     "output_type": "stream",
     "text": [
      "37\n"
     ]
    },
    {
     "data": {
      "text/plain": [
       "['0.411762859547',\n",
       " '0.548684527721',\n",
       " '0.417215378227',\n",
       " '0.885190165274',\n",
       " '0.903842481014',\n",
       " '-0.818594323963',\n",
       " '-0.985039708421',\n",
       " '-0.605746623982',\n",
       " '0.862697590958',\n",
       " '-0.273778275696',\n",
       " '-0.44766898547',\n",
       " '0.858614576988',\n",
       " '0.442675359599',\n",
       " '0.840791525727',\n",
       " '0.480208332493',\n",
       " '0.0439538513882',\n",
       " '0.633145583629',\n",
       " '0.388121442757',\n",
       " '-0.391576058921',\n",
       " '0.122966891992',\n",
       " '0.567030390322',\n",
       " '-0.491910606052',\n",
       " '0.570451919832',\n",
       " '-0.48926593946',\n",
       " '-0.692053780514',\n",
       " '0.231540027305',\n",
       " '-0.48255797431',\n",
       " '-0.92540770738',\n",
       " '-0.466494448178',\n",
       " '0.547971332207',\n",
       " '-0.851434916452',\n",
       " '0.111587793014',\n",
       " '-0.459855797295',\n",
       " '-0.357544285217',\n",
       " '0.0217785919356',\n",
       " '0.488019397626',\n",
       " '0.360854671841']"
      ]
     },
     "execution_count": 83,
     "metadata": {},
     "output_type": "execute_result"
    }
   ],
   "source": [
    "print(len([x[1] for x in scores if float(x[1]) < 1.0 and float(x[1]) > -1.0]))\n",
    "[x[1] for x in scores if float(x[1]) < 1.0 and float(x[1]) > -1.0]"
   ]
  },
  {
   "cell_type": "code",
   "execution_count": null,
   "metadata": {
    "collapsed": true
   },
   "outputs": [],
   "source": []
  }
 ],
 "metadata": {
  "kernelspec": {
   "display_name": "Python 3",
   "language": "python",
   "name": "python3"
  },
  "language_info": {
   "codemirror_mode": {
    "name": "ipython",
    "version": 3
   },
   "file_extension": ".py",
   "mimetype": "text/x-python",
   "name": "python",
   "nbconvert_exporter": "python",
   "pygments_lexer": "ipython3",
   "version": "3.4.3"
  }
 },
 "nbformat": 4,
 "nbformat_minor": 0
}
