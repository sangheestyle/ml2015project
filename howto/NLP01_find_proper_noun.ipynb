{
 "cells": [
  {
   "cell_type": "markdown",
   "metadata": {},
   "source": [
    "#NLP01 parse sentence\n",
    "\n",
    "Reference\n",
    "* http://timmcnamara.co.nz/post/2650550090/extracting-names-with-6-lines-of-python-code\n",
    "* http://freshlyminted.co.uk/blog/2011/02/28/getting-band-and-artist-names-nltk/\n",
    "* http://nbviewer.ipython.org/github/charlieg/A-Smattering-of-NLP-in-Python/blob/master/A%20Smattering%20of%20NLP%20in%20Python.ipynb\n",
    "* http://mattshomepage.com/#/blog/feb2013/liftingthehood\n",
    "* http://www.nltk.org/book/ch07.html#tab-ne-types\n",
    "* https://www.ling.upenn.edu/courses/Fall_2003/ling001/penn_treebank_pos.html\n",
    "* http://textminingonline.com/how-to-use-stanford-named-entity-recognizer-ner-in-python-nltk-and-other-programming-languages"
   ]
  },
  {
   "cell_type": "code",
   "execution_count": 154,
   "metadata": {
    "collapsed": true
   },
   "outputs": [],
   "source": [
    "import gzip\n",
    "import pickle\n",
    "from os import path\n",
    "from collections import defaultdict\n",
    "from numpy import sign\n",
    "\n",
    "\n",
    "\"\"\"\n",
    "Load buzz data as a dictionary.\n",
    "You can give parameter for data so that you will get what you need only.\n",
    "\"\"\"\n",
    "def load_buzz(root='../data', data=['train', 'test', 'questions'], format='pklz'):\n",
    "    buzz_data = {}\n",
    "    for ii in data:\n",
    "        file_path = path.join(root, ii + \".\" + format)\n",
    "        with gzip.open(file_path, \"rb\") as fp:\n",
    "          buzz_data[ii] = pickle.load(fp)\n",
    "        \n",
    "    return buzz_data"
   ]
  },
  {
   "cell_type": "code",
   "execution_count": 155,
   "metadata": {
    "collapsed": true
   },
   "outputs": [],
   "source": [
    "questions = load_buzz()['questions']"
   ]
  },
  {
   "cell_type": "code",
   "execution_count": 156,
   "metadata": {
    "collapsed": false
   },
   "outputs": [
    {
     "name": "stdout",
     "output_type": "stream",
     "text": [
      "He was born in Normandy, but spent most of his life in Rome, where Domenichino briefly employed him.  Rejecting the Baroque, he chose to model his work after Titian and Raphael.  Under Charles LeBrun in the 1660's, the French Academy would take his ideas on Classicism as a primary reference.  FTP, name this painter of Et in Arcadia Ego and The Burial of Phocion.\n",
      "nicolas poussin\n"
     ]
    }
   ],
   "source": [
    "print(questions[19]['question'])\n",
    "print(questions[19]['answer'])"
   ]
  },
  {
   "cell_type": "code",
   "execution_count": 157,
   "metadata": {
    "collapsed": false
   },
   "outputs": [
    {
     "name": "stdout",
     "output_type": "stream",
     "text": [
      "He PRP\n",
      "was VBD\n",
      "born VBN\n",
      "in IN\n",
      "Normandy NNP\n",
      ", ,\n",
      "but CC\n",
      "spent VBD\n",
      "most RBS\n",
      "of IN\n",
      "his PRP$\n",
      "life NN\n",
      "in IN\n",
      "Rome NNP\n",
      ", ,\n",
      "where WRB\n",
      "Domenichino NNP\n",
      "briefly RB\n",
      "employed VBN\n",
      "him PRP\n",
      ". .\n",
      "Rejecting NNP\n",
      "the DT\n",
      "Baroque NNP\n",
      ", ,\n",
      "he PRP\n",
      "chose VBD\n",
      "to TO\n",
      "model VB\n",
      "his PRP$\n",
      "work NN\n",
      "after IN\n",
      "Titian NNP\n",
      "and CC\n",
      "Raphael NNP\n",
      ". .\n",
      "Under NNP\n",
      "Charles NNP\n",
      "LeBrun NNP\n",
      "in IN\n",
      "the DT\n",
      "1660 CD\n",
      "'s POS\n",
      ", ,\n",
      "the DT\n",
      "French JJ\n",
      "Academy NNP\n",
      "would MD\n",
      "take VB\n",
      "his PRP$\n",
      "ideas NNS\n",
      "on IN\n",
      "Classicism NNP\n",
      "as IN\n",
      "a DT\n",
      "primary JJ\n",
      "reference NN\n",
      ". .\n",
      "FTP NNP\n",
      ", ,\n",
      "name VBD\n",
      "this DT\n",
      "painter NN\n",
      "of IN\n",
      "Et NNP\n",
      "in IN\n",
      "Arcadia NNP\n",
      "Ego NNP\n",
      "and CC\n",
      "The DT\n",
      "Burial NNP\n",
      "of IN\n",
      "Phocion NNP\n",
      ". .\n"
     ]
    }
   ],
   "source": [
    "from nltk import word_tokenize, pos_tag\n",
    "\n",
    "sentence = questions[19]['question']\n",
    "tagged_sent = pos_tag(word_tokenize(sentence))\n",
    "for word, tag in tagged_sent:\n",
    "    print(word, tag)"
   ]
  },
  {
   "cell_type": "code",
   "execution_count": 164,
   "metadata": {
    "collapsed": false
   },
   "outputs": [
    {
     "name": "stdout",
     "output_type": "stream",
     "text": [
      "['Normandy', 'Rome', 'Domenichino', 'Rejecting', 'Baroque', 'Titian', 'Raphael', 'Under', 'Charles', 'LeBrun', 'Academy', 'Classicism', 'FTP', 'Et', 'Arcadia', 'Ego', 'Burial', 'Phocion']\n"
     ]
    }
   ],
   "source": [
    "print([word for word,pos in tagged_sent if pos == 'NNP'])"
   ]
  },
  {
   "cell_type": "code",
   "execution_count": 165,
   "metadata": {
    "collapsed": false
   },
   "outputs": [
    {
     "name": "stdout",
     "output_type": "stream",
     "text": [
      "['life', 'work', 'reference', 'painter']\n"
     ]
    }
   ],
   "source": [
    "print([word for word,pos in tagged_sent if pos == 'NN'])"
   ]
  },
  {
   "cell_type": "code",
   "execution_count": 166,
   "metadata": {
    "collapsed": false
   },
   "outputs": [
    {
     "name": "stdout",
     "output_type": "stream",
     "text": [
      "['1660']\n"
     ]
    }
   ],
   "source": [
    "print([word for word,pos in tagged_sent if pos == 'CD'])"
   ]
  },
  {
   "cell_type": "code",
   "execution_count": 167,
   "metadata": {
    "collapsed": false
   },
   "outputs": [
    {
     "name": "stdout",
     "output_type": "stream",
     "text": [
      "['He', 'him', 'he']\n",
      "['his', 'his', 'his']\n"
     ]
    }
   ],
   "source": [
    "print([word for word,pos in tagged_sent if pos == 'PRP'])\n",
    "print([word for word,pos in tagged_sent if pos == 'PRP$'])"
   ]
  },
  {
   "cell_type": "code",
   "execution_count": 168,
   "metadata": {
    "collapsed": false
   },
   "outputs": [
    {
     "name": "stdout",
     "output_type": "stream",
     "text": [
      "(S\n",
      "  He/PRP\n",
      "  was/VBD\n",
      "  born/VBN\n",
      "  in/IN\n",
      "  (GPE Normandy/NNP)\n",
      "  ,/,\n",
      "  but/CC\n",
      "  spent/VBD\n",
      "  most/RBS\n",
      "  of/IN\n",
      "  his/PRP$\n",
      "  life/NN\n",
      "  in/IN\n",
      "  (GPE Rome/NNP)\n",
      "  ,/,\n",
      "  where/WRB\n",
      "  (PERSON Domenichino/NNP)\n",
      "  briefly/RB\n",
      "  employed/VBN\n",
      "  him/PRP\n",
      "  ./.\n",
      "  Rejecting/NNP\n",
      "  the/DT\n",
      "  (GPE Baroque/NNP)\n",
      "  ,/,\n",
      "  he/PRP\n",
      "  chose/VBD\n",
      "  to/TO\n",
      "  model/VB\n",
      "  his/PRP$\n",
      "  work/NN\n",
      "  after/IN\n",
      "  (GPE Titian/NNP)\n",
      "  and/CC\n",
      "  (GPE Raphael/NNP)\n",
      "  ./.\n",
      "  (PERSON Under/NNP Charles/NNP)\n",
      "  LeBrun/NNP\n",
      "  in/IN\n",
      "  the/DT\n",
      "  1660/CD\n",
      "  's/POS\n",
      "  ,/,\n",
      "  the/DT\n",
      "  (GPE French/JJ)\n",
      "  (ORGANIZATION Academy/NNP)\n",
      "  would/MD\n",
      "  take/VB\n",
      "  his/PRP$\n",
      "  ideas/NNS\n",
      "  on/IN\n",
      "  Classicism/NNP\n",
      "  as/IN\n",
      "  a/DT\n",
      "  primary/JJ\n",
      "  reference/NN\n",
      "  ./.\n",
      "  (ORGANIZATION FTP/NNP)\n",
      "  ,/,\n",
      "  name/VBD\n",
      "  this/DT\n",
      "  painter/NN\n",
      "  of/IN\n",
      "  Et/NNP\n",
      "  in/IN\n",
      "  (GPE Arcadia/NNP)\n",
      "  Ego/NNP\n",
      "  and/CC\n",
      "  The/DT\n",
      "  (ORGANIZATION Burial/NNP)\n",
      "  of/IN\n",
      "  (GPE Phocion/NNP)\n",
      "  ./.)\n"
     ]
    }
   ],
   "source": [
    "from nltk import ne_chunk\n",
    "print(nltk.ne_chunk(tagged_sent))"
   ]
  },
  {
   "cell_type": "code",
   "execution_count": 193,
   "metadata": {
    "collapsed": false
   },
   "outputs": [
    {
     "name": "stdout",
     "output_type": "stream",
     "text": [
      "('He', 'PRP')\n",
      "('was', 'VBD')\n",
      "('born', 'VBN')\n",
      "('in', 'IN')\n",
      "(GPE Normandy/NNP)\n",
      "== GPE Normandy\n",
      "(',', ',')\n",
      "('but', 'CC')\n",
      "('spent', 'VBD')\n",
      "('most', 'RBS')\n",
      "('of', 'IN')\n",
      "('his', 'PRP$')\n",
      "('life', 'NN')\n",
      "('in', 'IN')\n",
      "(GPE Rome/NNP)\n",
      "== GPE Rome\n",
      "(',', ',')\n",
      "('where', 'WRB')\n",
      "(PERSON Domenichino/NNP)\n",
      "== PERSON Domenichino\n",
      "('briefly', 'RB')\n",
      "('employed', 'VBN')\n",
      "('him', 'PRP')\n",
      "('.', '.')\n",
      "('Rejecting', 'VBG')\n",
      "('the', 'DT')\n",
      "(GPE Baroque/NNP)\n",
      "== GPE Baroque\n",
      "(',', ',')\n",
      "('he', 'PRP')\n",
      "('chose', 'VBD')\n",
      "('to', 'TO')\n",
      "('model', 'VB')\n",
      "('his', 'PRP$')\n",
      "('work', 'NN')\n",
      "('after', 'IN')\n",
      "(GPE Titian/NNP)\n",
      "== GPE Titian\n",
      "('and', 'CC')\n",
      "(GPE Raphael/NNP)\n",
      "== GPE Raphael\n",
      "('.', '.')\n",
      "('Under', 'IN')\n",
      "(PERSON Charles/NNP LeBrun/NNP)\n",
      "== PERSON Charles LeBrun\n",
      "('in', 'IN')\n",
      "('the', 'DT')\n",
      "('1660', 'CD')\n",
      "(\"'s\", 'POS')\n",
      "(',', ',')\n",
      "('the', 'DT')\n",
      "(GPE French/JJ)\n",
      "== GPE French\n",
      "(ORGANIZATION Academy/NNP)\n",
      "== ORGANIZATION Academy\n",
      "('would', 'MD')\n",
      "('take', 'VB')\n",
      "('his', 'PRP$')\n",
      "('ideas', 'NNS')\n",
      "('on', 'IN')\n",
      "('Classicism', 'NNP')\n",
      "('as', 'IN')\n",
      "('a', 'DT')\n",
      "('primary', 'JJ')\n",
      "('reference', 'NN')\n",
      "('.', '.')\n",
      "('FTP', 'NNP')\n",
      "(',', ',')\n",
      "('name', 'VBD')\n",
      "('this', 'DT')\n",
      "('painter', 'NN')\n",
      "('of', 'IN')\n",
      "('Et', 'NNP')\n",
      "('in', 'IN')\n",
      "(GPE Arcadia/NNP)\n",
      "== GPE Arcadia\n",
      "('Ego', 'NNP')\n",
      "('and', 'CC')\n",
      "('The', 'DT')\n",
      "(ORGANIZATION Burial/NNP)\n",
      "== ORGANIZATION Burial\n",
      "('of', 'IN')\n",
      "(GPE Phocion/NNP)\n",
      "== GPE Phocion\n",
      "('.', '.')\n"
     ]
    }
   ],
   "source": [
    "import nltk\n",
    "\n",
    "def extract_entities(text):\n",
    "    for sent in nltk.sent_tokenize(text):\n",
    "        for chunk in nltk.ne_chunk(nltk.pos_tag(nltk.word_tokenize(sent))):\n",
    "            print(chunk)\n",
    "            if type(chunk) is nltk.tree.Tree:\n",
    "                print('==', chunk.label(), ' '.join(c[0] for c in chunk.leaves()))\n",
    "\n",
    "extract_entities(sentence)"
   ]
  },
  {
   "cell_type": "code",
   "execution_count": 169,
   "metadata": {
    "collapsed": true
   },
   "outputs": [],
   "source": [
    "import dateutil.parser as parser"
   ]
  },
  {
   "cell_type": "code",
   "execution_count": 170,
   "metadata": {
    "collapsed": false
   },
   "outputs": [
    {
     "data": {
      "text/plain": [
       "1978"
      ]
     },
     "execution_count": 170,
     "metadata": {},
     "output_type": "execute_result"
    }
   ],
   "source": [
    "parser.parse(\"Sanghee 1978's\", fuzzy=True).year"
   ]
  },
  {
   "cell_type": "code",
   "execution_count": 171,
   "metadata": {
    "collapsed": true
   },
   "outputs": [],
   "source": [
    "from nltk.tag.stanford import NERTagger"
   ]
  },
  {
   "cell_type": "code",
   "execution_count": 172,
   "metadata": {
    "collapsed": false
   },
   "outputs": [
    {
     "name": "stdout",
     "output_type": "stream",
     "text": [
      "==\n",
      "('He', 'O')\n",
      "('was', 'O')\n",
      "('born', 'O')\n",
      "('in', 'O')\n",
      "('Normandy,', 'O')\n",
      "('but', 'O')\n",
      "('spent', 'O')\n",
      "('most', 'O')\n",
      "('of', 'O')\n",
      "('his', 'O')\n",
      "('life', 'O')\n",
      "('in', 'O')\n",
      "('Rome,', 'LOCATION')\n",
      "('where', 'O')\n",
      "('Domenichino', 'PERSON')\n",
      "('briefly', 'O')\n",
      "('employed', 'O')\n",
      "('him.', 'O')\n",
      "('Rejecting', 'O')\n",
      "('the', 'O')\n",
      "('Baroque,', 'O')\n",
      "('he', 'O')\n",
      "('chose', 'O')\n",
      "('to', 'O')\n",
      "('model', 'O')\n",
      "('his', 'O')\n",
      "('work', 'O')\n",
      "('after', 'O')\n",
      "('Titian', 'PERSON')\n",
      "('and', 'O')\n",
      "('Raphael.', 'O')\n",
      "('Under', 'O')\n",
      "('Charles', 'PERSON')\n",
      "('LeBrun', 'PERSON')\n",
      "('in', 'O')\n",
      "('the', 'O')\n",
      "(\"1660's,\", 'O')\n",
      "('the', 'O')\n",
      "('French', 'ORGANIZATION')\n",
      "('Academy', 'ORGANIZATION')\n",
      "('would', 'O')\n",
      "('take', 'O')\n",
      "('his', 'O')\n",
      "('ideas', 'O')\n",
      "('on', 'O')\n",
      "('Classicism', 'O')\n",
      "('as', 'O')\n",
      "('a', 'O')\n",
      "('primary', 'O')\n",
      "('reference.', 'O')\n",
      "('FTP,', 'O')\n",
      "('name', 'O')\n",
      "('this', 'O')\n",
      "('painter', 'O')\n",
      "('of', 'O')\n",
      "('Et', 'O')\n",
      "('in', 'O')\n",
      "('Arcadia', 'LOCATION')\n",
      "('Ego', 'O')\n",
      "('and', 'O')\n",
      "('The', 'O')\n",
      "('Burial', 'O')\n",
      "('of', 'O')\n",
      "('Phocion.', 'O')\n",
      "==\n",
      "('He', 'O')\n",
      "('was', 'O')\n",
      "('born', 'O')\n",
      "('in', 'O')\n",
      "('Normandy,', 'O')\n",
      "('but', 'O')\n",
      "('spent', 'O')\n",
      "('most', 'O')\n",
      "('of', 'O')\n",
      "('his', 'O')\n",
      "('life', 'O')\n",
      "('in', 'O')\n",
      "('Rome,', 'O')\n",
      "('where', 'O')\n",
      "('Domenichino', 'O')\n",
      "('briefly', 'O')\n",
      "('employed', 'O')\n",
      "('him.', 'O')\n",
      "('Rejecting', 'O')\n",
      "('the', 'O')\n",
      "('Baroque,', 'O')\n",
      "('he', 'O')\n",
      "('chose', 'O')\n",
      "('to', 'O')\n",
      "('model', 'O')\n",
      "('his', 'O')\n",
      "('work', 'O')\n",
      "('after', 'O')\n",
      "('Titian', 'ORGANIZATION')\n",
      "('and', 'O')\n",
      "('Raphael.', 'O')\n",
      "('Under', 'O')\n",
      "('Charles', 'PERSON')\n",
      "('LeBrun', 'PERSON')\n",
      "('in', 'O')\n",
      "('the', 'O')\n",
      "(\"1660's,\", 'O')\n",
      "('the', 'O')\n",
      "('French', 'O')\n",
      "('Academy', 'O')\n",
      "('would', 'O')\n",
      "('take', 'O')\n",
      "('his', 'O')\n",
      "('ideas', 'O')\n",
      "('on', 'O')\n",
      "('Classicism', 'O')\n",
      "('as', 'O')\n",
      "('a', 'O')\n",
      "('primary', 'O')\n",
      "('reference.', 'O')\n",
      "('FTP,', 'O')\n",
      "('name', 'O')\n",
      "('this', 'O')\n",
      "('painter', 'O')\n",
      "('of', 'O')\n",
      "('Et', 'O')\n",
      "('in', 'O')\n",
      "('Arcadia', 'LOCATION')\n",
      "('Ego', 'O')\n",
      "('and', 'O')\n",
      "('The', 'O')\n",
      "('Burial', 'O')\n",
      "('of', 'O')\n",
      "('Phocion.', 'LOCATION')\n",
      "==\n",
      "('He', 'O')\n",
      "('was', 'O')\n",
      "('born', 'O')\n",
      "('in', 'O')\n",
      "('Normandy,', 'O')\n",
      "('but', 'O')\n",
      "('spent', 'O')\n",
      "('most', 'O')\n",
      "('of', 'O')\n",
      "('his', 'O')\n",
      "('life', 'O')\n",
      "('in', 'O')\n",
      "('Rome,', 'O')\n",
      "('where', 'O')\n",
      "('Domenichino', 'PERSON')\n",
      "('briefly', 'O')\n",
      "('employed', 'O')\n",
      "('him.', 'O')\n",
      "('Rejecting', 'O')\n",
      "('the', 'O')\n",
      "('Baroque,', 'O')\n",
      "('he', 'O')\n",
      "('chose', 'O')\n",
      "('to', 'O')\n",
      "('model', 'O')\n",
      "('his', 'O')\n",
      "('work', 'O')\n",
      "('after', 'O')\n",
      "('Titian', 'PERSON')\n",
      "('and', 'O')\n",
      "('Raphael.', 'O')\n",
      "('Under', 'O')\n",
      "('Charles', 'PERSON')\n",
      "('LeBrun', 'PERSON')\n",
      "('in', 'O')\n",
      "('the', 'O')\n",
      "(\"1660's,\", 'O')\n",
      "('the', 'O')\n",
      "('French', 'MISC')\n",
      "('Academy', 'MISC')\n",
      "('would', 'O')\n",
      "('take', 'O')\n",
      "('his', 'O')\n",
      "('ideas', 'O')\n",
      "('on', 'O')\n",
      "('Classicism', 'O')\n",
      "('as', 'O')\n",
      "('a', 'O')\n",
      "('primary', 'O')\n",
      "('reference.', 'O')\n",
      "('FTP,', 'O')\n",
      "('name', 'O')\n",
      "('this', 'O')\n",
      "('painter', 'O')\n",
      "('of', 'O')\n",
      "('Et', 'O')\n",
      "('in', 'O')\n",
      "('Arcadia', 'LOCATION')\n",
      "('Ego', 'LOCATION')\n",
      "('and', 'O')\n",
      "('The', 'ORGANIZATION')\n",
      "('Burial', 'ORGANIZATION')\n",
      "('of', 'ORGANIZATION')\n",
      "('Phocion.', 'ORGANIZATION')\n"
     ]
    }
   ],
   "source": [
    "trained_clfs = ['english.all.3class.distsim.crf.ser.gz',\n",
    "                'english.muc.7class.distsim.crf.ser.gz',\n",
    "                'english.conll.4class.distsim.crf.ser.gz']\n",
    "\n",
    "for clf in trained_clfs:\n",
    "    print(\"==\")\n",
    "    ner_path = '/home/sanghee/Libs/stanford-ner-2015-04-20/'\n",
    "    crf_path = ner_path + 'classifiers/' + clf\n",
    "    jar_path = ner_path + 'stanford-ner.jar'\n",
    "    st = NERTagger(crf_path, jar_path, 'utf-8')\n",
    "    for tt in st.tag(sentence.split()):\n",
    "        for ii in tt:\n",
    "            print(ii)"
   ]
  },
  {
   "cell_type": "code",
   "execution_count": null,
   "metadata": {
    "collapsed": true
   },
   "outputs": [],
   "source": []
  }
 ],
 "metadata": {
  "kernelspec": {
   "display_name": "Python 3",
   "language": "python",
   "name": "python3"
  },
  "language_info": {
   "codemirror_mode": {
    "name": "ipython",
    "version": 3
   },
   "file_extension": ".py",
   "mimetype": "text/x-python",
   "name": "python",
   "nbconvert_exporter": "python",
   "pygments_lexer": "ipython3",
   "version": "3.4.3"
  }
 },
 "nbformat": 4,
 "nbformat_minor": 0
}
