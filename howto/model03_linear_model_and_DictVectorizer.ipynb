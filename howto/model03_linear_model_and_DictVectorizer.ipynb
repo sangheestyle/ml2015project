{
 "cells": [
  {
   "cell_type": "markdown",
   "metadata": {},
   "source": [
    "# model 03 linear_model with dictVectorizer\n",
    "\n",
    "## Load train, test, questions data from pklz\n",
    "\n",
    "First of all, we need to read those three data set."
   ]
  },
  {
   "cell_type": "code",
   "execution_count": 23,
   "metadata": {
    "collapsed": true
   },
   "outputs": [],
   "source": [
    "import gzip\n",
    "import cPickle as pickle"
   ]
  },
  {
   "cell_type": "code",
   "execution_count": 24,
   "metadata": {
    "collapsed": false
   },
   "outputs": [],
   "source": [
    "with gzip.open(\"../data/train.pklz\", \"rb\") as train_file:\n",
    "    train_set = pickle.load(train_file)\n",
    "\n",
    "with gzip.open(\"../data/test.pklz\", \"rb\") as test_file:\n",
    "    test_set = pickle.load(test_file)\n",
    "\n",
    "with gzip.open(\"../data/questions.pklz\", \"rb\") as questions_file:\n",
    "    questions = pickle.load(questions_file)"
   ]
  },
  {
   "cell_type": "markdown",
   "metadata": {},
   "source": [
    "## Make training set\n",
    "\n",
    "For training model, we might need to make feature and lable pair. In this case, we will use only uid, qid, and position for feature."
   ]
  },
  {
   "cell_type": "code",
   "execution_count": 25,
   "metadata": {
    "collapsed": false
   },
   "outputs": [
    {
     "name": "stdout",
     "output_type": "stream",
     "text": [
      "{'answer': 'cole', 'qid': 1, 'uid': 0, 'position': 61.0}\n",
      "['answer', 'category', 'group', 'pos_token', 'question']\n"
     ]
    }
   ],
   "source": [
    "print train_set[1]\n",
    "print questions[1].keys()"
   ]
  },
  {
   "cell_type": "code",
   "execution_count": 26,
   "metadata": {
    "collapsed": false
   },
   "outputs": [],
   "source": [
    "X = []\n",
    "Y = []\n",
    "\n",
    "for key in train_set:\n",
    "    # We only care about positive case at this time\n",
    "    if train_set[key]['position'] < 0:\n",
    "        continue\n",
    "    uid = train_set[key]['uid']\n",
    "    qid = train_set[key]['qid']\n",
    "    pos = train_set[key]['position']\n",
    "    q_length = max(questions[qid]['pos_token'].keys())\n",
    "    category = questions[qid]['category'].lower()\n",
    "    answer = questions[qid]['answer'].lower()\n",
    "    feat = {\"uid\": str(uid), \"qid\": str(qid), \"q_length\": q_length, \"category\": category, \"answer\": answer}\n",
    "    X.append(feat)\n",
    "    Y.append([pos])"
   ]
  },
  {
   "cell_type": "code",
   "execution_count": 27,
   "metadata": {
    "collapsed": false
   },
   "outputs": [
    {
     "name": "stdout",
     "output_type": "stream",
     "text": [
      "20819\n",
      "20819\n",
      "{'q_length': 77, 'qid': '1', 'category': 'fine arts', 'answer': 'thomas cole', 'uid': '0'} [61.0]\n"
     ]
    }
   ],
   "source": [
    "print len(X)\n",
    "print len(Y)\n",
    "print X[0], Y[0]"
   ]
  },
  {
   "cell_type": "markdown",
   "metadata": {},
   "source": [
    "It means that user 0 tried to solve question number 1 which has 77 tokens for question and he or she answered at 61st token.\n",
    "\n",
    "## Train model and make predictions\n",
    "\n",
    "Let's train model and make predictions."
   ]
  },
  {
   "cell_type": "code",
   "execution_count": 28,
   "metadata": {
    "collapsed": false
   },
   "outputs": [],
   "source": [
    "from sklearn.feature_extraction import DictVectorizer\n",
    "\n",
    "\n",
    "vec = DictVectorizer()\n",
    "X = vec.fit_transform(X)"
   ]
  },
  {
   "cell_type": "code",
   "execution_count": 29,
   "metadata": {
    "collapsed": false
   },
   "outputs": [
    {
     "name": "stdout",
     "output_type": "stream",
     "text": [
      "Cross validation r-squared scores: 0.403165663739\n",
      "[ 0.33473043  0.41661155  0.41591862  0.39790069  0.36957474  0.35839188\n",
      "  0.37661004  0.48799347  0.39546295  0.47846227]\n",
      "Cross validation r-squared scores: 0.401224022105\n",
      "[ 0.34303511  0.42162677  0.4232788   0.39211215  0.32800715  0.35658753\n",
      "  0.3945086   0.48386448  0.38650055  0.48271909]\n",
      "Cross validation r-squared scores: 0.270919114599\n",
      "[ 0.26622343  0.31533955  0.2629531   0.20948286  0.27379395  0.21278792\n",
      "  0.22111511  0.34427635  0.25370233  0.34951655]\n",
      "Cross validation r-squared scores: 0.271713588634\n",
      "[ 0.26709454  0.31595901  0.26393381  0.21039138  0.27486122  0.21352889\n",
      "  0.22170847  0.34463347  0.25453584  0.35048926]\n"
     ]
    }
   ],
   "source": [
    "from sklearn.linear_model import LinearRegression, Ridge, Lasso, ElasticNet\n",
    "from sklearn.cross_validation import train_test_split, cross_val_score\n",
    "\n",
    "\n",
    "X_train, X_test, Y_train, Y_test = train_test_split (X, Y)\n",
    "\n",
    "regressor = LinearRegression()\n",
    "scores = cross_val_score(regressor, X, Y, cv=10)\n",
    "print 'Cross validation r-squared scores:', scores.mean()\n",
    "print scores\n",
    "\n",
    "regressor = Ridge()\n",
    "scores = cross_val_score(regressor, X, Y, cv=10)\n",
    "print 'Cross validation r-squared scores:', scores.mean()\n",
    "print scores\n",
    "\n",
    "regressor = Lasso()\n",
    "scores = cross_val_score(regressor, X, Y, cv=10)\n",
    "print 'Cross validation r-squared scores:', scores.mean()\n",
    "print scores\n",
    "\n",
    "regressor = ElasticNet()\n",
    "scores = cross_val_score(regressor, X, Y, cv=10)\n",
    "print 'Cross validation r-squared scores:', scores.mean()\n",
    "print scores"
   ]
  },
  {
   "cell_type": "code",
   "execution_count": 30,
   "metadata": {
    "collapsed": false
   },
   "outputs": [
    {
     "name": "stdout",
     "output_type": "stream",
     "text": [
      "[{1: 2}, {2: 3}]\n",
      "[{3: 2}, {4: 3}]\n"
     ]
    }
   ],
   "source": [
    "a = [{1: 2}, {2: 3}]\n",
    "b = [{3: 2}, {4: 3}]\n",
    "c = a + b\n",
    "print c[:len(a)]\n",
    "print c[len(a):]\n"
   ]
  },
  {
   "cell_type": "code",
   "execution_count": 35,
   "metadata": {
    "collapsed": false
   },
   "outputs": [
    {
     "name": "stdout",
     "output_type": "stream",
     "text": [
      "Before transform:  4749\n"
     ]
    }
   ],
   "source": [
    "X_train = []\n",
    "Y_train = []\n",
    "\n",
    "for key in train_set:\n",
    "    # We only care about positive case at this time\n",
    "    if train_set[key]['position'] < 0:\n",
    "        continue\n",
    "    uid = train_set[key]['uid']\n",
    "    qid = train_set[key]['qid']\n",
    "    pos = train_set[key]['position']\n",
    "    q_length = max(questions[qid]['pos_token'].keys())\n",
    "    category = questions[qid]['category'].lower()\n",
    "    answer = questions[qid]['answer'].lower()\n",
    "    feat = {\"uid\": str(uid), \"qid\": str(qid), \"q_length\": q_length, \"category\": category, \"answer\": answer}\n",
    "    X_train.append(feat)\n",
    "    Y_train.append(pos)\n",
    "\n",
    "X_test = []\n",
    "Y_test = []\n",
    "\n",
    "for key in test_set:\n",
    "    uid = test_set[key]['uid']\n",
    "    qid = test_set[key]['qid']\n",
    "    q_length = max(questions[qid]['pos_token'].keys())\n",
    "    category = questions[qid]['category'].lower()\n",
    "    answer = questions[qid]['answer'].lower()\n",
    "    feat = {\"uid\": str(uid), \"qid\": str(qid), \"q_length\": q_length, \"category\": category, \"answer\": answer}\n",
    "    X_test.append(feat)\n",
    "    Y_test.append(key)\n",
    "\n",
    "print \"Before transform: \", len(X_test)\n",
    "X_train_length = len(X_train)\n",
    "X = vec.fit_transform(X_train + X_test)\n",
    "X_train = X[:X_train_length]\n",
    "X_test = X[X_train_length:]"
   ]
  },
  {
   "cell_type": "code",
   "execution_count": 44,
   "metadata": {
    "collapsed": false,
    "scrolled": true
   },
   "outputs": [
    {
     "data": {
      "text/plain": [
       "Ridge(alpha=1.0, copy_X=True, fit_intercept=True, max_iter=None,\n",
       "   normalize=False, solver='auto', tol=0.001)"
      ]
     },
     "execution_count": 44,
     "metadata": {},
     "output_type": "execute_result"
    }
   ],
   "source": [
    "# regressor = LinearRegression()\n",
    "regressor = Ridge()\n",
    "regressor.fit(X_train, Y_train)"
   ]
  },
  {
   "cell_type": "code",
   "execution_count": 45,
   "metadata": {
    "collapsed": false
   },
   "outputs": [
    {
     "name": "stdout",
     "output_type": "stream",
     "text": [
      "4749\n"
     ]
    },
    {
     "data": {
      "text/plain": [
       "[[7, 23.033451312008083],\n",
       " [14, 55.545269901372571],\n",
       " [21, 69.150945002240292],\n",
       " [28, 44.660760734187321],\n",
       " [35, 71.862678877980883]]"
      ]
     },
     "execution_count": 45,
     "metadata": {},
     "output_type": "execute_result"
    }
   ],
   "source": [
    "predictions = regressor.predict(X_test)\n",
    "predictions = sorted([[id, predictions[index]] for index, id in enumerate(Y_test)])\n",
    "print len(predictions)\n",
    "predictions[:5]"
   ]
  },
  {
   "cell_type": "markdown",
   "metadata": {},
   "source": [
    "Here is 4749 predictions.\n",
    "\n",
    "## Writing submission.\n",
    "\n",
    "OK, let's writing submission into guess.csv file. In the given submission form, we realized that we need to put header. So, we will insert header at the first of predictions, and then make it as a file."
   ]
  },
  {
   "cell_type": "code",
   "execution_count": 46,
   "metadata": {
    "collapsed": true
   },
   "outputs": [],
   "source": [
    "import csv\n",
    "\n",
    "\n",
    "predictions.insert(0,[\"id\", \"position\"])\n",
    "with open('guess.csv', 'wb') as fp:\n",
    "    writer = csv.writer(fp, delimiter=',')\n",
    "    writer.writerows(predictions)"
   ]
  },
  {
   "cell_type": "markdown",
   "metadata": {},
   "source": [
    "All right. Let's submit!"
   ]
  },
  {
   "cell_type": "code",
   "execution_count": null,
   "metadata": {
    "collapsed": true
   },
   "outputs": [],
   "source": []
  }
 ],
 "metadata": {
  "kernelspec": {
   "display_name": "Python 2",
   "language": "python",
   "name": "python2"
  },
  "language_info": {
   "codemirror_mode": {
    "name": "ipython",
    "version": 2
   },
   "file_extension": ".py",
   "mimetype": "text/x-python",
   "name": "python",
   "nbconvert_exporter": "python",
   "pygments_lexer": "ipython2",
   "version": "2.7.8"
  }
 },
 "nbformat": 4,
 "nbformat_minor": 0
}
