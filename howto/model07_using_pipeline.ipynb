{
 "cells": [
  {
   "cell_type": "markdown",
   "metadata": {},
   "source": [
    "# model07\n",
    "\n",
    "## Explain this model\n",
    "\n",
    "### Model\n",
    "* Linear models: SVM, Ridge, Lasso\n",
    "\n",
    "### Features\n",
    "* uid\n",
    "* qid\n",
    "* q_length\n",
    "* category\n",
    "* answer\n",
    "* avg_per_uid: average response time per user\n",
    "* avg_per_qid: average response time per question"
   ]
  },
  {
   "cell_type": "markdown",
   "metadata": {
    "collapsed": true
   },
   "source": [
    "# Let's start our experimemt"
   ]
  },
  {
   "cell_type": "markdown",
   "metadata": {},
   "source": [
    "## Step1: Read train and test data"
   ]
  },
  {
   "cell_type": "markdown",
   "metadata": {},
   "source": [
    "### Read files for train and test set\n",
    "We alread made given csv files as a pickled data for our convenience."
   ]
  },
  {
   "cell_type": "code",
   "execution_count": 286,
   "metadata": {
    "collapsed": false
   },
   "outputs": [],
   "source": [
    "import gzip\n",
    "import pickle\n",
    "from numpy import sign\n",
    "\n",
    "with gzip.open(\"../data/train.pklz\", \"rb\") as train_file:\n",
    "    train_set = pickle.load(train_file)\n",
    "\n",
    "with gzip.open(\"../data/test.pklz\", \"rb\") as test_file:\n",
    "    test_set = pickle.load(test_file)\n",
    "\n",
    "with gzip.open(\"../data/questions.pklz\", \"rb\") as questions_file:\n",
    "    questions = pickle.load(questions_file)\n",
    "\n",
    "\n",
    "for key in train_set:\n",
    "    train_set[key]['sign_val'] = sign(train_set[key]['position'])"
   ]
  },
  {
   "cell_type": "markdown",
   "metadata": {},
   "source": [
    "### What they have?\n",
    "Just look at what each set have."
   ]
  },
  {
   "cell_type": "code",
   "execution_count": 287,
   "metadata": {
    "collapsed": false
   },
   "outputs": [
    {
     "name": "stdout",
     "output_type": "stream",
     "text": [
      "* train_set: {'position': 61.0, 'uid': 0, 'qid': 1, 'answer': 'cole', 'sign_val': 1.0}\n",
      "* test_set: {'uid': 6, 'qid': 1}\n",
      "* question keys: dict_keys(['category', 'pos_token', 'group', 'answer', 'question'])\n"
     ]
    }
   ],
   "source": [
    "print (\"* train_set:\", train_set[1])\n",
    "print (\"* test_set:\", test_set[7])\n",
    "print (\"* question keys:\", questions[1].keys())"
   ]
  },
  {
   "cell_type": "markdown",
   "metadata": {},
   "source": [
    "## Step2: Feature Engineering\n",
    "We might want to use some set of feature based on given data."
   ]
  },
  {
   "cell_type": "code",
   "execution_count": 288,
   "metadata": {
    "collapsed": false
   },
   "outputs": [],
   "source": [
    "from collections import defaultdict\n",
    "from numpy import sign\n",
    "\n",
    "\n",
    "\"\"\"\n",
    "Calculate average position(response time) per user(uid) and question(qid).\n",
    "Param:\n",
    "    data: dataset\n",
    "    sign_val: -1 for negetive only, +1 positive only, None both\n",
    "\"\"\"\n",
    "def get_avg_pos(data, sign_val=None):\n",
    "    pos_uid = defaultdict(list)\n",
    "    pos_qid = defaultdict(list)\n",
    "\n",
    "    for key in data:\n",
    "        if sign_val and sign(data[key]['position']) != sign_val:\n",
    "            continue\n",
    "        uid = data[key]['uid']\n",
    "        qid = data[key]['qid']\n",
    "        pos = data[key]['position']\n",
    "        pos_uid[uid].append(pos)\n",
    "        pos_qid[qid].append(pos)\n",
    "\n",
    "    avg_pos_uid = {}\n",
    "    avg_pos_qid = {}\n",
    "\n",
    "    for key in pos_uid:\n",
    "        avg_pos_uid[key] = sum(pos_uid[key]) / len(pos_uid[key])\n",
    "\n",
    "    for key in pos_qid:\n",
    "        avg_pos_qid[key] = sum(pos_qid[key]) / len(pos_qid[key])\n",
    "    \n",
    "    return [avg_pos_uid, avg_pos_qid]\n",
    "\n",
    "\n",
    "\"\"\"\n",
    "Make feature vectors for given data set\n",
    "\"\"\"\n",
    "def featurize(data, avg_pos, sign_val=None):\n",
    "    X = []\n",
    "    avg_pos_uid = avg_pos[0]\n",
    "    avg_pos_qid = avg_pos[1]\n",
    "    for key in data:\n",
    "        if sign_val and data[key]['sign_val'] != sign_val:\n",
    "            continue\n",
    "        uid = data[key]['uid']\n",
    "        qid = data[key]['qid']\n",
    "        q_length = max(questions[qid]['pos_token'].keys())\n",
    "        category = questions[qid]['category'].lower()\n",
    "        answer = questions[qid]['answer'].lower()\n",
    "        if uid in avg_pos_uid:\n",
    "            pos_uid = avg_pos_uid[uid]\n",
    "        else:\n",
    "            pos_uid = sum(avg_pos_uid.values()) / float(len(avg_pos_uid.values()))\n",
    "            \n",
    "        if qid in avg_pos_qid:\n",
    "            pos_qid = avg_pos_qid[qid]\n",
    "        else:\n",
    "            pos_qid = sum(avg_pos_qid.values()) / float(len(avg_pos_qid.values()))\n",
    "            \n",
    "        feat = {\"uid\": str(uid),\n",
    "                \"qid\": str(qid),\n",
    "                \"q_length\": q_length,\n",
    "                \"category\": category,\n",
    "                \"answer\": answer,\n",
    "                \"sign_val\": data[key]['sign_val'],\n",
    "                \"avg_pos_uid\": pos_uid,\n",
    "                \"avg_pos_qid\": pos_qid\n",
    "               }\n",
    "        X.append(feat)\n",
    "    \n",
    "    return X\n",
    "\n",
    "\"\"\"\n",
    "Temporary: (test only)Make feature vectors for given data set\n",
    "\"\"\"\n",
    "def featurize_test(data):\n",
    "    X = []\n",
    "    for key in data:\n",
    "        uid = data[key]['uid']\n",
    "        qid = data[key]['qid']\n",
    "        q_length = max(questions[qid]['pos_token'].keys())\n",
    "        category = questions[qid]['category'].lower()\n",
    "        answer = questions[qid]['answer'].lower()\n",
    "        feat = {\"uid\": str(uid),\n",
    "                \"qid\": str(qid),\n",
    "                \"q_length\": q_length,\n",
    "                \"category\": category,\n",
    "                \"answer\": answer,\n",
    "               }\n",
    "        X.append(feat)\n",
    "    \n",
    "    return X\n",
    "\n",
    "\n",
    "\"\"\"\n",
    "Get positions\n",
    "\"\"\"\n",
    "def get_positions(data, sign_val=None):\n",
    "    Y = []\n",
    "    for key in data:\n",
    "        if sign_val and sign(data[key]['position']) != sign_val:\n",
    "            continue\n",
    "        position = data[key]['position']\n",
    "        Y.append(position)\n",
    "    \n",
    "    return Y\n",
    "\n",
    "\"\"\"\n",
    "Select values by keys only\n",
    "\"\"\"\n",
    "def select_keys(data, keys):\n",
    "    unwanted = data[0].keys() - keys\n",
    "    for item in data:\n",
    "        for unwanted_key in unwanted:\n",
    "            del item[unwanted_key]\n",
    "    return data"
   ]
  },
  {
   "cell_type": "code",
   "execution_count": 289,
   "metadata": {
    "collapsed": false
   },
   "outputs": [
    {
     "data": {
      "text/plain": [
       "{'answer': 'thomas cole',\n",
       " 'avg_pos_qid': 69.42857142857143,\n",
       " 'avg_pos_uid': 82.01930501930502,\n",
       " 'category': 'fine arts',\n",
       " 'q_length': 77,\n",
       " 'qid': '1',\n",
       " 'sign_val': 1.0,\n",
       " 'uid': '0'}"
      ]
     },
     "execution_count": 289,
     "metadata": {},
     "output_type": "execute_result"
    }
   ],
   "source": [
    "X_train_pos = featurize(train_set, get_avg_pos(train_set, sign_val=1), sign_val=1)\n",
    "X_train_pos[0]"
   ]
  },
  {
   "cell_type": "markdown",
   "metadata": {},
   "source": [
    "Look at the feature vector."
   ]
  },
  {
   "cell_type": "code",
   "execution_count": 290,
   "metadata": {
    "collapsed": false
   },
   "outputs": [
    {
     "name": "stdout",
     "output_type": "stream",
     "text": [
      "20819\n",
      "20819\n"
     ]
    },
    {
     "data": {
      "text/plain": [
       "({'avg_pos_qid': 69.42857142857143,\n",
       "  'avg_pos_uid': 82.01930501930502,\n",
       "  'category': 'fine arts',\n",
       "  'q_length': 77,\n",
       "  'sign_val': 1.0},\n",
       " 61.0)"
      ]
     },
     "execution_count": 290,
     "metadata": {},
     "output_type": "execute_result"
    }
   ],
   "source": [
    "regression_keys = ['avg_pos_uid', 'avg_pos_qid', 'category', 'q_length', \"sign_val\"]\n",
    "X_train_pos = featurize(train_set, get_avg_pos(train_set, sign_val=1), sign_val=1)\n",
    "X_train_pos = select_keys(X_train_pos, regression_keys)\n",
    "Y_train_pos = get_positions(train_set, sign_val=1)\n",
    "print(len(X_train_pos))\n",
    "print(len(Y_train_pos))\n",
    "X_train_pos[0], Y_train_pos[0]"
   ]
  },
  {
   "cell_type": "code",
   "execution_count": 291,
   "metadata": {
    "collapsed": false
   },
   "outputs": [
    {
     "name": "stdout",
     "output_type": "stream",
     "text": [
      "7675\n",
      "7675\n",
      "{'sign_val': -1.0, 'avg_pos_uid': -83.25, 'category': 'literature', 'q_length': 128, 'avg_pos_qid': -128.25} -129.0\n"
     ]
    }
   ],
   "source": [
    "X_train_neg = featurize(train_set, get_avg_pos(train_set, sign_val=-1), sign_val=-1)\n",
    "X_train_neg = select_keys(X_train_neg, regression_keys)\n",
    "Y_train_neg = get_positions(train_set, sign_val=-1)\n",
    "print (len(X_train_neg))\n",
    "print (len(Y_train_neg))\n",
    "print (X_train_neg[5], Y_train_neg[5])"
   ]
  },
  {
   "cell_type": "code",
   "execution_count": 292,
   "metadata": {
    "collapsed": false
   },
   "outputs": [
    {
     "name": "stdout",
     "output_type": "stream",
     "text": [
      "{'astronomy', 'social studies', 'earth science', 'history', 'literature', 'mathematics', 'physics', 'fine arts', 'chemistry', 'other', 'biology'}\n"
     ]
    },
    {
     "data": {
      "image/png": "[encoded data removed]",
      "text/plain": [
       "<matplotlib.figure.Figure at 0x7fd0292de6a0>"
      ]
     },
     "metadata": {},
     "output_type": "display_data"
    }
   ],
   "source": [
    "%matplotlib inline\n",
    "import matplotlib.pyplot as plt\n",
    "\n",
    "cat = [[item['category'], Y_train_pos[ii]] for ii, item in enumerate(X_train_pos)]\n",
    "print (set([item[0] for item in cat]))\n",
    "\n",
    "plt.figure(figsize=(15, 10), dpi=400)\n",
    "plt.xlabel(\"Position\")\n",
    "plt.ylabel(\"Frequency\")\n",
    "#for category in set([item[0] for item in cat]):\n",
    "for category in ['astronomy','biology', 'chemistry', 'earth science', 'physics']:\n",
    "    plt.hist([item[1] for item in cat if item[0]==category],\n",
    "             bins=70,\n",
    "             histtype=\"step\",\n",
    "             alpha=.8,\n",
    "             label=category\n",
    "            )\n",
    "    plt.legend(title='Category')"
   ]
  },
  {
   "cell_type": "code",
   "execution_count": 293,
   "metadata": {
    "collapsed": false
   },
   "outputs": [
    {
     "name": "stdout",
     "output_type": "stream",
     "text": [
      "{'astronomy', 'social studies', 'earth science', 'history', 'literature', 'mathematics', 'physics', 'fine arts', 'chemistry', 'other', 'biology'}\n"
     ]
    },
    {
     "data": {
      "image/png": "[encoded data removed]",
      "text/plain": [
       "<matplotlib.figure.Figure at 0x7fd02ac02f98>"
      ]
     },
     "metadata": {},
     "output_type": "display_data"
    }
   ],
   "source": [
    "cat = [[item['category'], Y_train_neg[ii]] for ii, item in enumerate(X_train_neg)]\n",
    "print (set([item[0] for item in cat]))\n",
    "\n",
    "plt.figure(figsize=(15, 10), dpi=400)\n",
    "plt.xlabel(\"Position\")\n",
    "plt.ylabel(\"Frequency\")\n",
    "#for category in set([item[0] for item in cat]):\n",
    "for category in ['astronomy','biology', 'chemistry', 'earth science', 'physics']:\n",
    "    plt.hist([item[1] for item in cat if item[0]==category],\n",
    "             bins=70,\n",
    "             histtype=\"step\",\n",
    "             alpha=.8,\n",
    "             label=category\n",
    "            )\n",
    "    plt.legend(title='Category')"
   ]
  },
  {
   "cell_type": "markdown",
   "metadata": {},
   "source": [
    "## Step3: Cross varidation"
   ]
  },
  {
   "cell_type": "code",
   "execution_count": 294,
   "metadata": {
    "collapsed": false
   },
   "outputs": [
    {
     "name": "stdout",
     "output_type": "stream",
     "text": [
      "=== Linear Cross validation RMSE scores:\n",
      "LinearRegression 20.9786158657\n",
      "Ridge 21.3055902371\n",
      "Lasso 20.9702655622\n",
      "ElasticNet 20.9702478838\n"
     ]
    }
   ],
   "source": [
    "import multiprocessing\n",
    "from sklearn import linear_model\n",
    "from sklearn.cross_validation import train_test_split, cross_val_score\n",
    "from sklearn.feature_extraction import DictVectorizer\n",
    "import math\n",
    "from numpy import abs, sqrt\n",
    "\n",
    "vec = DictVectorizer()\n",
    "X_train_pos = vec.fit_transform(X_train_pos)\n",
    "\n",
    "regressor_names = \"\"\"\n",
    "LinearRegression\n",
    "Ridge\n",
    "Lasso\n",
    "ElasticNet\n",
    "\"\"\"\n",
    "print (\"=== Linear Cross validation RMSE scores:\")\n",
    "for regressor in regressor_names.split():\n",
    "    scores = cross_val_score(getattr(linear_model, regressor)(),\n",
    "                             X_train_pos, Y_train_pos,\n",
    "                             cv=10,\n",
    "                             scoring='mean_squared_error',\n",
    "                             n_jobs=multiprocessing.cpu_count()-1\n",
    "                            )\n",
    "    print (regressor, sqrt(abs(scores)).mean())"
   ]
  },
  {
   "cell_type": "code",
   "execution_count": 295,
   "metadata": {
    "collapsed": false
   },
   "outputs": [
    {
     "name": "stdout",
     "output_type": "stream",
     "text": [
      "LinearRegression 20.6051987904\n",
      "Ridge 20.8181271328\n",
      "Lasso 20.5990567095\n",
      "ElasticNet 20.5990399413\n"
     ]
    }
   ],
   "source": [
    "X_train_neg = vec.fit_transform(X_train_neg)\n",
    "for regressor in regressor_names.split():\n",
    "    scores = cross_val_score(getattr(linear_model, regressor)(),\n",
    "                             X_train_neg, Y_train_neg,\n",
    "                             cv=10,\n",
    "                             scoring='mean_squared_error',\n",
    "                             n_jobs=multiprocessing.cpu_count()-1\n",
    "                            )\n",
    "    print (regressor, sqrt(abs(scores)).mean())"
   ]
  },
  {
   "cell_type": "code",
   "execution_count": 296,
   "metadata": {
    "collapsed": false
   },
   "outputs": [
    {
     "name": "stdout",
     "output_type": "stream",
     "text": [
      "28494\n",
      "28494\n",
      "{'qid': '1', 'category': 'fine arts', 'uid': '0', 'q_length': 77, 'answer': 'thomas cole'} 61.0\n"
     ]
    }
   ],
   "source": [
    "svm_keys = ['qid', 'uid', 'q_length', 'category', 'answer']\n",
    "X_train = featurize(train_set, get_avg_pos(train_set))\n",
    "X_train = select_keys(X_train, svm_keys)\n",
    "Y_train = get_positions(train_set)\n",
    "print (len(X_train))\n",
    "print (len(Y_train))\n",
    "print (X_train[0], Y_train[0])\n",
    "Y_train = get_positions(train_set)\n",
    "X_train = vec.fit_transform(X_train)"
   ]
  },
  {
   "cell_type": "code",
   "execution_count": 297,
   "metadata": {
    "collapsed": false
   },
   "outputs": [
    {
     "name": "stdout",
     "output_type": "stream",
     "text": [
      "rbf\n",
      "[ 0.73122807  0.6522807   0.73087719  0.70210526  0.60701754  0.61179361\n",
      "  0.7016497   0.66900667  0.6995437   0.73103933]\n",
      "0.683654177977\n"
     ]
    }
   ],
   "source": [
    "from numpy import sign\n",
    "import numpy as np\n",
    "from sklearn import svm, grid_search\n",
    "from sklearn.cross_validation import StratifiedShuffleSplit\n",
    "from sklearn.grid_search import GridSearchCV\n",
    "\n",
    "\n",
    "for kernel in ['rbf']:\n",
    "    svr = svm.SVC(kernel=kernel, gamma=0.1)\n",
    "    scores = cross_val_score(svr,\n",
    "                             X_train, sign(Y_train),\n",
    "                             cv=10,\n",
    "                             scoring=None,\n",
    "                             n_jobs=multiprocessing.cpu_count()-1\n",
    "                            )\n",
    "    print (kernel)\n",
    "    print (scores)\n",
    "    print (scores.mean())"
   ]
  },
  {
   "cell_type": "markdown",
   "metadata": {},
   "source": [
    "## Step4: Prediction"
   ]
  },
  {
   "cell_type": "code",
   "execution_count": 298,
   "metadata": {
    "collapsed": false
   },
   "outputs": [],
   "source": [
    "svm_keys = ['qid', 'uid', 'q_length', 'category', 'answer']\n",
    "X_train = featurize(train_set, get_avg_pos(train_set))\n",
    "X_train = select_keys(X_train, svm_keys)\n",
    "Y_train = get_positions(train_set)"
   ]
  },
  {
   "cell_type": "code",
   "execution_count": 299,
   "metadata": {
    "collapsed": false
   },
   "outputs": [],
   "source": [
    "X_test = featurize_test(test_set)\n",
    "X_test = select_keys(X_test, svm_keys)"
   ]
  },
  {
   "cell_type": "code",
   "execution_count": 300,
   "metadata": {
    "collapsed": false
   },
   "outputs": [],
   "source": [
    "X_train_length = len(X_train)\n",
    "X = vec.fit_transform(X_train + X_test)\n",
    "X_train = X[:X_train_length]\n",
    "X_test = X[X_train_length:]"
   ]
  },
  {
   "cell_type": "code",
   "execution_count": 301,
   "metadata": {
    "collapsed": false
   },
   "outputs": [
    {
     "data": {
      "text/plain": [
       "SVC(C=1.0, cache_size=200, class_weight=None, coef0=0.0, degree=3, gamma=0.1,\n",
       "  kernel='rbf', max_iter=-1, probability=False, random_state=None,\n",
       "  shrinking=True, tol=0.001, verbose=False)"
      ]
     },
     "execution_count": 301,
     "metadata": {},
     "output_type": "execute_result"
    }
   ],
   "source": [
    "svr = svm.SVC(kernel='rbf', gamma=0.1)\n",
    "svr.fit(X_train, sign(Y_train))"
   ]
  },
  {
   "cell_type": "code",
   "execution_count": 302,
   "metadata": {
    "collapsed": false
   },
   "outputs": [],
   "source": [
    "predictions = svr.predict(X_test)"
   ]
  },
  {
   "cell_type": "code",
   "execution_count": 303,
   "metadata": {
    "collapsed": false
   },
   "outputs": [
    {
     "name": "stdout",
     "output_type": "stream",
     "text": [
      "28494\n",
      "13144.0\n",
      "4749\n",
      "4241.0\n"
     ]
    }
   ],
   "source": [
    "print (len(sign(Y_train)))\n",
    "print (sum(sign(Y_train)))\n",
    "print (len(predictions))\n",
    "print (predictions.sum())"
   ]
  },
  {
   "cell_type": "code",
   "execution_count": 304,
   "metadata": {
    "collapsed": false
   },
   "outputs": [],
   "source": [
    "regression_keys = ['avg_pos_uid', 'avg_pos_qid', 'q_length', 'sign_val']\n",
    "avg_pos_pos = get_avg_pos(train_set, sign_val=1)\n",
    "X_train_pos = featurize(train_set, avg_pos_pos, sign_val=1)\n",
    "X_train_pos = select_keys(X_train_pos, regression_keys)\n",
    "Y_train_pos = get_positions(train_set, sign_val=1)\n",
    "\n",
    "avg_pos_neg = get_avg_pos(train_set, sign_val=-1)\n",
    "X_train_neg = featurize(train_set, avg_pos_neg, sign_val=-1)\n",
    "X_train_neg = select_keys(X_train_neg, regression_keys)\n",
    "Y_train_neg = get_positions(train_set, sign_val=-1)\n",
    "\n",
    "X_test = test_set"
   ]
  },
  {
   "cell_type": "code",
   "execution_count": 305,
   "metadata": {
    "collapsed": false
   },
   "outputs": [],
   "source": [
    "for index, key in enumerate(X_test):\n",
    "    X_test[key]['sign_val'] = predictions[index]"
   ]
  },
  {
   "cell_type": "code",
   "execution_count": 306,
   "metadata": {
    "collapsed": false
   },
   "outputs": [],
   "source": [
    "X_test_final = []\n",
    "for index, key in enumerate(X_test):\n",
    "    if predictions[index] == 1.0:\n",
    "        X_test_final.append(featurize({key: X_test[key]}, avg_pos_pos, sign_val=1)[0])\n",
    "    else:\n",
    "        X_test_final.append(featurize({key: X_test[key]}, avg_pos_neg, sign_val=-1)[0])"
   ]
  },
  {
   "cell_type": "code",
   "execution_count": 307,
   "metadata": {
    "collapsed": true
   },
   "outputs": [],
   "source": [
    "regression_keys = ['avg_pos_uid', 'avg_pos_qid', 'q_length', 'sign_val']\n",
    "X_train_pos = featurize(train_set, get_avg_pos(train_set, sign_val=1), sign_val=1)\n",
    "X_train_pos = select_keys(X_train_pos, regression_keys)\n",
    "Y_train_pos = get_positions(train_set, sign_val=1)\n",
    "\n",
    "X_train_neg = featurize(train_set, get_avg_pos(train_set, sign_val=-1), sign_val=-1)\n",
    "X_train_neg = select_keys(X_train_neg, regression_keys)\n",
    "Y_train_neg = get_positions(train_set, sign_val=-1)"
   ]
  },
  {
   "cell_type": "code",
   "execution_count": 308,
   "metadata": {
    "collapsed": true
   },
   "outputs": [],
   "source": [
    "X_train_pos = vec.fit_transform(X_train_pos)\n",
    "X_train_neg = vec.fit_transform(X_train_neg)"
   ]
  },
  {
   "cell_type": "code",
   "execution_count": 309,
   "metadata": {
    "collapsed": false
   },
   "outputs": [
    {
     "data": {
      "text/plain": [
       "Lasso(alpha=1.0, copy_X=True, fit_intercept=True, max_iter=1000,\n",
       "   normalize=False, positive=False, precompute=False, random_state=None,\n",
       "   selection='cyclic', tol=0.0001, warm_start=False)"
      ]
     },
     "execution_count": 309,
     "metadata": {},
     "output_type": "execute_result"
    }
   ],
   "source": [
    "regressor_pos = linear_model.Lasso()\n",
    "regressor_pos.fit(X_train_pos, Y_train_pos)"
   ]
  },
  {
   "cell_type": "code",
   "execution_count": 310,
   "metadata": {
    "collapsed": false
   },
   "outputs": [
    {
     "data": {
      "text/plain": [
       "Lasso(alpha=1.0, copy_X=True, fit_intercept=True, max_iter=1000,\n",
       "   normalize=False, positive=False, precompute=False, random_state=None,\n",
       "   selection='cyclic', tol=0.0001, warm_start=False)"
      ]
     },
     "execution_count": 310,
     "metadata": {},
     "output_type": "execute_result"
    }
   ],
   "source": [
    "regressor_neg = linear_model.Lasso()\n",
    "regressor_neg.fit(X_train_neg, Y_train_neg)"
   ]
  },
  {
   "cell_type": "code",
   "execution_count": 311,
   "metadata": {
    "collapsed": false
   },
   "outputs": [],
   "source": [
    "X_test_final = select_keys(X_test_final, regression_keys)"
   ]
  },
  {
   "cell_type": "code",
   "execution_count": 312,
   "metadata": {
    "collapsed": false
   },
   "outputs": [],
   "source": [
    "X_test_final_vec = vec.fit_transform(X_test_final)\n",
    "final_predictions = []\n",
    "for index, item in enumerate(X_test_final):\n",
    "    if item['sign_val'] == 1.0:\n",
    "        final_predictions.append(regressor_pos.predict(X_test_final_vec[index])[0])\n",
    "    else:\n",
    "        final_predictions.append(regressor_neg.predict(X_test_final_vec[index])[0])"
   ]
  },
  {
   "cell_type": "code",
   "execution_count": 313,
   "metadata": {
    "collapsed": false
   },
   "outputs": [
    {
     "name": "stdout",
     "output_type": "stream",
     "text": [
      "4749\n"
     ]
    },
    {
     "data": {
      "text/plain": [
       "[[7, 55.957411241442216],\n",
       " [14, 72.142308264923827],\n",
       " [21, 70.161034784750882],\n",
       " [28, 58.181064927561664],\n",
       " [35, 64.663691941971933]]"
      ]
     },
     "execution_count": 313,
     "metadata": {},
     "output_type": "execute_result"
    }
   ],
   "source": [
    "final_predictions = sorted([[id, final_predictions[index]] for index, id in enumerate(test_set.keys())])\n",
    "print (len(final_predictions))\n",
    "final_predictions[:5]"
   ]
  },
  {
   "cell_type": "markdown",
   "metadata": {},
   "source": [
    "## Step5: Writing submission."
   ]
  },
  {
   "cell_type": "code",
   "execution_count": 314,
   "metadata": {
    "collapsed": false
   },
   "outputs": [],
   "source": [
    "import csv\n",
    "\n",
    "\n",
    "final_predictions.insert(0,[\"id\", \"position\"])\n",
    "with open('guess.csv', 'w') as fp:\n",
    "    writer = csv.writer(fp, delimiter=',')\n",
    "    writer.writerows(final_predictions)"
   ]
  }
 ],
 "metadata": {
  "kernelspec": {
   "display_name": "Python 3",
   "language": "python",
   "name": "python3"
  },
  "language_info": {
   "codemirror_mode": {
    "name": "ipython",
    "version": 3
   },
   "file_extension": ".py",
   "mimetype": "text/x-python",
   "name": "python",
   "nbconvert_exporter": "python",
   "pygments_lexer": "ipython3",
   "version": "3.4.3"
  }
 },
 "nbformat": 4,
 "nbformat_minor": 0
}
