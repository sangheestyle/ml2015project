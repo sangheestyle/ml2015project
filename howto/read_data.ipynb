{
 "cells": [
  {
   "cell_type": "markdown",
   "metadata": {},
   "source": [
    "Here, I will show you how to read `questions.csv` file. Let's do it.\n",
    "\n",
    "First above all, you need to import `csv` and `yaml` then read the csv formatted file."
   ]
  },
  {
   "cell_type": "code",
   "execution_count": 7,
   "metadata": {
    "collapsed": true
   },
   "outputs": [],
   "source": [
    "import csv\n",
    "import yaml"
   ]
  },
  {
   "cell_type": "code",
   "execution_count": 8,
   "metadata": {
    "collapsed": false
   },
   "outputs": [],
   "source": [
    "reader = csv.reader(open(\"../data/questions.csv\"))"
   ]
  },
  {
   "cell_type": "markdown",
   "metadata": {},
   "source": [
    "Read the first line and see the structure."
   ]
  },
  {
   "cell_type": "code",
   "execution_count": 9,
   "metadata": {
    "collapsed": false
   },
   "outputs": [],
   "source": [
    "question_1 = reader.next()"
   ]
  },
  {
   "cell_type": "code",
   "execution_count": 10,
   "metadata": {
    "collapsed": false
   },
   "outputs": [
    {
     "data": {
      "text/plain": [
       "['1',\n",
       " 'thomas cole',\n",
       " 'test',\n",
       " 'Fine Arts',\n",
       " \"This painter's indulgence of visual fantasy, and appreciation of different historic architectural styles can be seen in his 1840 Architect's Dream. After a series of paintings on The Last of the Mohicans, he made a three year trip to Europe in 1829, but he is better known for a trip four years earlier in which he journeyed up the Hudson River to the Catskill Mountains. FTP, name this painter of The Oxbow and The Voyage of Life series.\",\n",
       " \"{0: '', 1: u'painters', 2: u'indulgence', 4: u'visual', 5: u'fantasy', 7: u'appreciation', 9: u'different', 10: u'historic', 11: u'architectural', 12: u'styles', 15: u'seen', 18: u'1840', 19: u'architects', 20: u'dream', 23: u'series', 25: u'paintings', 28: u'last', 31: u'mohicans', 33: u'made', 35: u'three', 36: u'year', 37: u'trip', 39: u'europe', 41: u'1829', 45: u'better', 46: u'known', 49: u'trip', 50: u'four', 51: u'years', 52: u'earlier', 56: u'journeyed', 59: u'hudson', 60: u'river', 63: u'catskill', 64: u'mountains', 65: u'ftp', 66: u'name', 68: u'this_painter', 71: u'oxbow', 74: u'voyage', 76: u'life', 77: u'series'}\"]"
      ]
     },
     "execution_count": 10,
     "metadata": {},
     "output_type": "execute_result"
    }
   ],
   "source": [
    "question_1"
   ]
  },
  {
   "cell_type": "markdown",
   "metadata": {},
   "source": [
    "Yes, each line is converted into `list` and it has 6 items as expected. However, how can we use the last item? It is `string` type but it seems `dictionary` or `json`.\n",
    "\n",
    "OK, let's try to convert it into `dictionary`."
   ]
  },
  {
   "cell_type": "code",
   "execution_count": 11,
   "metadata": {
    "collapsed": false
   },
   "outputs": [
    {
     "data": {
      "text/plain": [
       "{0: '',\n",
       " 1: 'painters',\n",
       " 2: 'indulgence',\n",
       " 4: 'visual',\n",
       " 5: 'fantasy',\n",
       " 7: 'appreciation',\n",
       " 9: 'different',\n",
       " 10: 'historic',\n",
       " 11: 'architectural',\n",
       " 12: 'styles',\n",
       " 15: 'seen',\n",
       " 18: '1840',\n",
       " 19: 'architects',\n",
       " 20: 'dream',\n",
       " 23: 'series',\n",
       " 25: 'paintings',\n",
       " 28: 'last',\n",
       " 31: 'mohicans',\n",
       " 33: 'made',\n",
       " 35: 'three',\n",
       " 36: 'year',\n",
       " 37: 'trip',\n",
       " 39: 'europe',\n",
       " 41: '1829',\n",
       " 45: 'better',\n",
       " 46: 'known',\n",
       " 49: 'trip',\n",
       " 50: 'four',\n",
       " 51: 'years',\n",
       " 52: 'earlier',\n",
       " 56: 'journeyed',\n",
       " 59: 'hudson',\n",
       " 60: 'river',\n",
       " 63: 'catskill',\n",
       " 64: 'mountains',\n",
       " 65: 'ftp',\n",
       " 66: 'name',\n",
       " 68: 'this_painter',\n",
       " 71: 'oxbow',\n",
       " 74: 'voyage',\n",
       " 76: 'life',\n",
       " 77: 'series'}"
      ]
     },
     "execution_count": 11,
     "metadata": {},
     "output_type": "execute_result"
    }
   ],
   "source": [
    "yaml.load(question_1[-1].replace(\": u'\", \": '\"))"
   ]
  },
  {
   "cell_type": "markdown",
   "metadata": {},
   "source": [
    "Now, you know how to convert `csv` files into other formats that you want. So, you can handle all the given files."
   ]
  },
  {
   "cell_type": "code",
   "execution_count": null,
   "metadata": {
    "collapsed": true
   },
   "outputs": [],
   "source": []
  }
 ],
 "metadata": {
  "kernelspec": {
   "display_name": "Python 2",
   "language": "python",
   "name": "python2"
  },
  "language_info": {
   "codemirror_mode": {
    "name": "ipython",
    "version": 2
   },
   "file_extension": ".py",
   "mimetype": "text/x-python",
   "name": "python",
   "nbconvert_exporter": "python",
   "pygments_lexer": "ipython2",
   "version": "2.7.9"
  }
 },
 "nbformat": 4,
 "nbformat_minor": 0
}
