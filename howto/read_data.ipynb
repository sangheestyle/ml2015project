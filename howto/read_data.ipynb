{
 "cells": [
  {
   "cell_type": "markdown",
   "metadata": {},
   "source": [
    "Here, I will show you how to read `questions.csv` file. Let's do it.\n",
    "\n",
    "## Read csv formatted file without header\n",
    "\n",
    "First above all, you need to import `csv` and `yaml` then read the csv formatted file."
   ]
  },
  {
   "cell_type": "code",
   "execution_count": 2,
   "metadata": {
    "collapsed": true
   },
   "outputs": [],
   "source": [
    "import csv\n",
    "import yaml"
   ]
  },
  {
   "cell_type": "code",
   "execution_count": 3,
   "metadata": {
    "collapsed": false
   },
   "outputs": [],
   "source": [
    "reader = csv.reader(open(\"../data/questions.csv\"))"
   ]
  },
  {
   "cell_type": "markdown",
   "metadata": {},
   "source": [
    "Read the first line and see the structure."
   ]
  },
  {
   "cell_type": "code",
   "execution_count": 4,
   "metadata": {
    "collapsed": false
   },
   "outputs": [],
   "source": [
    "question_1 = reader.next()"
   ]
  },
  {
   "cell_type": "code",
   "execution_count": 5,
   "metadata": {
    "collapsed": false
   },
   "outputs": [
    {
     "data": {
      "text/plain": [
       "['1',\n",
       " 'thomas cole',\n",
       " 'test',\n",
       " 'Fine Arts',\n",
       " \"This painter's indulgence of visual fantasy, and appreciation of different historic architectural styles can be seen in his 1840 Architect's Dream. After a series of paintings on The Last of the Mohicans, he made a three year trip to Europe in 1829, but he is better known for a trip four years earlier in which he journeyed up the Hudson River to the Catskill Mountains. FTP, name this painter of The Oxbow and The Voyage of Life series.\",\n",
       " \"{0: '', 1: u'painters', 2: u'indulgence', 4: u'visual', 5: u'fantasy', 7: u'appreciation', 9: u'different', 10: u'historic', 11: u'architectural', 12: u'styles', 15: u'seen', 18: u'1840', 19: u'architects', 20: u'dream', 23: u'series', 25: u'paintings', 28: u'last', 31: u'mohicans', 33: u'made', 35: u'three', 36: u'year', 37: u'trip', 39: u'europe', 41: u'1829', 45: u'better', 46: u'known', 49: u'trip', 50: u'four', 51: u'years', 52: u'earlier', 56: u'journeyed', 59: u'hudson', 60: u'river', 63: u'catskill', 64: u'mountains', 65: u'ftp', 66: u'name', 68: u'this_painter', 71: u'oxbow', 74: u'voyage', 76: u'life', 77: u'series'}\"]"
      ]
     },
     "execution_count": 5,
     "metadata": {},
     "output_type": "execute_result"
    }
   ],
   "source": [
    "question_1"
   ]
  },
  {
   "cell_type": "markdown",
   "metadata": {},
   "source": [
    "Yes, each line is converted into `list` and it has 6 items as expected. However, how can we use the last item? It is `string` type but it seems `dictionary` or `json`.\n",
    "\n",
    "OK, let's try to convert it into `dictionary`."
   ]
  },
  {
   "cell_type": "code",
   "execution_count": 6,
   "metadata": {
    "collapsed": false
   },
   "outputs": [
    {
     "data": {
      "text/plain": [
       "{0: '',\n",
       " 1: 'painters',\n",
       " 2: 'indulgence',\n",
       " 4: 'visual',\n",
       " 5: 'fantasy',\n",
       " 7: 'appreciation',\n",
       " 9: 'different',\n",
       " 10: 'historic',\n",
       " 11: 'architectural',\n",
       " 12: 'styles',\n",
       " 15: 'seen',\n",
       " 18: '1840',\n",
       " 19: 'architects',\n",
       " 20: 'dream',\n",
       " 23: 'series',\n",
       " 25: 'paintings',\n",
       " 28: 'last',\n",
       " 31: 'mohicans',\n",
       " 33: 'made',\n",
       " 35: 'three',\n",
       " 36: 'year',\n",
       " 37: 'trip',\n",
       " 39: 'europe',\n",
       " 41: '1829',\n",
       " 45: 'better',\n",
       " 46: 'known',\n",
       " 49: 'trip',\n",
       " 50: 'four',\n",
       " 51: 'years',\n",
       " 52: 'earlier',\n",
       " 56: 'journeyed',\n",
       " 59: 'hudson',\n",
       " 60: 'river',\n",
       " 63: 'catskill',\n",
       " 64: 'mountains',\n",
       " 65: 'ftp',\n",
       " 66: 'name',\n",
       " 68: 'this_painter',\n",
       " 71: 'oxbow',\n",
       " 74: 'voyage',\n",
       " 76: 'life',\n",
       " 77: 'series'}"
      ]
     },
     "execution_count": 6,
     "metadata": {},
     "output_type": "execute_result"
    }
   ],
   "source": [
    "yaml.load(question_1[-1].replace(\": u'\", \": '\"))"
   ]
  },
  {
   "cell_type": "markdown",
   "metadata": {},
   "source": [
    "Now, you know how to convert `csv` files into other formats that you want. So, you can handle all the given files."
   ]
  },
  {
   "cell_type": "markdown",
   "metadata": {
    "collapsed": true
   },
   "source": [
    "## Convert csv into list\n",
    "Let's try to read `train.csv`."
   ]
  },
  {
   "cell_type": "code",
   "execution_count": 12,
   "metadata": {
    "collapsed": false
   },
   "outputs": [],
   "source": [
    "reader = csv.reader(open(\"../data/train.csv\"))"
   ]
  },
  {
   "cell_type": "markdown",
   "metadata": {},
   "source": [
    "However, you know that train.csv has `header` which is not data we want to use. So, you might need to get rid of the first line. By the way, we need to know that `reader` returned by `csv.reader` is enumerater not list. So, you just use reader only once. If you want to use it once again, you need to use `csv.reader` once."
   ]
  },
  {
   "cell_type": "code",
   "execution_count": 13,
   "metadata": {
    "collapsed": false
   },
   "outputs": [
    {
     "data": {
      "text/plain": [
       "['id', 'question', 'user', 'position', 'answer']"
      ]
     },
     "execution_count": 13,
     "metadata": {},
     "output_type": "execute_result"
    }
   ],
   "source": [
    "reader.next()"
   ]
  },
  {
   "cell_type": "markdown",
   "metadata": {},
   "source": [
    "OK, now `reader` is on the 2nd line of the csv flie. Try to convert it into list."
   ]
  },
  {
   "cell_type": "code",
   "execution_count": 14,
   "metadata": {
    "collapsed": true
   },
   "outputs": [],
   "source": [
    "train_set = []\n",
    "for row in reader:\n",
    "    train_set.append(row)"
   ]
  },
  {
   "cell_type": "code",
   "execution_count": 15,
   "metadata": {
    "collapsed": false
   },
   "outputs": [
    {
     "name": "stdout",
     "output_type": "stream",
     "text": [
      "28494\n"
     ]
    }
   ],
   "source": [
    "print len(train_set)"
   ]
  },
  {
   "cell_type": "code",
   "execution_count": 16,
   "metadata": {
    "collapsed": false
   },
   "outputs": [
    {
     "name": "stdout",
     "output_type": "stream",
     "text": [
      "5\n"
     ]
    }
   ],
   "source": [
    "print len(train_set[0])"
   ]
  },
  {
   "cell_type": "code",
   "execution_count": 18,
   "metadata": {
    "collapsed": false
   },
   "outputs": [
    {
     "name": "stdout",
     "output_type": "stream",
     "text": [
      "['1', '1', '0', '61.0', 'cole']\n",
      "['33242', '103765', '50', '94.0', 'olympia']\n"
     ]
    }
   ],
   "source": [
    "print train_set[0]\n",
    "print train_set[-1]"
   ]
  },
  {
   "cell_type": "markdown",
   "metadata": {},
   "source": [
    "I guess you know realized that why csv.reader return enumerator instead of list. This is because we don't know how the size of given csv file. If the file is too big, we got memory fault. So, in this case, enumerator is much bettern than list.\n",
    "\n",
    "It means that, if we don't need to convert csv into list, please don't convert csv into list to save memory."
   ]
  },
  {
   "cell_type": "code",
   "execution_count": null,
   "metadata": {
    "collapsed": true
   },
   "outputs": [],
   "source": []
  }
 ],
 "metadata": {
  "kernelspec": {
   "display_name": "Python 2",
   "language": "python",
   "name": "python2"
  },
  "language_info": {
   "codemirror_mode": {
    "name": "ipython",
    "version": 2
   },
   "file_extension": ".py",
   "mimetype": "text/x-python",
   "name": "python",
   "nbconvert_exporter": "python",
   "pygments_lexer": "ipython2",
   "version": "2.7.9"
  }
 },
 "nbformat": 4,
 "nbformat_minor": 0
}
