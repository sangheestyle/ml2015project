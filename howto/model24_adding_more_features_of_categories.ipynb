{
 "cells": [
  {
   "cell_type": "markdown",
   "metadata": {},
   "source": [
    "# Model24: adding more features of categories"
   ]
  },
  {
   "cell_type": "code",
   "execution_count": 128,
   "metadata": {
    "collapsed": false
   },
   "outputs": [],
   "source": [
    "%matplotlib inline\n",
    "import numpy as np\n",
    "import matplotlib.pyplot as plt\n",
    "\n",
    "from utils import load_buzz, select, write_result\n",
    "from features import featurize, get_pos\n",
    "from containers import Questions, Users, Categories\n",
    "from nlp import extract_entities"
   ]
  },
  {
   "cell_type": "code",
   "execution_count": null,
   "metadata": {
    "collapsed": true
   },
   "outputs": [],
   "source": [
    "import pickle\n",
    "\n",
    "\n",
    "questions = pickle.load(open('questions01.pkl', 'rb'))\n",
    "users = pickle.load(open('users01.pkl', 'rb'))\n",
    "categories = pickle.load(open('categories01.pkl', 'rb'))"
   ]
  },
  {
   "cell_type": "code",
   "execution_count": 119,
   "metadata": {
    "collapsed": false
   },
   "outputs": [],
   "source": [
    "from collections import defaultdict\n",
    "from numpy import sign\n",
    "\n",
    "def get_cat_pos_per_uid(bd):\n",
    "    cat_pos_uid = defaultdict(lambda: defaultdict(list))\n",
    "    for key in bd:\n",
    "        uid = bd[key]['uid']\n",
    "        cat = questions[bd[key]['qid']]['category'].lower()\n",
    "        pos = bd[key]['position']\n",
    "        cat_pos_uid[uid][cat].append(pos)\n",
    "    return cat_pos_uid\n",
    "\n",
    "\n",
    "def cal_acc_cat_per_uid(bd):\n",
    "    acc_cat_per_uid = defaultdict(lambda: defaultdict(float))\n",
    "    cat_pos_uid = get_cat_pos_per_uid(bd)\n",
    "    for uid in cat_pos_uid:\n",
    "        for cat in cat_pos_uid[uid]:\n",
    "            answers = sign(cat_pos_uid[uid][cat])\n",
    "            acc = list(answers).count(1) / float(len(answers))\n",
    "            acc_cat_per_uid[uid][cat] = acc\n",
    "\n",
    "    return acc_cat_per_uid\n",
    "\n",
    "def get_acc_cat_per_uid(bd):\n",
    "    acc_cat_per_uid = acc_cat_per_uid_inter.copy()\n",
    "    for uid in acc_cat_per_uid_inter:\n",
    "        for cat in categories:\n",
    "            if cat not in acc_cat_per_uid[uid]:\n",
    "                acc_cat_per_uid[uid][cat] = categories[cat]['acc_ratio_cat']\n",
    "    \n",
    "    return acc_cat_per_uid"
   ]
  },
  {
   "cell_type": "code",
   "execution_count": 120,
   "metadata": {
    "collapsed": false
   },
   "outputs": [],
   "source": [
    "acc_cat_per_uid = get_acc_cat_per_uid(load_buzz()['train'])"
   ]
  },
  {
   "cell_type": "code",
   "execution_count": 124,
   "metadata": {
    "collapsed": false
   },
   "outputs": [],
   "source": [
    "for uid in users:\n",
    "    for cat in categories.keys():\n",
    "        users[uid]['acc_cat_' + cat] = acc_cat_per_uid[uid][cat]"
   ]
  },
  {
   "cell_type": "code",
   "execution_count": 126,
   "metadata": {
    "collapsed": false
   },
   "outputs": [
    {
     "data": {
      "text/plain": [
       "{'acc_cat_astronomy': 0.6634615384615384,\n",
       " 'acc_cat_biology': 0.3333333333333333,\n",
       " 'acc_cat_chemistry': 0.5,\n",
       " 'acc_cat_earth science': 0.7358490566037735,\n",
       " 'acc_cat_fine arts': 0.7272727272727273,\n",
       " 'acc_cat_history': 0.3333333333333333,\n",
       " 'acc_cat_literature': 0.9411764705882353,\n",
       " 'acc_cat_mathematics': 0.65625,\n",
       " 'acc_cat_other': 1.0,\n",
       " 'acc_cat_physics': 0.5714285714285714,\n",
       " 'acc_cat_social studies': 0.6363636363636364,\n",
       " 'acc_ratio_uid': 0.6833333333333333,\n",
       " 'ave_pos_uid': 80.416666666666671,\n",
       " 'cat_uid': '19'}"
      ]
     },
     "execution_count": 126,
     "metadata": {},
     "output_type": "execute_result"
    }
   ],
   "source": [
    "users[100]"
   ]
  },
  {
   "cell_type": "code",
   "execution_count": 127,
   "metadata": {
    "collapsed": true
   },
   "outputs": [],
   "source": [
    "import pickle\n",
    "\n",
    "for ii in ['users']:\n",
    "    file_name = ii + '01.pkl'\n",
    "    with open(file_name, 'wb') as f:\n",
    "        nes = pickle.dump(globals()[ii], f, protocol=2)"
   ]
  }
 ],
 "metadata": {
  "kernelspec": {
   "display_name": "Python 3",
   "language": "python",
   "name": "python3"
  },
  "language_info": {
   "codemirror_mode": {
    "name": "ipython",
    "version": 3
   },
   "file_extension": ".py",
   "mimetype": "text/x-python",
   "name": "python",
   "nbconvert_exporter": "python",
   "pygments_lexer": "ipython3",
   "version": "3.4.3"
  }
 },
 "nbformat": 4,
 "nbformat_minor": 0
}
