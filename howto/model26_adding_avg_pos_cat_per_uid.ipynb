{
 "cells": [
  {
   "cell_type": "markdown",
   "metadata": {},
   "source": [
    "# Model26: adding average position for categories per uid"
   ]
  },
  {
   "cell_type": "code",
   "execution_count": 134,
   "metadata": {
    "collapsed": false
   },
   "outputs": [],
   "source": [
    "%matplotlib inline\n",
    "import numpy as np\n",
    "import matplotlib.pyplot as plt\n",
    "\n",
    "from utils import load_buzz, select, write_result\n",
    "from features import featurize, get_pos\n",
    "from containers import Questions, Users, Categories\n",
    "from nlp import extract_entities"
   ]
  },
  {
   "cell_type": "code",
   "execution_count": 135,
   "metadata": {
    "collapsed": true
   },
   "outputs": [],
   "source": [
    "import pickle\n",
    "\n",
    "\n",
    "questions = pickle.load(open('questions01.pkl', 'rb'))\n",
    "users = pickle.load(open('users01.pkl', 'rb'))\n",
    "categories = pickle.load(open('categories01.pkl', 'rb'))"
   ]
  },
  {
   "cell_type": "code",
   "execution_count": 170,
   "metadata": {
    "collapsed": false
   },
   "outputs": [],
   "source": [
    "from collections import defaultdict\n",
    "from numpy import sign\n",
    "\n",
    "def get_cat_pos_per_uid(bd):\n",
    "    cat_pos_uid = defaultdict(lambda: defaultdict(list))\n",
    "    for key in bd:\n",
    "        uid = bd[key]['uid']\n",
    "        cat = questions[bd[key]['qid']]['category'].lower()\n",
    "        pos = bd[key]['position']\n",
    "        cat_pos_uid[uid][cat].append(pos)\n",
    "    return cat_pos_uid\n",
    "\n",
    "\n",
    "def cal_avg_pos_cat_per_uid(bd):\n",
    "    avg_pos_cat_per_uid = defaultdict(lambda: defaultdict(float))\n",
    "    cat_pos_uid = get_cat_pos_per_uid(bd)\n",
    "    for uid in cat_pos_uid:\n",
    "        for cat in cat_pos_uid[uid]:\n",
    "            answers = cat_pos_uid[uid][cat]\n",
    "            avg_pos = sum(answers) / float(len(answers))\n",
    "            avg_pos_cat_per_uid[uid][cat] = avg_pos\n",
    "\n",
    "    return avg_pos_cat_per_uid\n",
    "\n",
    "def get_avg_pos_cat_per_uid(bd):\n",
    "    avg_pos_cat_per_uid_inter = cal_avg_pos_cat_per_uid(bd)\n",
    "    avg_pos_cat_per_uid = avg_pos_cat_per_uid_inter.copy()\n",
    "    for uid in avg_pos_cat_per_uid_inter:\n",
    "        for cat in categories:\n",
    "            if cat not in avg_pos_cat_per_uid[uid]:\n",
    "                avg_pos_cat_per_uid[uid][cat] = categories[cat]['ave_pos_cat']\n",
    "    \n",
    "    return avg_pos_cat_per_uid"
   ]
  },
  {
   "cell_type": "code",
   "execution_count": 171,
   "metadata": {
    "collapsed": false
   },
   "outputs": [],
   "source": [
    "avg_pos_cat_per_uid = get_avg_pos_cat_per_uid(load_buzz()['train'])"
   ]
  },
  {
   "cell_type": "code",
   "execution_count": 172,
   "metadata": {
    "collapsed": false
   },
   "outputs": [
    {
     "data": {
      "text/plain": [
       "defaultdict(<class 'float'>, {'fine arts': 39.054794520547944, 'literature': 51.4812030075188, 'chemistry': 22.47826086956522, 'other': 59.333333333333336, 'earth science': 110.0, 'mathematics': 7.333333333333333, 'astronomy': -76.66666666666667, 'biology': 4.423076923076923, 'social studies': 14.974137931034482, 'physics': 40.25, 'history': 20.676056338028168})"
      ]
     },
     "execution_count": 172,
     "metadata": {},
     "output_type": "execute_result"
    }
   ],
   "source": [
    "avg_pos_cat_per_uid[1]"
   ]
  },
  {
   "cell_type": "code",
   "execution_count": 173,
   "metadata": {
    "collapsed": false
   },
   "outputs": [],
   "source": [
    "for uid in users:\n",
    "    for cat in categories.keys():\n",
    "        users[uid]['avg_pos_cat_' + cat] = avg_pos_cat_per_uid[uid][cat]"
   ]
  },
  {
   "cell_type": "code",
   "execution_count": 174,
   "metadata": {
    "collapsed": false
   },
   "outputs": [
    {
     "data": {
      "text/plain": [
       "{'acc_cat_astronomy': 0.6634615384615384,\n",
       " 'acc_cat_biology': 0.7142857142857143,\n",
       " 'acc_cat_chemistry': 0.9,\n",
       " 'acc_cat_earth science': 0.7358490566037735,\n",
       " 'acc_cat_fine arts': 0.8,\n",
       " 'acc_cat_history': 0.6723952738990333,\n",
       " 'acc_cat_literature': 1.0,\n",
       " 'acc_cat_mathematics': 0.65625,\n",
       " 'acc_cat_other': 0.7508305647840532,\n",
       " 'acc_cat_physics': 0.6640765092647938,\n",
       " 'acc_cat_social studies': 0.38461538461538464,\n",
       " 'acc_ratio_uid': 0.7,\n",
       " 'ave_pos_uid': 88.724999999999994,\n",
       " 'avg_pos_cat_astronomy': 24.798076923076923,\n",
       " 'avg_pos_cat_biology': 30.857142857142858,\n",
       " 'avg_pos_cat_chemistry': 64.6,\n",
       " 'avg_pos_cat_earth science': 36.509433962264154,\n",
       " 'avg_pos_cat_fine arts': 39.0,\n",
       " 'avg_pos_cat_history': 28.951396348012889,\n",
       " 'avg_pos_cat_literature': 125.8,\n",
       " 'avg_pos_cat_mathematics': 18.712499999999999,\n",
       " 'avg_pos_cat_other': 42.993355481727576,\n",
       " 'avg_pos_cat_physics': 27.249252839211,\n",
       " 'avg_pos_cat_social studies': -20.846153846153847,\n",
       " 'cat_uid': '19'}"
      ]
     },
     "execution_count": 174,
     "metadata": {},
     "output_type": "execute_result"
    }
   ],
   "source": [
    "users[90]"
   ]
  },
  {
   "cell_type": "code",
   "execution_count": 127,
   "metadata": {
    "collapsed": true
   },
   "outputs": [],
   "source": [
    "import pickle\n",
    "\n",
    "for ii in ['users']:\n",
    "    file_name = ii + '01.pkl'\n",
    "    with open(file_name, 'wb') as f:\n",
    "        nes = pickle.dump(globals()[ii], f, protocol=2)"
   ]
  }
 ],
 "metadata": {
  "kernelspec": {
   "display_name": "Python 3",
   "language": "python",
   "name": "python3"
  },
  "language_info": {
   "codemirror_mode": {
    "name": "ipython",
    "version": 3
   },
   "file_extension": ".py",
   "mimetype": "text/x-python",
   "name": "python",
   "nbconvert_exporter": "python",
   "pygments_lexer": "ipython3",
   "version": "3.4.3"
  }
 },
 "nbformat": 4,
 "nbformat_minor": 0
}
