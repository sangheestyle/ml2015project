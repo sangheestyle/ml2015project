{
 "cells": [
  {
   "cell_type": "markdown",
   "metadata": {},
   "source": [
    "# Model26: adding average position for categories per uid"
   ]
  },
  {
   "cell_type": "code",
   "execution_count": 178,
   "metadata": {
    "collapsed": false
   },
   "outputs": [],
   "source": [
    "%matplotlib inline\n",
    "import numpy as np\n",
    "import matplotlib.pyplot as plt\n",
    "\n",
    "from utils import load_buzz, select, write_result\n",
    "from features import featurize, get_pos\n",
    "from containers import Questions, Users, Categories\n",
    "from nlp import extract_entities"
   ]
  },
  {
   "cell_type": "code",
   "execution_count": 179,
   "metadata": {
    "collapsed": true
   },
   "outputs": [],
   "source": [
    "import pickle\n",
    "\n",
    "\n",
    "questions = pickle.load(open('questions01.pkl', 'rb'))\n",
    "users = pickle.load(open('users01.pkl', 'rb'))\n",
    "categories = pickle.load(open('categories01.pkl', 'rb'))"
   ]
  },
  {
   "cell_type": "code",
   "execution_count": 180,
   "metadata": {
    "collapsed": false
   },
   "outputs": [],
   "source": [
    "from collections import defaultdict\n",
    "from numpy import sign\n",
    "\n",
    "def get_cat_pos_per_uid(bd):\n",
    "    cat_pos_uid = defaultdict(lambda: defaultdict(list))\n",
    "    for key in bd:\n",
    "        uid = bd[key]['uid']\n",
    "        cat = questions[bd[key]['qid']]['category'].lower()\n",
    "        pos = bd[key]['position']\n",
    "        cat_pos_uid[uid][cat].append(pos)\n",
    "    return cat_pos_uid\n",
    "\n",
    "\n",
    "def cal_avg_pos_cat_per_uid(bd):\n",
    "    avg_pos_cat_per_uid = defaultdict(lambda: defaultdict(float))\n",
    "    cat_pos_uid = get_cat_pos_per_uid(bd)\n",
    "    for uid in cat_pos_uid:\n",
    "        for cat in cat_pos_uid[uid]:\n",
    "            answers = cat_pos_uid[uid][cat]\n",
    "            avg_pos = sum(answers) / float(len(answers))\n",
    "            avg_pos_cat_per_uid[uid][cat] = avg_pos\n",
    "\n",
    "    return avg_pos_cat_per_uid\n",
    "\n",
    "def get_avg_pos_cat_per_uid(bd):\n",
    "    avg_pos_cat_per_uid_inter = cal_avg_pos_cat_per_uid(bd)\n",
    "    avg_pos_cat_per_uid = avg_pos_cat_per_uid_inter.copy()\n",
    "    for uid in avg_pos_cat_per_uid_inter:\n",
    "        for cat in categories:\n",
    "            if cat not in avg_pos_cat_per_uid[uid]:\n",
    "                avg_pos_cat_per_uid[uid][cat] = categories[cat]['ave_pos_cat']\n",
    "    \n",
    "    return avg_pos_cat_per_uid"
   ]
  },
  {
   "cell_type": "code",
   "execution_count": 181,
   "metadata": {
    "collapsed": false
   },
   "outputs": [],
   "source": [
    "avg_pos_cat_per_uid = get_avg_pos_cat_per_uid(load_buzz()['train'])"
   ]
  },
  {
   "cell_type": "code",
   "execution_count": 183,
   "metadata": {
    "collapsed": false
   },
   "outputs": [
    {
     "data": {
      "text/plain": [
       "defaultdict(<class 'float'>, {'fine arts': 39.054794520547944, 'literature': 51.4812030075188, 'chemistry': 22.47826086956522, 'other': 59.333333333333336, 'earth science': 110.0, 'mathematics': 7.333333333333333, 'astronomy': -76.66666666666667, 'biology': 4.423076923076923, 'social studies': 14.974137931034482, 'physics': 40.25, 'history': 20.676056338028168})"
      ]
     },
     "execution_count": 183,
     "metadata": {},
     "output_type": "execute_result"
    }
   ],
   "source": [
    "avg_pos_cat_per_uid[1]"
   ]
  },
  {
   "cell_type": "code",
   "execution_count": 184,
   "metadata": {
    "collapsed": false
   },
   "outputs": [],
   "source": [
    "for uid in users:\n",
    "    for cat in categories.keys():\n",
    "        users[uid]['avg_pos_cat_' + cat] = avg_pos_cat_per_uid[uid][cat]"
   ]
  },
  {
   "cell_type": "code",
   "execution_count": 185,
   "metadata": {
    "collapsed": false
   },
   "outputs": [
    {
     "data": {
      "text/plain": [
       "{'acc_cat_astronomy': 0.6634615384615384,\n",
       " 'acc_cat_biology': 0.0,\n",
       " 'acc_cat_chemistry': 0.687099725526075,\n",
       " 'acc_cat_earth science': 0.7358490566037735,\n",
       " 'acc_cat_fine arts': 0.3333333333333333,\n",
       " 'acc_cat_history': 0.5,\n",
       " 'acc_cat_literature': 0.5555555555555556,\n",
       " 'acc_cat_mathematics': 0.65625,\n",
       " 'acc_cat_other': 0.7508305647840532,\n",
       " 'acc_cat_physics': 0.0,\n",
       " 'acc_cat_social studies': 0.45454545454545453,\n",
       " 'acc_ratio_uid': 0.4523809523809524,\n",
       " 'ave_pos_uid': 62.928571428571431,\n",
       " 'avg_pos_cat_astronomy': 24.798076923076923,\n",
       " 'avg_pos_cat_biology': -56.0,\n",
       " 'avg_pos_cat_chemistry': 28.218664226898444,\n",
       " 'avg_pos_cat_earth science': 36.509433962264154,\n",
       " 'avg_pos_cat_fine arts': -3.0,\n",
       " 'avg_pos_cat_history': 7.25,\n",
       " 'avg_pos_cat_literature': 25.444444444444443,\n",
       " 'avg_pos_cat_mathematics': 18.712499999999999,\n",
       " 'avg_pos_cat_other': 42.993355481727576,\n",
       " 'avg_pos_cat_physics': -33.5,\n",
       " 'avg_pos_cat_social studies': -4.090909090909091,\n",
       " 'cat_uid': '19'}"
      ]
     },
     "execution_count": 185,
     "metadata": {},
     "output_type": "execute_result"
    }
   ],
   "source": [
    "users[125]"
   ]
  },
  {
   "cell_type": "code",
   "execution_count": 186,
   "metadata": {
    "collapsed": true
   },
   "outputs": [],
   "source": [
    "import pickle\n",
    "\n",
    "for ii in ['users']:\n",
    "    file_name = ii + '01.pkl'\n",
    "    with open(file_name, 'wb') as f:\n",
    "        nes = pickle.dump(globals()[ii], f, protocol=2)"
   ]
  },
  {
   "cell_type": "code",
   "execution_count": 192,
   "metadata": {
    "collapsed": false
   },
   "outputs": [
    {
     "data": {
      "text/plain": [
       "{'acc_ratio_cat': 0.7508305647840532, 'ave_pos_cat': 42.993355481727576}"
      ]
     },
     "execution_count": 192,
     "metadata": {},
     "output_type": "execute_result"
    }
   ],
   "source": [
    "categories['other']"
   ]
  },
  {
   "cell_type": "code",
   "execution_count": 196,
   "metadata": {
    "collapsed": false
   },
   "outputs": [],
   "source": [
    "questions_new = questions.copy()\n",
    "for qid in questions:\n",
    "    cat = questions_new[qid]['category'].lower()\n",
    "    questions_new[qid]['q_acc_ratio_cat'] = categories[cat]['acc_ratio_cat']\n",
    "    questions_new[qid]['q_ave_pos_cat'] = categories[cat]['ave_pos_cat']"
   ]
  },
  {
   "cell_type": "code",
   "execution_count": 197,
   "metadata": {
    "collapsed": false
   },
   "outputs": [
    {
     "data": {
      "text/plain": [
       "{'acc_ratio_qid': 0.875,\n",
       " 'answer': 'thomas cole',\n",
       " 'ave_pos_qid': 70.5,\n",
       " 'cat_qid': '11',\n",
       " 'category': 'Fine Arts',\n",
       " 'group': 'test',\n",
       " 'ne_count': 12,\n",
       " 'ne_mean': 56.5,\n",
       " 'ne_median': 60.5,\n",
       " 'ne_mod': 65,\n",
       " 'ne_nor_mean': 0.7243589743589743,\n",
       " 'ne_tags': [['CD', '1840', 20],\n",
       "  ['PERSON', 'Architect', 21],\n",
       "  ['CD', 'three', 40],\n",
       "  ['GPE', 'Europe', 44],\n",
       "  ['CD', '1829', 46],\n",
       "  ['CD', 'four', 56],\n",
       "  ['ORGANIZATION', 'Hudson', 65],\n",
       "  ['ORGANIZATION', 'Catskill', 69],\n",
       "  ['ORGANIZATION', 'FTP', 72],\n",
       "  ['ORGANIZATION', 'Oxbow', 79],\n",
       "  ['ORGANIZATION', 'Voyage', 82],\n",
       "  ['GPE', 'Life', 84]],\n",
       " 'pos_token': {0: '',\n",
       "  1: 'painters',\n",
       "  2: 'indulgence',\n",
       "  4: 'visual',\n",
       "  5: 'fantasy',\n",
       "  7: 'appreciation',\n",
       "  9: 'different',\n",
       "  10: 'historic',\n",
       "  11: 'architectural',\n",
       "  12: 'styles',\n",
       "  15: 'seen',\n",
       "  18: '1840',\n",
       "  19: 'architects',\n",
       "  20: 'dream',\n",
       "  23: 'series',\n",
       "  25: 'paintings',\n",
       "  28: 'last',\n",
       "  31: 'mohicans',\n",
       "  33: 'made',\n",
       "  35: 'three',\n",
       "  36: 'year',\n",
       "  37: 'trip',\n",
       "  39: 'europe',\n",
       "  41: '1829',\n",
       "  45: 'better',\n",
       "  46: 'known',\n",
       "  49: 'trip',\n",
       "  50: 'four',\n",
       "  51: 'years',\n",
       "  52: 'earlier',\n",
       "  56: 'journeyed',\n",
       "  59: 'hudson',\n",
       "  60: 'river',\n",
       "  63: 'catskill',\n",
       "  64: 'mountains',\n",
       "  65: 'ftp',\n",
       "  66: 'name',\n",
       "  68: 'this_painter',\n",
       "  71: 'oxbow',\n",
       "  74: 'voyage',\n",
       "  76: 'life',\n",
       "  77: 'series'},\n",
       " 'q_acc_ratio_cat': 0.7560975609756098,\n",
       " 'q_ave_pos_cat': 43.640185830429736,\n",
       " 'question': \"This painter's indulgence of visual fantasy, and appreciation of different historic architectural styles can be seen in his 1840 Architect's Dream. After a series of paintings on The Last of the Mohicans, he made a three year trip to Europe in 1829, but he is better known for a trip four years earlier in which he journeyed up the Hudson River to the Catskill Mountains. FTP, name this painter of The Oxbow and The Voyage of Life series.\"}"
      ]
     },
     "execution_count": 197,
     "metadata": {},
     "output_type": "execute_result"
    }
   ],
   "source": [
    "questions_new[1]"
   ]
  },
  {
   "cell_type": "code",
   "execution_count": null,
   "metadata": {
    "collapsed": true
   },
   "outputs": [],
   "source": []
  }
 ],
 "metadata": {
  "kernelspec": {
   "display_name": "Python 3",
   "language": "python",
   "name": "python3"
  },
  "language_info": {
   "codemirror_mode": {
    "name": "ipython",
    "version": 3
   },
   "file_extension": ".py",
   "mimetype": "text/x-python",
   "name": "python",
   "nbconvert_exporter": "python",
   "pygments_lexer": "ipython3",
   "version": "3.4.3"
  }
 },
 "nbformat": 4,
 "nbformat_minor": 0
}
