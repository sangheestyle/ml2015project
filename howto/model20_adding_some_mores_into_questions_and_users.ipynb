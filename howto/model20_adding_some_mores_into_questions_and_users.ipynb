{
 "cells": [
  {
   "cell_type": "markdown",
   "metadata": {},
   "source": [
    "# Model20: refactoring"
   ]
  },
  {
   "cell_type": "code",
   "execution_count": 37,
   "metadata": {
    "collapsed": false
   },
   "outputs": [],
   "source": [
    "from utils import load_buzz, select, write_result\n",
    "from features import featurize, get_pos\n",
    "from containers import Questions, Users, Categories\n",
    "from nlp import extract_entities"
   ]
  },
  {
   "cell_type": "code",
   "execution_count": 38,
   "metadata": {
    "collapsed": false
   },
   "outputs": [
    {
     "data": {
      "text/plain": [
       "dict_keys(['ave_pos_cat', 'acc_ratio_cat'])"
      ]
     },
     "execution_count": 38,
     "metadata": {},
     "output_type": "execute_result"
    }
   ],
   "source": [
    "categories = Categories(load_buzz())\n",
    "categories.sub_keys()"
   ]
  },
  {
   "cell_type": "code",
   "execution_count": 39,
   "metadata": {
    "collapsed": false
   },
   "outputs": [
    {
     "data": {
      "text/plain": [
       "dict_keys(['group', 'category', 'question', 'acc_ratio_qid', 'ave_pos_qid', 'pos_token', 'answer'])"
      ]
     },
     "execution_count": 39,
     "metadata": {},
     "output_type": "execute_result"
    }
   ],
   "source": [
    "questions = Questions(load_buzz())\n",
    "questions.sub_keys()"
   ]
  },
  {
   "cell_type": "code",
   "execution_count": 40,
   "metadata": {
    "collapsed": false
   },
   "outputs": [
    {
     "data": {
      "text/plain": [
       "dict_keys(['acc_ratio_uid', 'ave_pos_uid'])"
      ]
     },
     "execution_count": 40,
     "metadata": {},
     "output_type": "execute_result"
    }
   ],
   "source": [
    "users = Users(load_buzz())\n",
    "users.sub_keys()"
   ]
  },
  {
   "cell_type": "markdown",
   "metadata": {},
   "source": [
    "## Questions"
   ]
  },
  {
   "cell_type": "code",
   "execution_count": 41,
   "metadata": {
    "collapsed": true
   },
   "outputs": [],
   "source": [
    "import pickle\n",
    "\n",
    "\n",
    "with open('ne_count02.pkl', 'rb') as f:\n",
    "    nes = pickle.load(f)"
   ]
  },
  {
   "cell_type": "code",
   "execution_count": 42,
   "metadata": {
    "collapsed": false
   },
   "outputs": [],
   "source": [
    "questions.sub_append('ne_tags', nes)"
   ]
  },
  {
   "cell_type": "code",
   "execution_count": 43,
   "metadata": {
    "collapsed": false
   },
   "outputs": [],
   "source": [
    "questions.cal_ne()"
   ]
  },
  {
   "cell_type": "markdown",
   "metadata": {},
   "source": [
    "## Pickle"
   ]
  },
  {
   "cell_type": "code",
   "execution_count": 44,
   "metadata": {
    "collapsed": true
   },
   "outputs": [],
   "source": [
    "import pickle\n",
    "\n",
    "for ii in ['questions', 'users', 'categories']:\n",
    "    file_name = ii + '01.pkl'\n",
    "    with open(file_name, 'wb') as f:\n",
    "        nes = pickle.dump(globals()[ii], f)"
   ]
  },
  {
   "cell_type": "code",
   "execution_count": 45,
   "metadata": {
    "collapsed": false
   },
   "outputs": [
    {
     "name": "stdout",
     "output_type": "stream",
     "text": [
      "categories01.pkl  ne_count01.pkl  questions01.pkl  users01.pkl\r\n"
     ]
    }
   ],
   "source": [
    "ls *01.pkl"
   ]
  },
  {
   "cell_type": "code",
   "execution_count": 46,
   "metadata": {
    "collapsed": false
   },
   "outputs": [],
   "source": [
    "questions01 = pickle.load(open('questions01.pkl', 'rb'))"
   ]
  },
  {
   "cell_type": "code",
   "execution_count": 47,
   "metadata": {
    "collapsed": false
   },
   "outputs": [
    {
     "data": {
      "text/plain": [
       "{'acc_ratio_qid': 0.875,\n",
       " 'answer': 'thomas cole',\n",
       " 'ave_pos_qid': 70.5,\n",
       " 'category': 'Fine Arts',\n",
       " 'group': 'test',\n",
       " 'ne_count': 12,\n",
       " 'ne_mean': 56.5,\n",
       " 'ne_median': 60.5,\n",
       " 'ne_mod': 65,\n",
       " 'ne_nor_mean': 0.7243589743589743,\n",
       " 'ne_tags': [['CD', '1840', 20],\n",
       "  ['PERSON', 'Architect', 21],\n",
       "  ['CD', 'three', 40],\n",
       "  ['GPE', 'Europe', 44],\n",
       "  ['CD', '1829', 46],\n",
       "  ['CD', 'four', 56],\n",
       "  ['ORGANIZATION', 'Hudson', 65],\n",
       "  ['ORGANIZATION', 'Catskill', 69],\n",
       "  ['ORGANIZATION', 'FTP', 72],\n",
       "  ['ORGANIZATION', 'Oxbow', 79],\n",
       "  ['ORGANIZATION', 'Voyage', 82],\n",
       "  ['GPE', 'Life', 84]],\n",
       " 'pos_token': {0: '',\n",
       "  1: 'painters',\n",
       "  2: 'indulgence',\n",
       "  4: 'visual',\n",
       "  5: 'fantasy',\n",
       "  7: 'appreciation',\n",
       "  9: 'different',\n",
       "  10: 'historic',\n",
       "  11: 'architectural',\n",
       "  12: 'styles',\n",
       "  15: 'seen',\n",
       "  18: '1840',\n",
       "  19: 'architects',\n",
       "  20: 'dream',\n",
       "  23: 'series',\n",
       "  25: 'paintings',\n",
       "  28: 'last',\n",
       "  31: 'mohicans',\n",
       "  33: 'made',\n",
       "  35: 'three',\n",
       "  36: 'year',\n",
       "  37: 'trip',\n",
       "  39: 'europe',\n",
       "  41: '1829',\n",
       "  45: 'better',\n",
       "  46: 'known',\n",
       "  49: 'trip',\n",
       "  50: 'four',\n",
       "  51: 'years',\n",
       "  52: 'earlier',\n",
       "  56: 'journeyed',\n",
       "  59: 'hudson',\n",
       "  60: 'river',\n",
       "  63: 'catskill',\n",
       "  64: 'mountains',\n",
       "  65: 'ftp',\n",
       "  66: 'name',\n",
       "  68: 'this_painter',\n",
       "  71: 'oxbow',\n",
       "  74: 'voyage',\n",
       "  76: 'life',\n",
       "  77: 'series'},\n",
       " 'question': \"This painter's indulgence of visual fantasy, and appreciation of different historic architectural styles can be seen in his 1840 Architect's Dream. After a series of paintings on The Last of the Mohicans, he made a three year trip to Europe in 1829, but he is better known for a trip four years earlier in which he journeyed up the Hudson River to the Catskill Mountains. FTP, name this painter of The Oxbow and The Voyage of Life series.\"}"
      ]
     },
     "execution_count": 47,
     "metadata": {},
     "output_type": "execute_result"
    }
   ],
   "source": [
    "questions01[1]"
   ]
  }
 ],
 "metadata": {
  "kernelspec": {
   "display_name": "Python 3",
   "language": "python",
   "name": "python3"
  },
  "language_info": {
   "codemirror_mode": {
    "name": "ipython",
    "version": 3
   },
   "file_extension": ".py",
   "mimetype": "text/x-python",
   "name": "python",
   "nbconvert_exporter": "python",
   "pygments_lexer": "ipython3",
   "version": "3.4.3"
  }
 },
 "nbformat": 4,
 "nbformat_minor": 0
}
