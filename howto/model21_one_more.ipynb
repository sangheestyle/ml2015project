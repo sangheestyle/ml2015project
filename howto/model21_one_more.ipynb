{
 "cells": [
  {
   "cell_type": "markdown",
   "metadata": {},
   "source": [
    "# Model21: one more"
   ]
  },
  {
   "cell_type": "code",
   "execution_count": 1,
   "metadata": {
    "collapsed": false
   },
   "outputs": [],
   "source": [
    "from utils import load_buzz, select, write_result\n",
    "from features import featurize, get_pos\n",
    "from containers import Questions, Users, Categories\n",
    "from nlp import extract_entities"
   ]
  },
  {
   "cell_type": "markdown",
   "metadata": {},
   "source": [
    "## GMM"
   ]
  },
  {
   "cell_type": "markdown",
   "metadata": {},
   "source": [
    "### Classifying questions\n",
    "features: avg_pos, accuracy rate"
   ]
  },
  {
   "cell_type": "code",
   "execution_count": 50,
   "metadata": {
    "collapsed": false
   },
   "outputs": [],
   "source": [
    "%matplotlib inline\n",
    "import numpy as np\n",
    "from scipy import linalg\n",
    "import matplotlib.pyplot as plt\n",
    "import matplotlib as mpl\n",
    "\n",
    "from sklearn import mixture\n",
    "\n",
    "\n",
    "def plot_gmm(X, models, n_components, covariance_type='diag', n_iter=100,\n",
    "            figsize=(10, 20), suptitle=None, xlabel=None, ylabel=None):\n",
    "    color_iter = ['r', 'g', 'b', 'c', 'm', 'y', 'k', 'gray', 'pink', 'lime']\n",
    "    plt.figure(figsize=figsize)\n",
    "    plt.suptitle(suptitle, fontsize=20)\n",
    "\n",
    "    for i, model in enumerate(models):\n",
    "        mm = getattr(mixture, model)(n_components=n_components,\n",
    "                                     covariance_type=covariance_type,\n",
    "                                     n_iter=n_iter)\n",
    "        mm.fit(X_pos_qid)\n",
    "        Y = mm.predict(X_pos_qid)\n",
    "\n",
    "        plt.subplot(len(models), 1, 1 + i)\n",
    "        for i, color in enumerate(color_iter):\n",
    "            plt.scatter(X_pos_qid[Y == i, 0], X_pos_qid[Y == i, 1], .7, color=color)\n",
    "        plt.title(model, fontsize=15)\n",
    "        plt.xlabel(xlabel, fontsize=12)\n",
    "        plt.ylabel(ylabel, fontsize=12)\n",
    "        plt.grid()\n",
    "\n",
    "    plt.show()"
   ]
  },
  {
   "cell_type": "code",
   "execution_count": 51,
   "metadata": {
    "collapsed": true
   },
   "outputs": [],
   "source": [
    "import pickle\n",
    "\n",
    "questions = pickle.load(open('questions01.pkl', 'rb'))\n",
    "users = pickle.load(open('users01.pkl', 'rb'))\n",
    "categories = pickle.load(open('categories01.pkl', 'rb'))"
   ]
  },
  {
   "cell_type": "code",
   "execution_count": 52,
   "metadata": {
    "collapsed": false
   },
   "outputs": [],
   "source": [
    "X_pos_uid = users.select(['ave_pos_uid', 'acc_ratio_uid'])\n",
    "X_pos_qid = questions.select(['ave_pos_qid', 'acc_ratio_qid', 'ne_nor_mean', 'ne_mean', 'ne_median'])"
   ]
  },
  {
   "cell_type": "code",
   "execution_count": 53,
   "metadata": {
    "collapsed": false
   },
   "outputs": [
    {
     "data": {
      "text/plain": [
       "array([ 70.5       ,   0.875     ,   0.72435897,  56.5       ,  60.5       ])"
      ]
     },
     "execution_count": 53,
     "metadata": {},
     "output_type": "execute_result"
    }
   ],
   "source": [
    "X_pos_qid[0]"
   ]
  },
  {
   "cell_type": "code",
   "execution_count": 54,
   "metadata": {
    "collapsed": false
   },
   "outputs": [],
   "source": [
    "from sklearn.preprocessing import normalize\n",
    "\n",
    "X_pos_uid = normalize(X_pos_uid, norm='l1')\n",
    "X_pos_qid = normalize(X_pos_qid, norm='l1')"
   ]
  },
  {
   "cell_type": "code",
   "execution_count": 55,
   "metadata": {
    "collapsed": false
   },
   "outputs": [
    {
     "name": "stdout",
     "output_type": "stream",
     "text": [
      "[ 0.37281988  0.0046272   0.00383057  0.29878473  0.31993763]\n",
      "[ 0.98978868  0.01021132]\n"
     ]
    }
   ],
   "source": [
    "print(X_pos_qid[0])\n",
    "print(X_pos_uid[0])"
   ]
  },
  {
   "cell_type": "code",
   "execution_count": 56,
   "metadata": {
    "collapsed": false
   },
   "outputs": [
    {
     "data": {
      "image/png": "[encoded data removed]",
      "text/plain": [
       "<matplotlib.figure.Figure at 0x7f883521be48>"
      ]
     },
     "metadata": {},
     "output_type": "display_data"
    }
   ],
   "source": [
    "# Question category\n",
    "n_components = 20\n",
    "gmm = mixture.GMM(n_components=n_components, covariance_type='diag', n_iter=10**10)\n",
    "gmm.fit(X_pos_qid)\n",
    "pred_cat_qid = gmm.predict(X_pos_qid)\n",
    "\n",
    "plt.hist(pred_cat_qid, bins=50, facecolor='g', alpha=0.75)\n",
    "plt.xlabel(\"Category number\")\n",
    "plt.ylabel(\"Count\")\n",
    "plt.title(\"Question Category: \" + str(n_components) + \" categories\")\n",
    "plt.grid(True)\n",
    "plt.show()"
   ]
  },
  {
   "cell_type": "code",
   "execution_count": 57,
   "metadata": {
    "collapsed": false
   },
   "outputs": [
    {
     "data": {
      "image/png": "[encoded data removed]",
      "text/plain": [
       "<matplotlib.figure.Figure at 0x7f883521b048>"
      ]
     },
     "metadata": {},
     "output_type": "display_data"
    }
   ],
   "source": [
    "# User category\n",
    "n_components = 20\n",
    "gmm = mixture.GMM(n_components=n_components, covariance_type='diag', n_iter=10**10)\n",
    "gmm.fit(X_pos_uid)\n",
    "pred_cat_uid = gmm.predict(X_pos_uid)\n",
    "\n",
    "plt.hist(pred_cat_uid, bins=50, facecolor='g', alpha=0.75)\n",
    "plt.xlabel(\"Category number\")\n",
    "plt.ylabel(\"Count\")\n",
    "plt.title(\"User Category: \" + str(n_components) + \" categories\")\n",
    "plt.grid(True)\n",
    "plt.show()"
   ]
  },
  {
   "cell_type": "code",
   "execution_count": 58,
   "metadata": {
    "collapsed": false
   },
   "outputs": [
    {
     "name": "stdout",
     "output_type": "stream",
     "text": [
      "19\n",
      "11\n"
     ]
    }
   ],
   "source": [
    "from collections import Counter\n",
    "\n",
    "\n",
    "users.sub_append('cat_uid', {key: str(pred_cat_uid[i]) for i, key in enumerate(users.keys())})\n",
    "questions.sub_append('cat_qid', {key: str(pred_cat_qid[i]) for i, key in enumerate(questions.keys())})\n",
    "\n",
    "# to get most frequent cat for some test data which do not have ids in train set\n",
    "most_pred_cat_uid = Counter(pred_cat_uid).most_common(1)[0][0]\n",
    "most_pred_cat_qid = Counter(pred_cat_qid).most_common(1)[0][0]\n",
    "\n",
    "print(most_pred_cat_uid)\n",
    "print(most_pred_cat_qid)"
   ]
  },
  {
   "cell_type": "code",
   "execution_count": 59,
   "metadata": {
    "collapsed": false
   },
   "outputs": [
    {
     "name": "stdout",
     "output_type": "stream",
     "text": [
      "dict_keys(['ave_pos_uid', 'cat_uid', 'acc_ratio_uid'])\n",
      "dict_keys(['ne_nor_mean', 'ne_mean', 'ne_median', 'ave_pos_qid', 'group', 'question', 'pos_token', 'answer', 'acc_ratio_qid', 'category', 'cat_qid', 'ne_count', 'ne_tags', 'ne_mod'])\n"
     ]
    }
   ],
   "source": [
    "print(users.sub_keys())\n",
    "print(questions.sub_keys())"
   ]
  },
  {
   "cell_type": "markdown",
   "metadata": {},
   "source": [
    "## B. Modeling"
   ]
  },
  {
   "cell_type": "code",
   "execution_count": 71,
   "metadata": {
    "collapsed": true
   },
   "outputs": [],
   "source": [
    "def add_features(X):\n",
    "    for item in X:\n",
    "        # category\n",
    "        for key in categories[item['category']].keys():\n",
    "            item[key] = categories[item['category']][key]\n",
    "            \n",
    "        uid = int(item['uid'])\n",
    "        qid = int(item['qid'])\n",
    "        \n",
    "        # uid\n",
    "        if int(uid) in users:\n",
    "            item.update(users[uid])\n",
    "        else:\n",
    "            acc = users.select(['acc_ratio_uid'])\n",
    "            item['acc_ratio_uid'] = sum(acc) / float(len(acc))\n",
    "            item['cat_uid'] = most_pred_cat_uid\n",
    "\n",
    "        # qid\n",
    "        if int(qid) in questions:\n",
    "            item.update(questions[qid])"
   ]
  },
  {
   "cell_type": "code",
   "execution_count": 72,
   "metadata": {
    "collapsed": false
   },
   "outputs": [],
   "source": [
    "X_train, y_train = featurize(load_buzz(), group='train', sign_val=None, extra=['sign_val', 'avg_pos'])\n",
    "add_features(X_train)"
   ]
  },
  {
   "cell_type": "code",
   "execution_count": 73,
   "metadata": {
    "collapsed": false
   },
   "outputs": [
    {
     "data": {
      "text/plain": [
       "['q_length',\n",
       " 'ave_pos_cat',\n",
       " 'ave_pos_qid',\n",
       " 'avg_pos_qid',\n",
       " 'acc_ratio_cat',\n",
       " 'uid',\n",
       " 'category',\n",
       " 'ave_pos_uid',\n",
       " 'ne_count',\n",
       " 'ne_nor_mean',\n",
       " 'ne_mean',\n",
       " 'ne_median',\n",
       " 'avg_pos_uid',\n",
       " 'ne_mod',\n",
       " 'cat_uid',\n",
       " 'answer',\n",
       " 'acc_ratio_qid',\n",
       " 'cat_qid',\n",
       " 'acc_ratio_uid',\n",
       " 'qid']"
      ]
     },
     "execution_count": 73,
     "metadata": {},
     "output_type": "execute_result"
    }
   ],
   "source": [
    "unwanted_features = ['ne_tags', 'pos_token', 'question', 'sign_val', 'group']\n",
    "wanted_features = list(set(X_train[1].keys()) - set(unwanted_features))\n",
    "wanted_features"
   ]
  },
  {
   "cell_type": "code",
   "execution_count": 74,
   "metadata": {
    "collapsed": false
   },
   "outputs": [
    {
     "data": {
      "text/plain": [
       "{'acc_ratio_cat': 0.7560975609756098,\n",
       " 'acc_ratio_qid': 0.875,\n",
       " 'acc_ratio_uid': 0.6465863453815262,\n",
       " 'answer': 'thomas cole',\n",
       " 'ave_pos_cat': 43.640185830429736,\n",
       " 'ave_pos_qid': 70.5,\n",
       " 'ave_pos_uid': 96.724899598393577,\n",
       " 'avg_pos_qid': 51.0,\n",
       " 'avg_pos_uid': 30.973895582329316,\n",
       " 'cat_qid': '11',\n",
       " 'cat_uid': '19',\n",
       " 'category': 'Fine Arts',\n",
       " 'ne_count': 12,\n",
       " 'ne_mean': 56.5,\n",
       " 'ne_median': 60.5,\n",
       " 'ne_mod': 65,\n",
       " 'ne_nor_mean': 0.7243589743589743,\n",
       " 'q_length': 78,\n",
       " 'qid': 1,\n",
       " 'uid': 1}"
      ]
     },
     "execution_count": 74,
     "metadata": {},
     "output_type": "execute_result"
    }
   ],
   "source": [
    "X_train = select(X_train, wanted_features)\n",
    "X_train[1]"
   ]
  },
  {
   "cell_type": "code",
   "execution_count": 75,
   "metadata": {
    "collapsed": false
   },
   "outputs": [],
   "source": [
    "from sklearn.feature_extraction import DictVectorizer\n",
    "\n",
    "\n",
    "vec = DictVectorizer()\n",
    "X_train_dict_vec = vec.fit_transform(X_train)"
   ]
  },
  {
   "cell_type": "code",
   "execution_count": 84,
   "metadata": {
    "collapsed": false
   },
   "outputs": [
    {
     "name": "stdout",
     "output_type": "stream",
     "text": [
      "=== ElasticNetCV RMSE with 0.72\n",
      "ElasticNetCV 75.0452245435\n"
     ]
    }
   ],
   "source": [
    "import multiprocessing\n",
    "from sklearn import linear_model\n",
    "from sklearn.cross_validation import ShuffleSplit, cross_val_score\n",
    "import math\n",
    "from numpy import abs, sqrt\n",
    "\n",
    "\n",
    "regressor_names = \"\"\"\n",
    "ElasticNetCV\n",
    "\"\"\"\n",
    "n_samples = X_train_dict_vec.shape[0]\n",
    "cv = ShuffleSplit(n_samples, n_iter=5, test_size=0.2, random_state=50)\n",
    "for l1 in [0.72]:\n",
    "    print (\"=== ElasticNetCV RMSE\", \"with\", l1)\n",
    "    for regressor in regressor_names.split():\n",
    "        scores = cross_val_score(getattr(linear_model, regressor)(n_jobs=3, normalize=True, l1_ratio = l1),\n",
    "                                 X_train_dict_vec, y_train,\n",
    "                                 cv=cv,\n",
    "                                 scoring='mean_squared_error'\n",
    "                                )\n",
    "        print (regressor, sqrt(abs(scores)).mean())"
   ]
  },
  {
   "cell_type": "markdown",
   "metadata": {},
   "source": [
    "### Training and testing model"
   ]
  },
  {
   "cell_type": "code",
   "execution_count": 66,
   "metadata": {
    "collapsed": false
   },
   "outputs": [
    {
     "name": "stdout",
     "output_type": "stream",
     "text": [
      "WARN: no key question\n",
      "WARN: no key pos_token\n",
      "WARN: no key ne_tags\n",
      "WARN: no key question\n",
      "WARN: no key pos_token\n",
      "WARN: no key ne_tags\n",
      "WARN: no key question\n",
      "WARN: no key pos_token\n",
      "WARN: no key ne_tags\n",
      "WARN: no key question\n",
      "WARN: no key pos_token\n",
      "WARN: no key ne_tags\n",
      "WARN: no key question\n",
      "WARN: no key pos_token\n",
      "WARN: no key ne_tags\n",
      "WARN: no key question\n",
      "WARN: no key pos_token\n",
      "WARN: no key ne_tags\n",
      "WARN: no key question\n",
      "WARN: no key pos_token\n",
      "WARN: no key ne_tags\n",
      "WARN: no key question\n",
      "WARN: no key pos_token\n",
      "WARN: no key ne_tags\n",
      "WARN: no key question\n",
      "WARN: no key pos_token\n",
      "WARN: no key ne_tags\n",
      "WARN: no key question\n",
      "WARN: no key pos_token\n",
      "WARN: no key ne_tags\n",
      "WARN: no key question\n",
      "WARN: no key pos_token\n",
      "WARN: no key ne_tags\n",
      "WARN: no key question\n",
      "WARN: no key pos_token\n",
      "WARN: no key ne_tags\n",
      "WARN: no key question\n",
      "WARN: no key pos_token\n",
      "WARN: no key ne_tags\n",
      "WARN: no key question\n",
      "WARN: no key pos_token\n",
      "WARN: no key ne_tags\n",
      "WARN: no key question\n",
      "WARN: no key pos_token\n",
      "WARN: no key ne_tags\n",
      "WARN: no key question\n",
      "WARN: no key pos_token\n",
      "WARN: no key ne_tags\n",
      "WARN: no key question\n",
      "WARN: no key pos_token\n",
      "WARN: no key ne_tags\n",
      "WARN: no key question\n",
      "WARN: no key pos_token\n",
      "WARN: no key ne_tags\n",
      "WARN: no key question\n",
      "WARN: no key pos_token\n",
      "WARN: no key ne_tags\n",
      "WARN: no key question\n",
      "WARN: no key pos_token\n",
      "WARN: no key ne_tags\n",
      "WARN: no key question\n",
      "WARN: no key pos_token\n",
      "WARN: no key ne_tags\n",
      "WARN: no key question\n",
      "WARN: no key pos_token\n",
      "WARN: no key ne_tags\n",
      "WARN: no key question\n",
      "WARN: no key pos_token\n",
      "WARN: no key ne_tags\n",
      "WARN: no key question\n",
      "WARN: no key pos_token\n",
      "WARN: no key ne_tags\n",
      "WARN: no key question\n",
      "WARN: no key pos_token\n",
      "WARN: no key ne_tags\n",
      "WARN: no key question\n",
      "WARN: no key pos_token\n",
      "WARN: no key ne_tags\n",
      "WARN: no key question\n",
      "WARN: no key pos_token\n",
      "WARN: no key ne_tags\n",
      "WARN: no key question\n",
      "WARN: no key pos_token\n",
      "WARN: no key ne_tags\n",
      "WARN: no key question\n",
      "WARN: no key pos_token\n",
      "WARN: no key ne_tags\n",
      "WARN: no key question\n",
      "WARN: no key pos_token\n",
      "WARN: no key ne_tags\n",
      "WARN: no key question\n",
      "WARN: no key pos_token\n",
      "WARN: no key ne_tags\n",
      "WARN: no key question\n",
      "WARN: no key pos_token\n",
      "WARN: no key ne_tags\n",
      "WARN: no key question\n",
      "WARN: no key pos_token\n",
      "WARN: no key ne_tags\n",
      "WARN: no key question\n",
      "WARN: no key pos_token\n",
      "WARN: no key ne_tags\n",
      "WARN: no key question\n",
      "WARN: no key pos_token\n",
      "WARN: no key ne_tags\n",
      "WARN: no key question\n",
      "WARN: no key pos_token\n",
      "WARN: no key ne_tags\n",
      "WARN: no key question\n",
      "WARN: no key pos_token\n",
      "WARN: no key ne_tags\n",
      "WARN: no key question\n",
      "WARN: no key pos_token\n",
      "WARN: no key ne_tags\n",
      "WARN: no key question\n",
      "WARN: no key pos_token\n",
      "WARN: no key ne_tags\n",
      "WARN: no key question\n",
      "WARN: no key pos_token\n",
      "WARN: no key ne_tags\n",
      "WARN: no key question\n",
      "WARN: no key pos_token\n",
      "WARN: no key ne_tags\n",
      "WARN: no key question\n",
      "WARN: no key pos_token\n",
      "WARN: no key ne_tags\n",
      "WARN: no key question\n",
      "WARN: no key pos_token\n",
      "WARN: no key ne_tags\n",
      "WARN: no key question\n",
      "WARN: no key pos_token\n",
      "WARN: no key ne_tags\n",
      "WARN: no key question\n",
      "WARN: no key pos_token\n",
      "WARN: no key ne_tags\n",
      "WARN: no key question\n",
      "WARN: no key pos_token\n",
      "WARN: no key ne_tags\n",
      "WARN: no key question\n",
      "WARN: no key pos_token\n",
      "WARN: no key ne_tags\n",
      "WARN: no key question\n",
      "WARN: no key pos_token\n",
      "WARN: no key ne_tags\n",
      "WARN: no key question\n",
      "WARN: no key pos_token\n",
      "WARN: no key ne_tags\n",
      "WARN: no key question\n",
      "WARN: no key pos_token\n",
      "WARN: no key ne_tags\n",
      "WARN: no key question\n",
      "WARN: no key pos_token\n",
      "WARN: no key ne_tags\n",
      "WARN: no key question\n",
      "WARN: no key pos_token\n",
      "WARN: no key ne_tags\n",
      "WARN: no key question\n",
      "WARN: no key pos_token\n",
      "WARN: no key ne_tags\n",
      "WARN: no key question\n",
      "WARN: no key pos_token\n",
      "WARN: no key ne_tags\n",
      "WARN: no key question\n",
      "WARN: no key pos_token\n",
      "WARN: no key ne_tags\n",
      "WARN: no key question\n",
      "WARN: no key pos_token\n",
      "WARN: no key ne_tags\n",
      "WARN: no key question\n",
      "WARN: no key pos_token\n",
      "WARN: no key ne_tags\n",
      "WARN: no key question\n",
      "WARN: no key pos_token\n",
      "WARN: no key ne_tags\n",
      "WARN: no key question\n",
      "WARN: no key pos_token\n",
      "WARN: no key ne_tags\n",
      "WARN: no key question\n",
      "WARN: no key pos_token\n",
      "WARN: no key ne_tags\n",
      "WARN: no key question\n",
      "WARN: no key pos_token\n",
      "WARN: no key ne_tags\n",
      "WARN: no key question\n",
      "WARN: no key pos_token\n",
      "WARN: no key ne_tags\n",
      "WARN: no key question\n",
      "WARN: no key pos_token\n",
      "WARN: no key ne_tags\n",
      "WARN: no key question\n",
      "WARN: no key pos_token\n",
      "WARN: no key ne_tags\n",
      "WARN: no key question\n",
      "WARN: no key pos_token\n",
      "WARN: no key ne_tags\n",
      "WARN: no key question\n",
      "WARN: no key pos_token\n",
      "WARN: no key ne_tags\n",
      "WARN: no key question\n",
      "WARN: no key pos_token\n",
      "WARN: no key ne_tags\n",
      "WARN: no key question\n",
      "WARN: no key pos_token\n",
      "WARN: no key ne_tags\n",
      "WARN: no key question\n",
      "WARN: no key pos_token\n",
      "WARN: no key ne_tags\n",
      "WARN: no key question\n",
      "WARN: no key pos_token\n",
      "WARN: no key ne_tags\n",
      "WARN: no key question\n",
      "WARN: no key pos_token\n",
      "WARN: no key ne_tags\n",
      "WARN: no key question\n",
      "WARN: no key pos_token\n",
      "WARN: no key ne_tags\n",
      "WARN: no key question\n",
      "WARN: no key pos_token\n",
      "WARN: no key ne_tags\n",
      "WARN: no key question\n",
      "WARN: no key pos_token\n",
      "WARN: no key ne_tags\n",
      "WARN: no key question\n",
      "WARN: no key pos_token\n",
      "WARN: no key ne_tags\n",
      "WARN: no key question\n",
      "WARN: no key pos_token\n",
      "WARN: no key ne_tags\n",
      "WARN: no key question\n",
      "WARN: no key pos_token\n",
      "WARN: no key ne_tags\n",
      "WARN: no key question\n",
      "WARN: no key pos_token\n",
      "WARN: no key ne_tags\n",
      "WARN: no key question\n",
      "WARN: no key pos_token\n",
      "WARN: no key ne_tags\n",
      "WARN: no key question\n",
      "WARN: no key pos_token\n",
      "WARN: no key ne_tags\n",
      "WARN: no key question\n",
      "WARN: no key pos_token\n",
      "WARN: no key ne_tags\n",
      "WARN: no key question\n",
      "WARN: no key pos_token\n",
      "WARN: no key ne_tags\n",
      "WARN: no key question\n",
      "WARN: no key pos_token\n",
      "WARN: no key ne_tags\n",
      "WARN: no key question\n",
      "WARN: no key pos_token\n",
      "WARN: no key ne_tags\n",
      "WARN: no key question\n",
      "WARN: no key pos_token\n",
      "WARN: no key ne_tags\n",
      "WARN: no key question\n",
      "WARN: no key pos_token\n",
      "WARN: no key ne_tags\n",
      "WARN: no key question\n",
      "WARN: no key pos_token\n",
      "WARN: no key ne_tags\n",
      "WARN: no key question\n",
      "WARN: no key pos_token\n",
      "WARN: no key ne_tags\n",
      "WARN: no key question\n",
      "WARN: no key pos_token\n",
      "WARN: no key ne_tags\n",
      "WARN: no key question\n",
      "WARN: no key pos_token\n",
      "WARN: no key ne_tags\n",
      "WARN: no key question\n",
      "WARN: no key pos_token\n",
      "WARN: no key ne_tags\n",
      "WARN: no key question\n",
      "WARN: no key pos_token\n",
      "WARN: no key ne_tags\n",
      "WARN: no key question\n",
      "WARN: no key pos_token\n",
      "WARN: no key ne_tags\n",
      "WARN: no key question\n",
      "WARN: no key pos_token\n",
      "WARN: no key ne_tags\n",
      "WARN: no key question\n",
      "WARN: no key pos_token\n",
      "WARN: no key ne_tags\n",
      "WARN: no key question\n",
      "WARN: no key pos_token\n",
      "WARN: no key ne_tags\n",
      "WARN: no key question\n",
      "WARN: no key pos_token\n",
      "WARN: no key ne_tags\n",
      "WARN: no key question\n",
      "WARN: no key pos_token\n",
      "WARN: no key ne_tags\n",
      "WARN: no key question\n",
      "WARN: no key pos_token\n",
      "WARN: no key ne_tags\n",
      "WARN: no key question\n",
      "WARN: no key pos_token\n",
      "WARN: no key ne_tags\n",
      "WARN: no key question\n",
      "WARN: no key pos_token\n",
      "WARN: no key ne_tags\n",
      "WARN: no key question\n",
      "WARN: no key pos_token\n",
      "WARN: no key ne_tags\n",
      "WARN: no key question\n",
      "WARN: no key pos_token\n",
      "WARN: no key ne_tags\n",
      "WARN: no key question\n",
      "WARN: no key pos_token\n",
      "WARN: no key ne_tags\n",
      "WARN: no key question\n",
      "WARN: no key pos_token\n",
      "WARN: no key ne_tags\n",
      "WARN: no key question\n",
      "WARN: no key pos_token\n",
      "WARN: no key ne_tags\n",
      "WARN: no key question\n",
      "WARN: no key pos_token\n",
      "WARN: no key ne_tags\n",
      "WARN: no key question\n",
      "WARN: no key pos_token\n",
      "WARN: no key ne_tags\n",
      "WARN: no key question\n",
      "WARN: no key pos_token\n",
      "WARN: no key ne_tags\n",
      "WARN: no key question\n",
      "WARN: no key pos_token\n",
      "WARN: no key ne_tags\n",
      "WARN: no key question\n",
      "WARN: no key pos_token\n",
      "WARN: no key ne_tags\n",
      "WARN: no key question\n",
      "WARN: no key pos_token\n",
      "WARN: no key ne_tags\n",
      "WARN: no key question\n",
      "WARN: no key pos_token\n",
      "WARN: no key ne_tags\n",
      "WARN: no key question\n",
      "WARN: no key pos_token\n",
      "WARN: no key ne_tags\n",
      "WARN: no key question\n",
      "WARN: no key pos_token\n",
      "WARN: no key ne_tags\n",
      "WARN: no key question\n",
      "WARN: no key pos_token\n",
      "WARN: no key ne_tags\n",
      "WARN: no key question\n",
      "WARN: no key pos_token\n",
      "WARN: no key ne_tags\n",
      "WARN: no key question\n",
      "WARN: no key pos_token\n",
      "WARN: no key ne_tags\n",
      "WARN: no key question\n",
      "WARN: no key pos_token\n",
      "WARN: no key ne_tags\n",
      "WARN: no key question\n",
      "WARN: no key pos_token\n",
      "WARN: no key ne_tags\n",
      "WARN: no key question\n",
      "WARN: no key pos_token\n",
      "WARN: no key ne_tags\n",
      "WARN: no key question\n",
      "WARN: no key pos_token\n",
      "WARN: no key ne_tags\n",
      "WARN: no key question\n",
      "WARN: no key pos_token\n",
      "WARN: no key ne_tags\n",
      "WARN: no key question\n",
      "WARN: no key pos_token\n",
      "WARN: no key ne_tags\n",
      "WARN: no key question\n",
      "WARN: no key pos_token\n",
      "WARN: no key ne_tags\n",
      "WARN: no key question\n",
      "WARN: no key pos_token\n",
      "WARN: no key ne_tags\n",
      "WARN: no key question\n",
      "WARN: no key pos_token\n",
      "WARN: no key ne_tags\n",
      "WARN: no key question\n",
      "WARN: no key pos_token\n",
      "WARN: no key ne_tags\n",
      "WARN: no key question\n",
      "WARN: no key pos_token\n",
      "WARN: no key ne_tags\n",
      "WARN: no key question\n",
      "WARN: no key pos_token\n",
      "WARN: no key ne_tags\n",
      "WARN: no key question\n",
      "WARN: no key pos_token\n",
      "WARN: no key ne_tags\n",
      "WARN: no key question\n",
      "WARN: no key pos_token\n",
      "WARN: no key ne_tags\n",
      "WARN: no key question\n",
      "WARN: no key pos_token\n",
      "WARN: no key ne_tags\n",
      "WARN: no key question\n",
      "WARN: no key pos_token\n",
      "WARN: no key ne_tags\n",
      "WARN: no key question\n",
      "WARN: no key pos_token\n",
      "WARN: no key ne_tags\n",
      "WARN: no key question\n",
      "WARN: no key pos_token\n",
      "WARN: no key ne_tags\n",
      "WARN: no key question\n",
      "WARN: no key pos_token\n",
      "WARN: no key ne_tags\n",
      "WARN: no key question\n",
      "WARN: no key pos_token\n",
      "WARN: no key ne_tags\n",
      "WARN: no key question\n",
      "WARN: no key pos_token\n",
      "WARN: no key ne_tags\n",
      "WARN: no key question\n",
      "WARN: no key pos_token\n",
      "WARN: no key ne_tags\n",
      "WARN: no key question\n",
      "WARN: no key pos_token\n",
      "WARN: no key ne_tags\n",
      "WARN: no key question\n",
      "WARN: no key pos_token\n",
      "WARN: no key ne_tags\n",
      "WARN: no key question\n",
      "WARN: no key pos_token\n",
      "WARN: no key ne_tags\n",
      "WARN: no key question\n",
      "WARN: no key pos_token\n",
      "WARN: no key ne_tags\n",
      "WARN: no key question\n",
      "WARN: no key pos_token\n",
      "WARN: no key ne_tags\n",
      "WARN: no key question\n",
      "WARN: no key pos_token\n",
      "WARN: no key ne_tags\n",
      "WARN: no key question\n",
      "WARN: no key pos_token\n",
      "WARN: no key ne_tags\n",
      "WARN: no key question\n",
      "WARN: no key pos_token\n",
      "WARN: no key ne_tags\n",
      "WARN: no key question\n",
      "WARN: no key pos_token\n",
      "WARN: no key ne_tags\n",
      "WARN: no key question\n",
      "WARN: no key pos_token\n",
      "WARN: no key ne_tags\n",
      "WARN: no key question\n",
      "WARN: no key pos_token\n",
      "WARN: no key ne_tags\n",
      "WARN: no key question\n",
      "WARN: no key pos_token\n",
      "WARN: no key ne_tags\n"
     ]
    }
   ],
   "source": [
    "X_test = featurize(load_buzz(), group='test', sign_val=None, extra=['avg_pos'])\n",
    "add_features(X_test)\n",
    "X_test = select(X_test, wanted_features)"
   ]
  },
  {
   "cell_type": "code",
   "execution_count": 67,
   "metadata": {
    "collapsed": false
   },
   "outputs": [
    {
     "data": {
      "text/plain": [
       "{'acc_ratio_cat': 0.7560975609756098,\n",
       " 'acc_ratio_qid': 0.875,\n",
       " 'acc_ratio_uid': 0.6465863453815262,\n",
       " 'answer': 'thomas cole',\n",
       " 'ave_pos_cat': 43.640185830429736,\n",
       " 'ave_pos_qid': 70.5,\n",
       " 'ave_pos_uid': 96.724899598393577,\n",
       " 'avg_pos_qid': 51.0,\n",
       " 'avg_pos_uid': 30.973895582329316,\n",
       " 'cat_qid': '11',\n",
       " 'cat_uid': '19',\n",
       " 'category': 'Fine Arts',\n",
       " 'group': 'test',\n",
       " 'ne_count': 12,\n",
       " 'ne_mean': 56.5,\n",
       " 'ne_median': 60.5,\n",
       " 'ne_mod': 65,\n",
       " 'ne_nor_mean': 0.7243589743589743,\n",
       " 'q_length': 78,\n",
       " 'qid': 1,\n",
       " 'uid': 1}"
      ]
     },
     "execution_count": 67,
     "metadata": {},
     "output_type": "execute_result"
    }
   ],
   "source": [
    "X_train[1]"
   ]
  },
  {
   "cell_type": "code",
   "execution_count": 68,
   "metadata": {
    "collapsed": false
   },
   "outputs": [
    {
     "data": {
      "text/plain": [
       "{'acc_ratio_cat': 0.65625,\n",
       " 'acc_ratio_qid': 0.6428571428571429,\n",
       " 'acc_ratio_uid': 0.6712328767123288,\n",
       " 'answer': 'david hilbert',\n",
       " 'ave_pos_cat': 18.712499999999999,\n",
       " 'ave_pos_qid': 79.857142857142861,\n",
       " 'ave_pos_uid': 98.863013698630141,\n",
       " 'avg_pos_qid': 15.571428571428571,\n",
       " 'avg_pos_uid': 36.31506849315068,\n",
       " 'cat_qid': '9',\n",
       " 'cat_uid': '19',\n",
       " 'category': 'Mathematics',\n",
       " 'group': 'train',\n",
       " 'ne_count': 9,\n",
       " 'ne_mean': 85.11111111111111,\n",
       " 'ne_median': 97.0,\n",
       " 'ne_mod': 97,\n",
       " 'ne_nor_mean': 0.8105820105820106,\n",
       " 'q_length': 105,\n",
       " 'qid': 9967,\n",
       " 'uid': 131}"
      ]
     },
     "execution_count": 68,
     "metadata": {},
     "output_type": "execute_result"
    }
   ],
   "source": [
    "X_test[1]"
   ]
  },
  {
   "cell_type": "code",
   "execution_count": 69,
   "metadata": {
    "collapsed": false
   },
   "outputs": [],
   "source": [
    "vec = DictVectorizer()\n",
    "vec.fit(X_train + X_test)\n",
    "X_train = vec.transform(X_train)\n",
    "X_test = vec.transform(X_test)"
   ]
  },
  {
   "cell_type": "code",
   "execution_count": 70,
   "metadata": {
    "collapsed": false
   },
   "outputs": [
    {
     "name": "stdout",
     "output_type": "stream",
     "text": [
      "=== l1_ratio: 0.7\n",
      "[  1.56247575e+01   2.90232147e+01   2.64921982e+01 ...,   2.81880926e-02\n",
      "   3.65649402e-06  -4.03491259e-03]\n",
      "0.000404215283508\n",
      "** Adjust results ***\n",
      "** tid qid uid: pred_pos, q_length, diff\n",
      "32193 123840 15 : 34.637656383536715 , 33 , 1.637656383536715\n",
      "32186 123840 28 : 35.24361207333974 , 33 , 2.24361207333974\n",
      "32081 123757 1 : 35.36257254320609 , 29 , 6.362572543206092\n",
      "32067 123750 43 : 26.129213860954515 , 19 , 7.129213860954515\n",
      "32025 123718 39 : 19.960609291697644 , 13 , 6.960609291697644\n",
      "32018 123718 13 : 21.105819699128908 , 13 , 8.105819699128908\n",
      "31997 123709 52 : 33.041388302617 , 17 , 16.041388302617\n",
      "13083 106213 9 : 36.20669745120626 , 21 , 15.20669745120626\n",
      "1232 674 161 : 48.29184378264163 , 48 , 0.291843782641628\n",
      "24990 106373 62 : 30.709411600779525 , 23 , 7.709411600779525\n",
      "\n",
      "** diff_tot 71.68882498910803\n",
      "=== l1_ratio: 0.72\n",
      "[  1.56485094e+01   3.06933469e+01   2.79998630e+01 ...,   2.92317049e-02\n",
      "   3.56475447e-06  -4.00410242e-03]\n",
      "0.000392987081188\n",
      "** Adjust results ***\n",
      "** tid qid uid: pred_pos, q_length, diff\n",
      "32193 123840 15 : 34.17390018721432 , 33 , 1.173900187214322\n",
      "32186 123840 28 : 34.805548522266214 , 33 , 1.8055485222662142\n",
      "32081 123757 1 : 35.34047843416979 , 29 , 6.340478434169789\n",
      "32067 123750 43 : 25.648431985095193 , 19 , 6.648431985095193\n",
      "32025 123718 39 : 19.040153201778402 , 13 , 6.040153201778402\n",
      "32018 123718 13 : 20.227656936532163 , 13 , 7.2276569365321635\n",
      "31997 123709 52 : 32.9338842424172 , 17 , 15.9338842424172\n",
      "13083 106213 9 : 36.00588079923963 , 21 , 15.005880799239627\n",
      "1232 674 161 : 48.93229807644246 , 48 , 0.9322980764424571\n",
      "24990 106373 62 : 30.537411592073816 , 23 , 7.537411592073816\n",
      "\n",
      "** diff_tot 68.64564397722918\n"
     ]
    }
   ],
   "source": [
    "for l1_ratio in [0.7, 0.72]:\n",
    "    print('=== l1_ratio:', l1_ratio)\n",
    "    regressor = linear_model.ElasticNetCV(n_jobs=3, normalize=True, l1_ratio=l1_ratio)\n",
    "    regressor.fit(X_train, y_train)\n",
    "    print(regressor.coef_)\n",
    "    print(regressor.alpha_)\n",
    "    predictions = regressor.predict(X_test)\n",
    "    write_result(load_buzz()['test'], predictions, file_name=str(l1_ratio)+'guess_adj.csv', adj=True)"
   ]
  }
 ],
 "metadata": {
  "kernelspec": {
   "display_name": "Python 3",
   "language": "python",
   "name": "python3"
  },
  "language_info": {
   "codemirror_mode": {
    "name": "ipython",
    "version": 3
   },
   "file_extension": ".py",
   "mimetype": "text/x-python",
   "name": "python",
   "nbconvert_exporter": "python",
   "pygments_lexer": "ipython3",
   "version": "3.4.3"
  }
 },
 "nbformat": 4,
 "nbformat_minor": 0
}
