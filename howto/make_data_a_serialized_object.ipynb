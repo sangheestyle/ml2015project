{
 "cells": [
  {
   "cell_type": "markdown",
   "metadata": {},
   "source": [
    "# Storing and loading questions as a serialized object.\n",
    "\n",
    "As questinos.csv is not easy to use itself, it might be healpful to make the csv file into a serialized object. In this case, we can use pickle, Python object serialization.\n",
    "\n",
    "https://docs.python.org/2/library/pickle.html"
   ]
  },
  {
   "cell_type": "markdown",
   "metadata": {},
   "source": [
    "## Loading csv and make it dictionary\n",
    "\n",
    "First of all, we need to load questions.csv file and convert it into dictionary. If key of the dictionay is question id(qid), we can find questions by key."
   ]
  },
  {
   "cell_type": "code",
   "execution_count": 68,
   "metadata": {
    "collapsed": false
   },
   "outputs": [],
   "source": [
    "import csv\n",
    "import gzip\n",
    "import cPickle as pickle\n",
    "from collections import defaultdict\n",
    "\n",
    "import yaml\n",
    "\n",
    "\n",
    "question_reader = csv.reader(open(\"../data/questions.csv\"))\n",
    "question_header = [\"answer\", \"group\", \"category\", \"question\", \"pos_token\"]\n",
    "questions = defaultdict(dict)\n",
    "for row in question_reader:\n",
    "    question = {}\n",
    "    row[-1] = yaml.load(row[-1].replace(\": u'\", \": '\"))\n",
    "    qid = int(row.pop(0))\n",
    "    for index, item in enumerate(row):\n",
    "        question[question_header[index]] = item\n",
    "    questions[qid] = question"
   ]
  },
  {
   "cell_type": "markdown",
   "metadata": {},
   "source": [
    "Let's check how many items in the dictionary."
   ]
  },
  {
   "cell_type": "code",
   "execution_count": 69,
   "metadata": {
    "collapsed": false
   },
   "outputs": [
    {
     "name": "stdout",
     "output_type": "stream",
     "text": [
      "7949\n"
     ]
    }
   ],
   "source": [
    "print len(questions)"
   ]
  },
  {
   "cell_type": "markdown",
   "metadata": {},
   "source": [
    "Yes, 7949 items is right. How about question numbers? It is continuous number or not? We might want to check the first and last 10 items."
   ]
  },
  {
   "cell_type": "code",
   "execution_count": 70,
   "metadata": {
    "collapsed": false
   },
   "outputs": [
    {
     "name": "stdout",
     "output_type": "stream",
     "text": [
      "[1, 4, 5, 6, 11, 19, 35, 36, 42, 44]\n",
      "[123869, 123875, 123879, 123892, 123896, 123900, 123910, 123911, 123912, 123913]\n"
     ]
    }
   ],
   "source": [
    "print sorted(questions.keys())[:10]\n",
    "print sorted(questions.keys())[-10:]"
   ]
  },
  {
   "cell_type": "markdown",
   "metadata": {},
   "source": [
    "Yes, it's not continuous data in terms of qid. But, it's OK. What about just see one question? How can we do it? Just look at qid 1."
   ]
  },
  {
   "cell_type": "code",
   "execution_count": 71,
   "metadata": {
    "collapsed": false
   },
   "outputs": [
    {
     "data": {
      "text/plain": [
       "{'answer': 'thomas cole',\n",
       " 'category': 'Fine Arts',\n",
       " 'group': 'test',\n",
       " 'pos_token': {0: '',\n",
       "  1: 'painters',\n",
       "  2: 'indulgence',\n",
       "  4: 'visual',\n",
       "  5: 'fantasy',\n",
       "  7: 'appreciation',\n",
       "  9: 'different',\n",
       "  10: 'historic',\n",
       "  11: 'architectural',\n",
       "  12: 'styles',\n",
       "  15: 'seen',\n",
       "  18: '1840',\n",
       "  19: 'architects',\n",
       "  20: 'dream',\n",
       "  23: 'series',\n",
       "  25: 'paintings',\n",
       "  28: 'last',\n",
       "  31: 'mohicans',\n",
       "  33: 'made',\n",
       "  35: 'three',\n",
       "  36: 'year',\n",
       "  37: 'trip',\n",
       "  39: 'europe',\n",
       "  41: '1829',\n",
       "  45: 'better',\n",
       "  46: 'known',\n",
       "  49: 'trip',\n",
       "  50: 'four',\n",
       "  51: 'years',\n",
       "  52: 'earlier',\n",
       "  56: 'journeyed',\n",
       "  59: 'hudson',\n",
       "  60: 'river',\n",
       "  63: 'catskill',\n",
       "  64: 'mountains',\n",
       "  65: 'ftp',\n",
       "  66: 'name',\n",
       "  68: 'this_painter',\n",
       "  71: 'oxbow',\n",
       "  74: 'voyage',\n",
       "  76: 'life',\n",
       "  77: 'series'},\n",
       " 'question': \"This painter's indulgence of visual fantasy, and appreciation of different historic architectural styles can be seen in his 1840 Architect's Dream. After a series of paintings on The Last of the Mohicans, he made a three year trip to Europe in 1829, but he is better known for a trip four years earlier in which he journeyed up the Hudson River to the Catskill Mountains. FTP, name this painter of The Oxbow and The Voyage of Life series.\"}"
      ]
     },
     "execution_count": 71,
     "metadata": {},
     "output_type": "execute_result"
    }
   ],
   "source": [
    "questions[1]"
   ]
  },
  {
   "cell_type": "markdown",
   "metadata": {},
   "source": [
    "Yes, it's dictionary. So, you can use some dictionary functions. Check this out."
   ]
  },
  {
   "cell_type": "code",
   "execution_count": 72,
   "metadata": {
    "collapsed": false
   },
   "outputs": [
    {
     "data": {
      "text/plain": [
       "['answer', 'category', 'group', 'pos_token', 'question']"
      ]
     },
     "execution_count": 72,
     "metadata": {},
     "output_type": "execute_result"
    }
   ],
   "source": [
    "questions[1].keys()"
   ]
  },
  {
   "cell_type": "code",
   "execution_count": 73,
   "metadata": {
    "collapsed": false
   },
   "outputs": [
    {
     "data": {
      "text/plain": [
       "'thomas cole'"
      ]
     },
     "execution_count": 73,
     "metadata": {},
     "output_type": "execute_result"
    }
   ],
   "source": [
    "questions[1]['answer']"
   ]
  },
  {
   "cell_type": "code",
   "execution_count": 74,
   "metadata": {
    "collapsed": false
   },
   "outputs": [
    {
     "data": {
      "text/plain": [
       "{0: '',\n",
       " 1: 'painters',\n",
       " 2: 'indulgence',\n",
       " 4: 'visual',\n",
       " 5: 'fantasy',\n",
       " 7: 'appreciation',\n",
       " 9: 'different',\n",
       " 10: 'historic',\n",
       " 11: 'architectural',\n",
       " 12: 'styles',\n",
       " 15: 'seen',\n",
       " 18: '1840',\n",
       " 19: 'architects',\n",
       " 20: 'dream',\n",
       " 23: 'series',\n",
       " 25: 'paintings',\n",
       " 28: 'last',\n",
       " 31: 'mohicans',\n",
       " 33: 'made',\n",
       " 35: 'three',\n",
       " 36: 'year',\n",
       " 37: 'trip',\n",
       " 39: 'europe',\n",
       " 41: '1829',\n",
       " 45: 'better',\n",
       " 46: 'known',\n",
       " 49: 'trip',\n",
       " 50: 'four',\n",
       " 51: 'years',\n",
       " 52: 'earlier',\n",
       " 56: 'journeyed',\n",
       " 59: 'hudson',\n",
       " 60: 'river',\n",
       " 63: 'catskill',\n",
       " 64: 'mountains',\n",
       " 65: 'ftp',\n",
       " 66: 'name',\n",
       " 68: 'this_painter',\n",
       " 71: 'oxbow',\n",
       " 74: 'voyage',\n",
       " 76: 'life',\n",
       " 77: 'series'}"
      ]
     },
     "execution_count": 74,
     "metadata": {},
     "output_type": "execute_result"
    }
   ],
   "source": [
    "questions[1]['pos_token']"
   ]
  },
  {
   "cell_type": "code",
   "execution_count": 75,
   "metadata": {
    "collapsed": false
   },
   "outputs": [
    {
     "data": {
      "text/plain": [
       "[0,\n",
       " 1,\n",
       " 2,\n",
       " 4,\n",
       " 5,\n",
       " 7,\n",
       " 9,\n",
       " 10,\n",
       " 11,\n",
       " 12,\n",
       " 15,\n",
       " 18,\n",
       " 19,\n",
       " 20,\n",
       " 23,\n",
       " 25,\n",
       " 28,\n",
       " 31,\n",
       " 33,\n",
       " 35,\n",
       " 36,\n",
       " 37,\n",
       " 39,\n",
       " 41,\n",
       " 45,\n",
       " 46,\n",
       " 49,\n",
       " 50,\n",
       " 51,\n",
       " 52,\n",
       " 56,\n",
       " 59,\n",
       " 60,\n",
       " 63,\n",
       " 64,\n",
       " 65,\n",
       " 66,\n",
       " 68,\n",
       " 71,\n",
       " 74,\n",
       " 76,\n",
       " 77]"
      ]
     },
     "execution_count": 75,
     "metadata": {},
     "output_type": "execute_result"
    }
   ],
   "source": [
    "questions[1]['pos_token'].keys()"
   ]
  },
  {
   "cell_type": "code",
   "execution_count": 76,
   "metadata": {
    "collapsed": false
   },
   "outputs": [
    {
     "data": {
      "text/plain": [
       "['',\n",
       " 'painters',\n",
       " 'indulgence',\n",
       " 'visual',\n",
       " 'fantasy',\n",
       " 'appreciation',\n",
       " 'different',\n",
       " 'historic',\n",
       " 'architectural',\n",
       " 'styles',\n",
       " 'seen',\n",
       " '1840',\n",
       " 'architects',\n",
       " 'dream',\n",
       " 'series',\n",
       " 'paintings',\n",
       " 'last',\n",
       " 'mohicans',\n",
       " 'made',\n",
       " 'three',\n",
       " 'year',\n",
       " 'trip',\n",
       " 'europe',\n",
       " '1829',\n",
       " 'better',\n",
       " 'known',\n",
       " 'trip',\n",
       " 'four',\n",
       " 'years',\n",
       " 'earlier',\n",
       " 'journeyed',\n",
       " 'hudson',\n",
       " 'river',\n",
       " 'catskill',\n",
       " 'mountains',\n",
       " 'ftp',\n",
       " 'name',\n",
       " 'this_painter',\n",
       " 'oxbow',\n",
       " 'voyage',\n",
       " 'life',\n",
       " 'series']"
      ]
     },
     "execution_count": 76,
     "metadata": {},
     "output_type": "execute_result"
    }
   ],
   "source": [
    "questions[1]['pos_token'].values()"
   ]
  },
  {
   "cell_type": "code",
   "execution_count": 77,
   "metadata": {
    "collapsed": false
   },
   "outputs": [
    {
     "data": {
      "text/plain": [
       "[(0, ''),\n",
       " (1, 'painters'),\n",
       " (2, 'indulgence'),\n",
       " (4, 'visual'),\n",
       " (5, 'fantasy'),\n",
       " (7, 'appreciation'),\n",
       " (9, 'different'),\n",
       " (10, 'historic'),\n",
       " (11, 'architectural'),\n",
       " (12, 'styles'),\n",
       " (15, 'seen'),\n",
       " (18, '1840'),\n",
       " (19, 'architects'),\n",
       " (20, 'dream'),\n",
       " (23, 'series'),\n",
       " (25, 'paintings'),\n",
       " (28, 'last'),\n",
       " (31, 'mohicans'),\n",
       " (33, 'made'),\n",
       " (35, 'three'),\n",
       " (36, 'year'),\n",
       " (37, 'trip'),\n",
       " (39, 'europe'),\n",
       " (41, '1829'),\n",
       " (45, 'better'),\n",
       " (46, 'known'),\n",
       " (49, 'trip'),\n",
       " (50, 'four'),\n",
       " (51, 'years'),\n",
       " (52, 'earlier'),\n",
       " (56, 'journeyed'),\n",
       " (59, 'hudson'),\n",
       " (60, 'river'),\n",
       " (63, 'catskill'),\n",
       " (64, 'mountains'),\n",
       " (65, 'ftp'),\n",
       " (66, 'name'),\n",
       " (68, 'this_painter'),\n",
       " (71, 'oxbow'),\n",
       " (74, 'voyage'),\n",
       " (76, 'life'),\n",
       " (77, 'series')]"
      ]
     },
     "execution_count": 77,
     "metadata": {},
     "output_type": "execute_result"
    }
   ],
   "source": [
    "questions[1]['pos_token'].items()"
   ]
  },
  {
   "cell_type": "markdown",
   "metadata": {},
   "source": [
    "How can figure out questions length without tokenizing question it self?"
   ]
  },
  {
   "cell_type": "code",
   "execution_count": 78,
   "metadata": {
    "collapsed": false
   },
   "outputs": [
    {
     "data": {
      "text/plain": [
       "77"
      ]
     },
     "execution_count": 78,
     "metadata": {},
     "output_type": "execute_result"
    }
   ],
   "source": [
    "max(questions[1]['pos_token'].keys())"
   ]
  },
  {
   "cell_type": "markdown",
   "metadata": {},
   "source": [
    "## Make questions pickled data\n",
    "As you know that, reading csv and coverting it as a dictionary spend more than one minute. Once we convert it as a dictionary, we can save it as a pickled data and we can load it when we need. It is really simple and fast. Look at that!\n",
    "\n",
    "Wait! We will use gzip.open instead of open because pickled file is too big. So we will use compression. It's easy and it consumes only 1/10 size of that of original one. Of course, it will take few more seconds than plain one.\n",
    "\n",
    "* original: 1 sec in my PC\n",
    "* compressed: 5 sec in my PC\n",
    "\n",
    "Also, \"wb\" means writing as binary mode, and \"rb\" means reading file as binary mode."
   ]
  },
  {
   "cell_type": "code",
   "execution_count": 93,
   "metadata": {
    "collapsed": false
   },
   "outputs": [],
   "source": [
    "with gzip.open(\"questions.pklz\", \"wb\") as output:\n",
    "    pickle.dump(questions, output)"
   ]
  },
  {
   "cell_type": "markdown",
   "metadata": {},
   "source": [
    "Yes, now we can load pickled data as a variable."
   ]
  },
  {
   "cell_type": "code",
   "execution_count": 94,
   "metadata": {
    "collapsed": false
   },
   "outputs": [
    {
     "name": "stdout",
     "output_type": "stream",
     "text": [
      "7949\n"
     ]
    }
   ],
   "source": [
    "with gzip.open(\"questions.pklz\", \"rb\") as fp:\n",
    "    questions_new = pickle.load(fp)\n",
    "print len(questions_new)"
   ]
  },
  {
   "cell_type": "markdown",
   "metadata": {},
   "source": [
    "Yes, it took only few second. I will save it, make it as a commit, and push it into github. So, you can use pickled data instead of converting questions.csv"
   ]
  },
  {
   "cell_type": "code",
   "execution_count": 95,
   "metadata": {
    "collapsed": false
   },
   "outputs": [
    {
     "name": "stdout",
     "output_type": "stream",
     "text": [
      "True\n"
     ]
    }
   ],
   "source": [
    "print questions == questions"
   ]
  },
  {
   "cell_type": "code",
   "execution_count": 96,
   "metadata": {
    "collapsed": false
   },
   "outputs": [
    {
     "name": "stdout",
     "output_type": "stream",
     "text": [
      "True\n"
     ]
    }
   ],
   "source": [
    "print questions == questions_new"
   ]
  },
  {
   "cell_type": "code",
   "execution_count": 97,
   "metadata": {
    "collapsed": true
   },
   "outputs": [],
   "source": [
    "questions_new[0] = 1"
   ]
  },
  {
   "cell_type": "code",
   "execution_count": 98,
   "metadata": {
    "collapsed": false
   },
   "outputs": [
    {
     "name": "stdout",
     "output_type": "stream",
     "text": [
      "False\n"
     ]
    }
   ],
   "source": [
    "print questions == questions_new"
   ]
  },
  {
   "cell_type": "markdown",
   "metadata": {},
   "source": [
    "Yes, pickled data is exactly same with original one."
   ]
  }
 ],
 "metadata": {
  "kernelspec": {
   "display_name": "Python 2",
   "language": "python",
   "name": "python2"
  },
  "language_info": {
   "codemirror_mode": {
    "name": "ipython",
    "version": 2
   },
   "file_extension": ".py",
   "mimetype": "text/x-python",
   "name": "python",
   "nbconvert_exporter": "python",
   "pygments_lexer": "ipython2",
   "version": "2.7.8"
  }
 },
 "nbformat": 4,
 "nbformat_minor": 0
}
