{
 "cells": [
  {
   "cell_type": "markdown",
   "metadata": {},
   "source": [
    "# Analysis01: from the key"
   ]
  },
  {
   "cell_type": "code",
   "execution_count": 18,
   "metadata": {
    "collapsed": false
   },
   "outputs": [],
   "source": [
    "%matplotlib inline\n",
    "import numpy as np\n",
    "import matplotlib.pyplot as plt\n",
    "\n",
    "from utils import load_buzz, select, write_result\n",
    "from containers import Questions, Users, Categories"
   ]
  },
  {
   "cell_type": "code",
   "execution_count": 19,
   "metadata": {
    "collapsed": true
   },
   "outputs": [],
   "source": [
    "import pickle\n",
    "\n",
    "\n",
    "questions = pickle.load(open('questions01.pkl', 'rb'))\n",
    "users = pickle.load(open('users01.pkl', 'rb'))\n",
    "categories = pickle.load(open('categories01.pkl', 'rb'))"
   ]
  },
  {
   "cell_type": "code",
   "execution_count": 24,
   "metadata": {
    "collapsed": true
   },
   "outputs": [],
   "source": [
    "import csv\n",
    "\n",
    "origin_key = csv.DictReader(open('../data/key.csv'))\n",
    "key = {int(item['id']): float(item['position']) for item in origin_key}\n",
    "\n",
    "origin_guess = csv.DictReader(open('../data/0.7guess_adj.csv'))\n",
    "guess = {int(item['id']): float(item['position']) for item in origin_guess}\n",
    "\n",
    "test_set = load_buzz()['test']"
   ]
  },
  {
   "cell_type": "code",
   "execution_count": 25,
   "metadata": {
    "collapsed": true
   },
   "outputs": [],
   "source": [
    "stat = test_set.copy()"
   ]
  },
  {
   "cell_type": "code",
   "execution_count": 26,
   "metadata": {
    "collapsed": false
   },
   "outputs": [
    {
     "data": {
      "text/plain": [
       "-222.0"
      ]
     },
     "execution_count": 26,
     "metadata": {},
     "output_type": "execute_result"
    }
   ],
   "source": [
    "key[25844]"
   ]
  },
  {
   "cell_type": "code",
   "execution_count": 27,
   "metadata": {
    "collapsed": false
   },
   "outputs": [
    {
     "data": {
      "text/plain": [
       "68.86399251560573"
      ]
     },
     "execution_count": 27,
     "metadata": {},
     "output_type": "execute_result"
    }
   ],
   "source": [
    "guess[25844]"
   ]
  },
  {
   "cell_type": "code",
   "execution_count": 34,
   "metadata": {
    "collapsed": false
   },
   "outputs": [
    {
     "data": {
      "text/plain": [
       "-290.86399251560573"
      ]
     },
     "execution_count": 34,
     "metadata": {},
     "output_type": "execute_result"
    }
   ],
   "source": [
    "-68.86399251560573-222 "
   ]
  },
  {
   "cell_type": "code",
   "execution_count": 29,
   "metadata": {
    "collapsed": true
   },
   "outputs": [],
   "source": [
    "import math"
   ]
  },
  {
   "cell_type": "code",
   "execution_count": 33,
   "metadata": {
    "collapsed": false
   },
   "outputs": [
    {
     "data": {
      "text/plain": [
       "-84601.86214211835"
      ]
     },
     "execution_count": 33,
     "metadata": {},
     "output_type": "execute_result"
    }
   ],
   "source": [
    "-290.86399251560573**2"
   ]
  },
  {
   "cell_type": "code",
   "execution_count": 37,
   "metadata": {
    "collapsed": false
   },
   "outputs": [
    {
     "data": {
      "text/plain": [
       "78"
      ]
     },
     "execution_count": 37,
     "metadata": {},
     "output_type": "execute_result"
    }
   ],
   "source": []
  },
  {
   "cell_type": "code",
   "execution_count": null,
   "metadata": {
    "collapsed": true
   },
   "outputs": [],
   "source": []
  },
  {
   "cell_type": "code",
   "execution_count": 62,
   "metadata": {
    "collapsed": false
   },
   "outputs": [
    {
     "data": {
      "image/png": "[encoded data removed]",
      "text/plain": [
       "<matplotlib.figure.Figure at 0x7f8b804f19e8>"
      ]
     },
     "metadata": {},
     "output_type": "display_data"
    }
   ],
   "source": [
    "q_lengths = [len(questions[key]['question'].split()) for key in questions]\n",
    "plt.hist(q_lengths, bins=50, align='left', facecolor='g', alpha=0.50)\n",
    "plt.xlabel(\"Question length\")\n",
    "plt.ylabel(\"Count\")\n",
    "plt.title(\"Question lengths\")\n",
    "plt.grid(True)\n",
    "plt.show()"
   ]
  },
  {
   "cell_type": "code",
   "execution_count": 64,
   "metadata": {
    "collapsed": false
   },
   "outputs": [
    {
     "data": {
      "image/png": "[encoded data removed]",
      "text/plain": [
       "<matplotlib.figure.Figure at 0x7f8b8047a668>"
      ]
     },
     "metadata": {},
     "output_type": "display_data"
    }
   ],
   "source": [
    "guess_pos = [guess[key] for key in guess]\n",
    "plt.hist(guess_pos, bins=50, align='left', facecolor='y', alpha=0.50)\n",
    "plt.xlabel(\"Pos\")\n",
    "plt.ylabel(\"Count\")\n",
    "plt.title(\"Positions of guess\")\n",
    "plt.grid(True)\n",
    "plt.show()"
   ]
  },
  {
   "cell_type": "code",
   "execution_count": 78,
   "metadata": {
    "collapsed": false
   },
   "outputs": [
    {
     "data": {
      "image/png": "[encoded data removed]",
      "text/plain": [
       "<matplotlib.figure.Figure at 0x7f8b7e320f28>"
      ]
     },
     "metadata": {},
     "output_type": "display_data"
    }
   ],
   "source": [
    "key_pos = [key[id] for id in key]\n",
    "plt.hist(key_pos, bins=100, align='left', facecolor='b', alpha=0.50)\n",
    "plt.xlabel(\"Pos\")\n",
    "plt.ylabel(\"Count\")\n",
    "plt.title(\"Positions of key\")\n",
    "plt.grid(True)\n",
    "plt.show()"
   ]
  },
  {
   "cell_type": "code",
   "execution_count": 75,
   "metadata": {
    "collapsed": false
   },
   "outputs": [
    {
     "data": {
      "image/png": "[encoded data removed]",
      "text/plain": [
       "<matplotlib.figure.Figure at 0x7f8b7dd09668>"
      ]
     },
     "metadata": {},
     "output_type": "display_data"
    }
   ],
   "source": [
    "train = load_buzz()['train']\n",
    "key_pos = [train[id]['position'] for id in train]\n",
    "plt.hist(key_pos, bins=100, align='left', facecolor='b', alpha=0.50)\n",
    "plt.xlabel(\"Pos\")\n",
    "plt.ylabel(\"Count\")\n",
    "plt.title(\"Positions of train set\")\n",
    "plt.grid(True)\n",
    "plt.show()"
   ]
  },
  {
   "cell_type": "code",
   "execution_count": 73,
   "metadata": {
    "collapsed": false
   },
   "outputs": [
    {
     "data": {
      "image/png": "[encoded data removed]",
      "text/plain": [
       "<matplotlib.figure.Figure at 0x7f8b7e1c93c8>"
      ]
     },
     "metadata": {},
     "output_type": "display_data"
    }
   ],
   "source": [
    "plt.hist(guess_pos, bins=range(-300, 200), align='left', rwidth=50, facecolor='b', alpha=0.30)\n",
    "plt.hist(key_pos, bins=range(-300, 200), align='left', rwidth=50, facecolor='g', alpha=0.30)\n",
    "plt.xlabel(\"Pos\")\n",
    "plt.ylabel(\"Count\")\n",
    "plt.title(\"Positions of key\")\n",
    "plt.grid(True)\n",
    "plt.show()"
   ]
  },
  {
   "cell_type": "code",
   "execution_count": 76,
   "metadata": {
    "collapsed": false
   },
   "outputs": [
    {
     "data": {
      "text/plain": [
       "{'acc_ratio_qid': 0.8888888888888888,\n",
       " 'answer': 'eugene delacroix',\n",
       " 'ave_pos_qid': 62.814814814814817,\n",
       " 'cat_qid': '5',\n",
       " 'category': 'Fine Arts',\n",
       " 'group': 'test',\n",
       " 'ne_count': 19,\n",
       " 'ne_mean': 48.68421052631579,\n",
       " 'ne_median': 43.0,\n",
       " 'ne_mod': 34,\n",
       " 'ne_nor_mean': 0.6241565452091767,\n",
       " 'ne_tags': [['ORGANIZATION', 'Chapelle', 6],\n",
       "  ['PERSON', 'Anges', 8],\n",
       "  ['ORGANIZATION', 'Heliodorus', 15],\n",
       "  ['PERSON', 'Rumored', 22],\n",
       "  ['GPE', 'Talleyrand', 28],\n",
       "  ['ORGANIZATION', 'Paris', 34],\n",
       "  ['CD', '1822', 37],\n",
       "  ['PERSON', 'Dante', 39],\n",
       "  ['GPE', 'Virgil', 41],\n",
       "  ['GPE', 'Hell', 43],\n",
       "  ['PERSON', 'Africa', 50],\n",
       "  ['GPE', 'Algiers', 60],\n",
       "  ['ORGANIZATION', 'Massacre', 66],\n",
       "  ['GSP', 'Chios', 68],\n",
       "  ['GPE', 'Sardanopolus', 75],\n",
       "  ['ORGANIZATION', 'FTP', 78],\n",
       "  ['GPE', 'French', 83],\n",
       "  ['ORGANIZATION', 'Romantic', 84],\n",
       "  ['PERSON', 'Liberty', 88]],\n",
       " 'pos_token': {0: '',\n",
       "  1: 'artists',\n",
       "  2: 'decorations',\n",
       "  5: 'chapelle',\n",
       "  6: 'des',\n",
       "  7: 'anges',\n",
       "  10: 'sulpice',\n",
       "  11: 'included',\n",
       "  13: 'heliodorus',\n",
       "  14: 'expelled',\n",
       "  17: 'temple',\n",
       "  18: 'rumored',\n",
       "  22: 'son',\n",
       "  24: 'talleyrand',\n",
       "  26: 'debuted',\n",
       "  29: 'paris',\n",
       "  30: 'salon',\n",
       "  32: '1822',\n",
       "  34: 'dante',\n",
       "  36: 'virgil',\n",
       "  38: 'hell',\n",
       "  41: 'trip',\n",
       "  43: 'northern',\n",
       "  44: 'africa',\n",
       "  45: 'provided',\n",
       "  46: 'inspiration',\n",
       "  48: 'exotic',\n",
       "  49: 'subjects',\n",
       "  50: 'like',\n",
       "  52: 'women',\n",
       "  54: 'algiers',\n",
       "  55: 'creator',\n",
       "  58: 'massacre',\n",
       "  60: 'chios',\n",
       "  63: 'death',\n",
       "  65: 'sardanopolus',\n",
       "  66: 'ftp',\n",
       "  70: 'this_french',\n",
       "  71: 'romantic',\n",
       "  72: 'painter',\n",
       "  74: 'liberty',\n",
       "  75: 'leading',\n",
       "  77: 'people'},\n",
       " 'q_acc_ratio_cat': 0.7560975609756098,\n",
       " 'q_ave_pos_cat': 43.640185830429736,\n",
       " 'question': 'This artist\\'s decorations for the Chapelle des Anges of S. Sulpice included his \"Heliodorus Expelled from the Temple\". Rumored to be the son of Talleyrand, he debuted at the Paris Salon of 1822 with Dante and Virgil in Hell, while a trip to northern Africa provided inspiration for exotic subjects like The Women of Algiers. Creator of \"The Massacre at Chios\" and \"The Death of Sardanopolus\", FTP, who was this French Romantic painter of \"Liberty Leading the People\"?'}"
      ]
     },
     "execution_count": 76,
     "metadata": {},
     "output_type": "execute_result"
    }
   ],
   "source": [
    "questions[81]"
   ]
  },
  {
   "cell_type": "code",
   "execution_count": 79,
   "metadata": {
    "collapsed": true
   },
   "outputs": [],
   "source": [
    "from sklearn.preprocessing import normalize"
   ]
  },
  {
   "cell_type": "code",
   "execution_count": 81,
   "metadata": {
    "collapsed": false
   },
   "outputs": [
    {
     "data": {
      "text/plain": [
       "array([[-0.05923489, -0.11846978,  0.17770466,  0.23693955,  0.29617444,\n",
       "         0.35540933,  0.41464421,  0.4738791 ,  0.53311399]])"
      ]
     },
     "execution_count": 81,
     "metadata": {},
     "output_type": "execute_result"
    }
   ],
   "source": [
    "normalize([-0.1, -0.2, 0.3, 0.4, 0.5, 0.6, 0.7, 0.8, 0.9])"
   ]
  },
  {
   "cell_type": "code",
   "execution_count": null,
   "metadata": {
    "collapsed": true
   },
   "outputs": [],
   "source": []
  }
 ],
 "metadata": {
  "kernelspec": {
   "display_name": "Python 3",
   "language": "python",
   "name": "python3"
  },
  "language_info": {
   "codemirror_mode": {
    "name": "ipython",
    "version": 3
   },
   "file_extension": ".py",
   "mimetype": "text/x-python",
   "name": "python",
   "nbconvert_exporter": "python",
   "pygments_lexer": "ipython3",
   "version": "3.4.3"
  }
 },
 "nbformat": 4,
 "nbformat_minor": 0
}
